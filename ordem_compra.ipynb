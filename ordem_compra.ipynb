{
 "cells": [
  {
   "cell_type": "code",
   "execution_count": 20,
   "metadata": {},
   "outputs": [],
   "source": [
    "#pip install mysql-connector-python"
   ]
  },
  {
   "cell_type": "code",
   "execution_count": 21,
   "metadata": {},
   "outputs": [],
   "source": [
    "import mysql.connector\n",
    "from mysql.connector import Error\n",
    "from random import randint, choice, uniform\n",
    "from faker import Faker\n",
    "import pandas as pd"
   ]
  },
  {
   "cell_type": "code",
   "execution_count": 22,
   "metadata": {},
   "outputs": [
    {
     "name": "stdout",
     "output_type": "stream",
     "text": [
      "Conexão ao banco de dados bem-sucedida.\n"
     ]
    }
   ],
   "source": [
    "db_config = {\n",
    "    'host': 'localhost',\n",
    "    'user': 'root',\n",
    "    'password': '22976738',\n",
    "    'database': 'teste1'\n",
    "}\n",
    "\n",
    "\n",
    "try:\n",
    "    connection = mysql.connector.connect(**db_config)\n",
    "    if connection.is_connected():\n",
    "        print(\"Conexão ao banco de dados bem-sucedida.\")   \n",
    "except mysql.connector.Error as e:\n",
    "    print(f\"Erro ao conectar ao banco de dados: {e}\")\n",
    "    \n",
    "    \n",
    "conn = mysql.connector.connect(**db_config)\n",
    "cursor = conn.cursor()\n"
   ]
  },
  {
   "cell_type": "code",
   "execution_count": 23,
   "metadata": {},
   "outputs": [],
   "source": [
    "\n",
    "create_table_ordem_compra = \"\"\"\n",
    "\n",
    "    CREATE TABLE IF NOT EXISTS ordem_compra(\n",
    "     id INT PRIMARY KEY AUTO_INCREMENT NOT NULL,\n",
    "     data_emissao DATE NOT NULL,\n",
    "     quantidade_produto FLOAT NOT NULL,\n",
    "     valor_unidade FLOAT NOT NULL,\n",
    "     id_produto INT NOT NULL,\n",
    "     id_fornecedor INT NOT NULL,\n",
    "     status_ordem VARCHAR(20) NOT NULL,\n",
    "     CONSTRAINT codigo_produto FOREIGN KEY (id_produto) REFERENCES produtos(id),\n",
    "     CONSTRAINT codigo_fornecedor FOREIGN KEY (id_fornecedor) references fornecedor(id)\n",
    "    );\n",
    "\"\"\"\n",
    "\n",
    "\n",
    "cursor.execute(create_table_ordem_compra)\n",
    "conn.commit()"
   ]
  },
  {
   "cell_type": "code",
   "execution_count": 24,
   "metadata": {},
   "outputs": [
    {
     "name": "stdout",
     "output_type": "stream",
     "text": [
      "ID: 11447, Data Emissao: 2023-07-02 00:00:00, Quantidade: 1537, Valor: 1352, ID Produto: 20, ID Fornecedor: 8\n",
      "INSERT INTO ordem_compra (data_emissao, quantidade_produto, valor_unidade, id_produto, id_fornecedor, status_ordem) VALUES ('2023-07-02 00:00:00', 1537, 1352, 20, 8, 'Aguardando');\n",
      "ID: 4327, Data Emissao: 2021-04-22 00:00:00, Quantidade: 924, Valor: 9535, ID Produto: 1, ID Fornecedor: 8\n",
      "INSERT INTO ordem_compra (data_emissao, quantidade_produto, valor_unidade, id_produto, id_fornecedor, status_ordem) VALUES ('2021-04-22 00:00:00', 924, 9535, 1, 8, 'Aguardando');\n",
      "ID: 5177, Data Emissao: 2021-07-28 00:00:00, Quantidade: 2895, Valor: 6158, ID Produto: 13, ID Fornecedor: 9\n",
      "INSERT INTO ordem_compra (data_emissao, quantidade_produto, valor_unidade, id_produto, id_fornecedor, status_ordem) VALUES ('2021-07-28 00:00:00', 2895, 6158, 13, 9, 'Processando');\n",
      "ID: 1449, Data Emissao: 2020-06-09 00:00:00, Quantidade: 2533, Valor: 8983, ID Produto: 17, ID Fornecedor: 5\n",
      "INSERT INTO ordem_compra (data_emissao, quantidade_produto, valor_unidade, id_produto, id_fornecedor, status_ordem) VALUES ('2020-06-09 00:00:00', 2533, 8983, 17, 5, 'Processando');\n",
      "ID: 13533, Data Emissao: NaT, Quantidade: 1441, Valor: 3838, ID Produto: 22, ID Fornecedor: 7\n",
      "INSERT INTO ordem_compra (data_emissao, quantidade_produto, valor_unidade, id_produto, id_fornecedor, status_ordem) VALUES ('NaT', 1441, 3838, 22, 7, 'Concluído');\n",
      "Conexão fechada com sucesso.\n"
     ]
    }
   ],
   "source": [
    "df_produtos = pd.read_excel('C:/Users/user/Documents/GitHub/EMBRAER--Custo-Manutencao-de-Estoque-/dados_kardex.xlsx', sheet_name='produtos')\n",
    "df_kardex = pd.read_excel('C:/Users/user/Documents/GitHub/EMBRAER--Custo-Manutencao-de-Estoque-/dados_kardex.xlsx', sheet_name='kardex')\n",
    "df_fornecedor = pd.read_excel('C:/Users/user/Documents/GitHub/EMBRAER--Custo-Manutencao-de-Estoque-/dados_kardex.xlsx', sheet_name='fornecedor')\n",
    "\n",
    "fake = Faker('pt_BR')\n",
    "\n",
    "for _ in range(5):\n",
    "    id_compra = fake.random_int(min=0, max=len(df_kardex) - 1)\n",
    "    data_emissao = df_kardex.loc[id_compra, 'entrada']\n",
    "    quantidade_produto = int(fake.random_int(min=500, max=2995))\n",
    "    valor_unidade = int(fake.random_int(min=200, max=10000))\n",
    "    id_produto = randint(1, 22)\n",
    "    id_fornecedor = randint(1, 11)\n",
    "    status_ordem = fake.random_element(elements=('Aguardando', 'Processando', 'Concluído'))\n",
    "\n",
    "\n",
    "\n",
    "    print(f\"ID: {id_compra}, Data Emissao: {data_emissao}, Quantidade: {quantidade_produto}, Valor: {valor_unidade}, ID Produto: {id_produto}, ID Fornecedor: {id_fornecedor}\")\n",
    "    \n",
    "    \n",
    "\n",
    "    print(f\"INSERT INTO ordem_compra (data_emissao, quantidade_produto, valor_unidade, id_produto, id_fornecedor, status_ordem) VALUES \"\n",
    "          f\"('{data_emissao}', {quantidade_produto}, {valor_unidade}, {id_produto}, {id_fornecedor}, '{status_ordem}');\")\n",
    "\n",
    "    insert_query = \"INSERT INTO ordem_compra (data_emissao, quantidade_produto, valor_unidade, id_produto, id_fornecedor, status_ordem) VALUES (%s, %s, %s, %s, %s, %s)\"\n",
    "    data = (data_emissao, quantidade_produto, valor_unidade, id_produto, id_fornecedor, status_ordem)\n",
    "\n",
    "    try:\n",
    "        cursor.execute(insert_query, data)\n",
    "        conn.commit()\n",
    "    except Exception as e:\n",
    "        print(f\"Erro ao inserir dados: {e}\")\n",
    "        \n",
    "        \n",
    "try:\n",
    "    cursor.close()\n",
    "    print(\"Conexão fechada com sucesso.\")\n",
    "    conn.close()\n",
    "except Exception as e:\n",
    "    print(f\"Erro ao fechar a conexão: {e}\")  \n",
    "        "
   ]
  }
 ],
 "metadata": {
  "kernelspec": {
   "display_name": "Python 3",
   "language": "python",
   "name": "python3"
  },
  "language_info": {
   "codemirror_mode": {
    "name": "ipython",
    "version": 3
   },
   "file_extension": ".py",
   "mimetype": "text/x-python",
   "name": "python",
   "nbconvert_exporter": "python",
   "pygments_lexer": "ipython3",
   "version": "3.11.5"
  }
 },
 "nbformat": 4,
 "nbformat_minor": 2
}
