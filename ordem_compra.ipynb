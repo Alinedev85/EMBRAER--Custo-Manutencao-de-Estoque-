{
 "cells": [
  {
   "cell_type": "code",
   "execution_count": 9,
   "metadata": {},
   "outputs": [
    {
     "name": "stdout",
     "output_type": "stream",
     "text": [
      "Requirement already satisfied: mysql-connector-python in c:\\python311\\lib\\site-packages (8.1.0)\n",
      "Requirement already satisfied: protobuf<=4.21.12,>=4.21.1 in c:\\python311\\lib\\site-packages (from mysql-connector-python) (4.21.12)\n",
      "Note: you may need to restart the kernel to use updated packages.\n"
     ]
    }
   ],
   "source": [
    "pip install mysql-connector-python"
   ]
  },
  {
   "cell_type": "code",
   "execution_count": 10,
   "metadata": {},
   "outputs": [],
   "source": [
    "import mysql.connector\n",
    "from mysql.connector import Error\n",
    "from random import randint, choice, uniform\n",
    "from faker import Faker"
   ]
  },
  {
   "cell_type": "code",
   "execution_count": 11,
   "metadata": {},
   "outputs": [
    {
     "name": "stdout",
     "output_type": "stream",
     "text": [
      "Conexão ao banco de dados bem-sucedida.\n"
     ]
    }
   ],
   "source": [
    "db_config = {\n",
    "    'host': 'localhost',\n",
    "    'user': 'root',\n",
    "    'password': '22976738',\n",
    "    'database': 'Embraer2'\n",
    "}\n",
    "\n",
    "\n",
    "try:\n",
    "    connection = mysql.connector.connect(**db_config)\n",
    "    if connection.is_connected():\n",
    "        print(\"Conexão ao banco de dados bem-sucedida.\")   \n",
    "except mysql.connector.Error as e:\n",
    "    print(f\"Erro ao conectar ao banco de dados: {e}\")\n",
    "    \n",
    "    \n",
    "conn = mysql.connector.connect(**db_config)\n",
    "cursor = conn.cursor()\n"
   ]
  },
  {
   "cell_type": "code",
   "execution_count": 12,
   "metadata": {},
   "outputs": [],
   "source": [
    "\n",
    "create_table_ordem_compra = \"\"\"\n",
    "\n",
    "    CREATE TABLE IF NOT EXISTS ordem_compra(\n",
    "     id int primary key auto_increment not null,\n",
    "     data_emissao date not null,\n",
    "     quantidade_produto float not null,\n",
    "     valor_unidade float not null,\n",
    "     id_produto int not null,\n",
    "     id_fornecedor int not null,\n",
    "     constraint codigo_produto foreign key\n",
    "     (id_produto) references produtos(id),\n",
    "     constraint codigo_fornecedor foreign key\n",
    "     (id_fornecedor) references fornecedor(id)\n",
    "    );\n",
    "\"\"\"\n",
    "\n",
    "\n",
    "cursor.execute(create_table_ordem_compra)\n",
    "conn.commit()"
   ]
  },
  {
   "cell_type": "code",
   "execution_count": 13,
   "metadata": {},
   "outputs": [
    {
     "name": "stdout",
     "output_type": "stream",
     "text": [
      "INSERT INTO ordem_compra (data_emissao, quantidade_produto, valor_unidade, id_produto, id_fornecedor) VALUES ('2023-12-01', 91, 9200, 2, 2);\n",
      "INSERT INTO ordem_compra (data_emissao, quantidade_produto, valor_unidade, id_produto, id_fornecedor) VALUES ('2023-11-27', 41, 8400, 2, 2);\n",
      "INSERT INTO ordem_compra (data_emissao, quantidade_produto, valor_unidade, id_produto, id_fornecedor) VALUES ('2023-11-22', 38, 6000, 2, 2);\n",
      "INSERT INTO ordem_compra (data_emissao, quantidade_produto, valor_unidade, id_produto, id_fornecedor) VALUES ('2023-11-16', 61, 4200, 1, 4);\n",
      "INSERT INTO ordem_compra (data_emissao, quantidade_produto, valor_unidade, id_produto, id_fornecedor) VALUES ('2023-11-15', 14, 3600, 2, 1);\n",
      "Conexão fechada com sucesso.\n"
     ]
    }
   ],
   "source": [
    "fake = Faker('pt_BR')\n",
    "\n",
    "for _ in range(5):\n",
    "    data_emissao = fake.date_between(start_date='-30d', end_date='today')\n",
    "    quantidade_produto = randint(1, 100)\n",
    "    valor_unidade = round(fake.random_number(2, True) * 100, 2) \n",
    "    id_produto = randint(1, 3)  \n",
    "    id_fornecedor = randint(1, 4)  \n",
    "\n",
    "    print(f\"INSERT INTO ordem_compra (data_emissao, quantidade_produto, valor_unidade, id_produto, id_fornecedor) VALUES ('{data_emissao}', {quantidade_produto}, {valor_unidade}, {id_produto}, {id_fornecedor});\")\n",
    "    \n",
    "        \n",
    "    insert_query = \"INSERT INTO ordem_compra (data_emissao, quantidade_produto, valor_unidade, id_produto, id_fornecedor) VALUES (%s, %s, %s,%s,%s)\"\n",
    "    data = (data_emissao, quantidade_produto, valor_unidade, id_produto, id_fornecedor)\n",
    "    \n",
    "    try:\n",
    "        cursor.execute(insert_query, data)\n",
    "        conn.commit()\n",
    "    except Exception as e:\n",
    "        print(f\"Erro ao inserir dados: {e}\")\n",
    "        \n",
    "        \n",
    "try:\n",
    "    cursor.close()\n",
    "    print(\"Conexão fechada com sucesso.\")\n",
    "    conn.close()\n",
    "except Exception as e:\n",
    "    print(f\"Erro ao fechar a conexão: {e}\")  \n",
    "        "
   ]
  }
 ],
 "metadata": {
  "kernelspec": {
   "display_name": "Python 3",
   "language": "python",
   "name": "python3"
  },
  "language_info": {
   "codemirror_mode": {
    "name": "ipython",
    "version": 3
   },
   "file_extension": ".py",
   "mimetype": "text/x-python",
   "name": "python",
   "nbconvert_exporter": "python",
   "pygments_lexer": "ipython3",
   "version": "3.11.5"
  }
 },
 "nbformat": 4,
 "nbformat_minor": 2
}
