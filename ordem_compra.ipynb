{
 "cells": [
  {
   "cell_type": "code",
   "execution_count": 1,
   "metadata": {},
   "outputs": [
    {
     "name": "stdout",
     "output_type": "stream",
     "text": [
      "Requirement already satisfied: mysql-connector-python in c:\\python311\\lib\\site-packages (8.1.0)\n",
      "Requirement already satisfied: protobuf<=4.21.12,>=4.21.1 in c:\\python311\\lib\\site-packages (from mysql-connector-python) (4.21.12)\n",
      "Note: you may need to restart the kernel to use updated packages.\n"
     ]
    }
   ],
   "source": [
    "pip install mysql-connector-python"
   ]
  },
  {
   "cell_type": "code",
   "execution_count": 2,
   "metadata": {},
   "outputs": [],
   "source": [
    "import mysql.connector\n",
    "from mysql.connector import Error\n",
    "from random import randint, choice, uniform\n",
    "from faker import Faker"
   ]
  },
  {
   "cell_type": "code",
   "execution_count": null,
   "metadata": {},
   "outputs": [],
   "source": [
    "db_config = {\n",
    "    'host': 'localhost',\n",
    "    'user': 'root',\n",
    "    'password': '22976738',\n",
    "    'database': 'projeto'\n",
    "}\n",
    "\n",
    "\n",
    "try:\n",
    "    connection = mysql.connector.connect(**db_config)\n",
    "    if connection.is_connected():\n",
    "        print(\"Conexão ao banco de dados bem-sucedida.\")   \n",
    "except mysql.connector.Error as e:\n",
    "    print(f\"Erro ao conectar ao banco de dados: {e}\")\n",
    "    \n",
    "    \n",
    "conn = mysql.connector.connect(**db_config)\n",
    "cursor = conn.cursor()\n"
   ]
  },
  {
   "cell_type": "code",
   "execution_count": null,
   "metadata": {},
   "outputs": [],
   "source": [
    "\n",
    "# create_table_ordem_compra = \"\"\"\n",
    "# create table ordem_compra(\n",
    "#     id int primary key auto_increment not null,\n",
    "#     data_emissao date not null,\n",
    "#     quantidade_produto float not null,\n",
    "#     valor_unidade float not null,\n",
    "#     id_produto int not null,\n",
    "#     id_fornecedor int not null,\n",
    "#     constraint codigo_produto foreign key\n",
    "#     (id_produto) references produtos(id),\n",
    "#     constraint codigo_fornecedor foreign key\n",
    "#     (id_fornecedor) references fornecedor(id)\n",
    "# );\n",
    "# \"\"\"\n",
    "\n",
    "\n",
    "# cursor.execute(create_table_ordem_compra)\n",
    "# conn.commit()"
   ]
  },
  {
   "cell_type": "code",
   "execution_count": 8,
   "metadata": {},
   "outputs": [
    {
     "name": "stdout",
     "output_type": "stream",
     "text": [
      "INSERT INTO ordem_compra (data_emissao, quantidade_produto, valor_unidade, id_produto, id_fornecedor) VALUES ('2023-11-21', 86, 2000, 3, 0);\n",
      "INSERT INTO ordem_compra (data_emissao, quantidade_produto, valor_unidade, id_produto, id_fornecedor) VALUES ('2023-12-12', 85, 1400, 3, 1);\n",
      "INSERT INTO ordem_compra (data_emissao, quantidade_produto, valor_unidade, id_produto, id_fornecedor) VALUES ('2023-11-26', 47, 3300, 2, 1);\n",
      "INSERT INTO ordem_compra (data_emissao, quantidade_produto, valor_unidade, id_produto, id_fornecedor) VALUES ('2023-11-19', 36, 8400, 2, 2);\n",
      "INSERT INTO ordem_compra (data_emissao, quantidade_produto, valor_unidade, id_produto, id_fornecedor) VALUES ('2023-12-01', 67, 2000, 3, 3);\n"
     ]
    }
   ],
   "source": [
    "fake = Faker('pt_BR')\n",
    "\n",
    "for _ in range(5):\n",
    "    data_emissao = fake.date_between(start_date='-30d', end_date='today')\n",
    "    quantidade_produto = randint(1, 100)\n",
    "    valor_unidade = round(fake.random_number(2, True) * 100, 2) \n",
    "    id_produto = randint(1, 3)  \n",
    "    id_fornecedor = randint(1, 4)  \n",
    "\n",
    "    print(f\"INSERT INTO ordem_compra (data_emissao, quantidade_produto, valor_unidade, id_produto, id_fornecedor) VALUES ('{data_emissao}', {quantidade_produto}, {valor_unidade}, {id_produto}, {id_fornecedor});\")"
   ]
  }
 ],
 "metadata": {
  "kernelspec": {
   "display_name": "Python 3",
   "language": "python",
   "name": "python3"
  },
  "language_info": {
   "codemirror_mode": {
    "name": "ipython",
    "version": 3
   },
   "file_extension": ".py",
   "mimetype": "text/x-python",
   "name": "python",
   "nbconvert_exporter": "python",
   "pygments_lexer": "ipython3",
   "version": "3.11.5"
  }
 },
 "nbformat": 4,
 "nbformat_minor": 2
}
