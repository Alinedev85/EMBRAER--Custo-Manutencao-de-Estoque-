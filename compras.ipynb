{
 "cells": [
  {
   "cell_type": "code",
   "execution_count": 48,
   "metadata": {},
   "outputs": [],
   "source": [
    "#pip install mysql-connector-python"
   ]
  },
  {
   "cell_type": "code",
   "execution_count": 49,
   "metadata": {},
   "outputs": [],
   "source": [
    "\n",
    "import mysql.connector\n",
    "from mysql.connector import Error\n",
    "from random import randint, sample, uniform\n",
    "from faker import Faker\n",
    "import pandas as pd"
   ]
  },
  {
   "cell_type": "code",
   "execution_count": 50,
   "metadata": {},
   "outputs": [
    {
     "name": "stdout",
     "output_type": "stream",
     "text": [
      "Conexão ao banco de dados bem-sucedida.\n"
     ]
    }
   ],
   "source": [
    "db_config = {\n",
    "    'host': 'localhost',\n",
    "    'user': 'root',\n",
    "    'password': '22976738',\n",
    "    'database': 'teste1'\n",
    "}\n",
    "\n",
    "\n",
    "try:\n",
    "    connection = mysql.connector.connect(**db_config)\n",
    "    if connection.is_connected():\n",
    "        print(\"Conexão ao banco de dados bem-sucedida.\")   \n",
    "except mysql.connector.Error as e:\n",
    "    print(f\"Erro ao conectar ao banco de dados: {e}\")\n",
    "    \n",
    "    \n",
    "conn = mysql.connector.connect(**db_config)\n",
    "cursor = conn.cursor()\n"
   ]
  },
  {
   "cell_type": "code",
   "execution_count": 51,
   "metadata": {},
   "outputs": [],
   "source": [
    "create_table_query_compras = \"\"\"\n",
    " \n",
    "    CREATE TABLE IF NOT EXISTS compras(\n",
    "     id INT PRIMARY KEY AUTO_INCREMENT NOT NULL,\n",
    "     id_compra INT NOT NULL,\n",
    "     id_produto INT NOT NULL,\n",
    "     id_funcionario INT NOT NULL,\n",
    "     preco_custo FLOAT NOT NULL,\n",
    "     custo_importacao FLOAT NOT NULL,\n",
    "     taxa_cambio FLOAT NOT NULL,\n",
    "     tx_importacao FLOAT NOT NULL,\n",
    "     frete FLOAT NOT NULL,\n",
    "     data_compra DATE NOT NULL,\n",
    "     id_fornecedor INT NOT NULL,\n",
    "     custos_seguro_produto FLOAT NOT NULL,\n",
    "    CONSTRAINT codigo_funcionario FOREIGN KEY (id_funcionario) REFERENCES funcionario(chapa),\n",
    "    CONSTRAINT cod_produto FOREIGN KEY (id_produto) REFERENCES produtos(id),\n",
    "    CONSTRAINT cod_ordem_compra FOREIGN KEY (id_compra) REFERENCES ordem_compra(id),\n",
    "    CONSTRAINT cod_fornecedor FOREIGN KEY (id_fornecedor) REFERENCES fornecedor(id)\n",
    "    );\n",
    "    \n",
    "\"\"\"\n",
    "\n",
    "cursor.execute(create_table_query_compras)\n",
    "conn.commit()"
   ]
  },
  {
   "cell_type": "code",
   "execution_count": 52,
   "metadata": {},
   "outputs": [
    {
     "name": "stdout",
     "output_type": "stream",
     "text": [
      "id_produto: 1, id_funcionario: 2, Preço Custo: 500.0, custo_importacao:47500,taxa_cambio: 4013, tx_importacao:94, frete:3800, Data Compra: 2019-12-28 00:00:00,id_fornecedor:10, custos_seguro_produto24000\n",
      "id_produto: 2, id_funcionario: 5, Preço Custo: 2.0, custo_importacao:43500,taxa_cambio: 6948, tx_importacao:52, frete:6500, Data Compra: 2019-12-28 00:00:00,id_fornecedor:3, custos_seguro_produto30000\n",
      "id_produto: 3, id_funcionario: 1, Preço Custo: 300.0, custo_importacao:27000,taxa_cambio: 1752, tx_importacao:27, frete:8000, Data Compra: 2019-12-28 00:00:00,id_fornecedor:8, custos_seguro_produto23000\n",
      "id_produto: 4, id_funcionario: 4, Preço Custo: 5000.0, custo_importacao:38500,taxa_cambio: 1883, tx_importacao:20, frete:5000, Data Compra: 2019-12-28 00:00:00,id_fornecedor:10, custos_seguro_produto39000\n",
      "id_produto: 5, id_funcionario: 3, Preço Custo: 50.0, custo_importacao:17500,taxa_cambio: 5275, tx_importacao:86, frete:9600, Data Compra: 2019-12-28 00:00:00,id_fornecedor:9, custos_seguro_produto11500\n",
      "id_produto: 6, id_funcionario: 3, Preço Custo: 1.2, custo_importacao:44500,taxa_cambio: 5941, tx_importacao:52, frete:5300, Data Compra: 2019-12-28 00:00:00,id_fornecedor:1, custos_seguro_produto46000\n",
      "Erro ao inserir dados: 1452 (23000): Cannot add or update a child row: a foreign key constraint fails (`teste1`.`compras`, CONSTRAINT `cod_ordem_compra` FOREIGN KEY (`id_compra`) REFERENCES `ordem_compra` (`id`))\n",
      "id_produto: 7, id_funcionario: 2, Preço Custo: 100.0, custo_importacao:33000,taxa_cambio: 3397, tx_importacao:10, frete:9400, Data Compra: 2019-12-28 00:00:00,id_fornecedor:6, custos_seguro_produto8000\n",
      "Erro ao inserir dados: 1452 (23000): Cannot add or update a child row: a foreign key constraint fails (`teste1`.`compras`, CONSTRAINT `cod_ordem_compra` FOREIGN KEY (`id_compra`) REFERENCES `ordem_compra` (`id`))\n",
      "id_produto: 8, id_funcionario: 2, Preço Custo: 3.0, custo_importacao:43000,taxa_cambio: 8601, tx_importacao:53, frete:9700, Data Compra: 2019-12-28 00:00:00,id_fornecedor:6, custos_seguro_produto32000\n",
      "Erro ao inserir dados: 1452 (23000): Cannot add or update a child row: a foreign key constraint fails (`teste1`.`compras`, CONSTRAINT `cod_ordem_compra` FOREIGN KEY (`id_compra`) REFERENCES `ordem_compra` (`id`))\n",
      "id_produto: 9, id_funcionario: 5, Preço Custo: 800.0, custo_importacao:48500,taxa_cambio: 2228, tx_importacao:63, frete:5000, Data Compra: 2019-12-28 00:00:00,id_fornecedor:3, custos_seguro_produto10500\n",
      "Erro ao inserir dados: 1452 (23000): Cannot add or update a child row: a foreign key constraint fails (`teste1`.`compras`, CONSTRAINT `cod_ordem_compra` FOREIGN KEY (`id_compra`) REFERENCES `ordem_compra` (`id`))\n",
      "id_produto: 10, id_funcionario: 5, Preço Custo: 2.5, custo_importacao:19500,taxa_cambio: 3646, tx_importacao:14, frete:4900, Data Compra: 2019-12-28 00:00:00,id_fornecedor:10, custos_seguro_produto24000\n",
      "Erro ao inserir dados: 1452 (23000): Cannot add or update a child row: a foreign key constraint fails (`teste1`.`compras`, CONSTRAINT `cod_ordem_compra` FOREIGN KEY (`id_compra`) REFERENCES `ordem_compra` (`id`))\n",
      "id_produto: 11, id_funcionario: 4, Preço Custo: 300.0, custo_importacao:41000,taxa_cambio: 2850, tx_importacao:74, frete:3100, Data Compra: 2019-12-28 00:00:00,id_fornecedor:2, custos_seguro_produto48500\n",
      "Erro ao inserir dados: 1452 (23000): Cannot add or update a child row: a foreign key constraint fails (`teste1`.`compras`, CONSTRAINT `cod_ordem_compra` FOREIGN KEY (`id_compra`) REFERENCES `ordem_compra` (`id`))\n",
      "id_produto: 12, id_funcionario: 1, Preço Custo: 400.0, custo_importacao:47500,taxa_cambio: 8415, tx_importacao:21, frete:6900, Data Compra: 2019-12-29 00:00:00,id_fornecedor:11, custos_seguro_produto45000\n",
      "Erro ao inserir dados: 1452 (23000): Cannot add or update a child row: a foreign key constraint fails (`teste1`.`compras`, CONSTRAINT `cod_ordem_compra` FOREIGN KEY (`id_compra`) REFERENCES `ordem_compra` (`id`))\n",
      "id_produto: 13, id_funcionario: 2, Preço Custo: 1.0, custo_importacao:38500,taxa_cambio: 4804, tx_importacao:48, frete:1200, Data Compra: 2019-12-29 00:00:00,id_fornecedor:9, custos_seguro_produto9500\n",
      "Erro ao inserir dados: 1452 (23000): Cannot add or update a child row: a foreign key constraint fails (`teste1`.`compras`, CONSTRAINT `cod_ordem_compra` FOREIGN KEY (`id_compra`) REFERENCES `ordem_compra` (`id`))\n",
      "id_produto: 14, id_funcionario: 1, Preço Custo: 600.0, custo_importacao:11000,taxa_cambio: 1466, tx_importacao:52, frete:2100, Data Compra: 2019-12-29 00:00:00,id_fornecedor:1, custos_seguro_produto36000\n",
      "Erro ao inserir dados: 1452 (23000): Cannot add or update a child row: a foreign key constraint fails (`teste1`.`compras`, CONSTRAINT `cod_ordem_compra` FOREIGN KEY (`id_compra`) REFERENCES `ordem_compra` (`id`))\n",
      "id_produto: 15, id_funcionario: 4, Preço Custo: 700.0, custo_importacao:22000,taxa_cambio: 9607, tx_importacao:84, frete:8900, Data Compra: 2019-12-29 00:00:00,id_fornecedor:4, custos_seguro_produto17000\n",
      "Erro ao inserir dados: 1452 (23000): Cannot add or update a child row: a foreign key constraint fails (`teste1`.`compras`, CONSTRAINT `cod_ordem_compra` FOREIGN KEY (`id_compra`) REFERENCES `ordem_compra` (`id`))\n",
      "id_produto: 16, id_funcionario: 2, Preço Custo: 750.0, custo_importacao:7500,taxa_cambio: 8319, tx_importacao:13, frete:1700, Data Compra: 2019-12-29 00:00:00,id_fornecedor:6, custos_seguro_produto18500\n",
      "Erro ao inserir dados: 1452 (23000): Cannot add or update a child row: a foreign key constraint fails (`teste1`.`compras`, CONSTRAINT `cod_ordem_compra` FOREIGN KEY (`id_compra`) REFERENCES `ordem_compra` (`id`))\n",
      "id_produto: 17, id_funcionario: 1, Preço Custo: 700.0, custo_importacao:37500,taxa_cambio: 8070, tx_importacao:96, frete:6600, Data Compra: 2019-12-29 00:00:00,id_fornecedor:2, custos_seguro_produto9500\n",
      "Erro ao inserir dados: 1452 (23000): Cannot add or update a child row: a foreign key constraint fails (`teste1`.`compras`, CONSTRAINT `cod_ordem_compra` FOREIGN KEY (`id_compra`) REFERENCES `ordem_compra` (`id`))\n",
      "id_produto: 18, id_funcionario: 2, Preço Custo: 1.0, custo_importacao:48000,taxa_cambio: 5449, tx_importacao:54, frete:8800, Data Compra: 2019-12-29 00:00:00,id_fornecedor:2, custos_seguro_produto23500\n",
      "Erro ao inserir dados: 1452 (23000): Cannot add or update a child row: a foreign key constraint fails (`teste1`.`compras`, CONSTRAINT `cod_ordem_compra` FOREIGN KEY (`id_compra`) REFERENCES `ordem_compra` (`id`))\n",
      "id_produto: 19, id_funcionario: 4, Preço Custo: 900.0, custo_importacao:44000,taxa_cambio: 5004, tx_importacao:60, frete:1500, Data Compra: 2019-12-29 00:00:00,id_fornecedor:9, custos_seguro_produto13000\n",
      "Erro ao inserir dados: 1452 (23000): Cannot add or update a child row: a foreign key constraint fails (`teste1`.`compras`, CONSTRAINT `cod_ordem_compra` FOREIGN KEY (`id_compra`) REFERENCES `ordem_compra` (`id`))\n",
      "id_produto: 20, id_funcionario: 4, Preço Custo: 1.2, custo_importacao:34000,taxa_cambio: 8609, tx_importacao:47, frete:1900, Data Compra: 2019-12-29 00:00:00,id_fornecedor:8, custos_seguro_produto43500\n",
      "Erro ao inserir dados: 1452 (23000): Cannot add or update a child row: a foreign key constraint fails (`teste1`.`compras`, CONSTRAINT `cod_ordem_compra` FOREIGN KEY (`id_compra`) REFERENCES `ordem_compra` (`id`))\n",
      "id_produto: 21, id_funcionario: 2, Preço Custo: 1.5, custo_importacao:16000,taxa_cambio: 9171, tx_importacao:72, frete:2000, Data Compra: 2019-12-29 00:00:00,id_fornecedor:10, custos_seguro_produto27000\n",
      "Erro ao inserir dados: 1452 (23000): Cannot add or update a child row: a foreign key constraint fails (`teste1`.`compras`, CONSTRAINT `cod_ordem_compra` FOREIGN KEY (`id_compra`) REFERENCES `ordem_compra` (`id`))\n",
      "id_produto: 22, id_funcionario: 4, Preço Custo: 1.8, custo_importacao:37500,taxa_cambio: 8015, tx_importacao:98, frete:3800, Data Compra: 2019-12-30 00:00:00,id_fornecedor:3, custos_seguro_produto27500\n",
      "Erro ao inserir dados: 1452 (23000): Cannot add or update a child row: a foreign key constraint fails (`teste1`.`compras`, CONSTRAINT `cod_ordem_compra` FOREIGN KEY (`id_compra`) REFERENCES `ordem_compra` (`id`))\n"
     ]
    },
    {
     "ename": "KeyError",
     "evalue": "22",
     "output_type": "error",
     "traceback": [
      "\u001b[1;31m---------------------------------------------------------------------------\u001b[0m",
      "\u001b[1;31mValueError\u001b[0m                                Traceback (most recent call last)",
      "File \u001b[1;32mc:\\Python311\\Lib\\site-packages\\pandas\\core\\indexes\\range.py:414\u001b[0m, in \u001b[0;36mRangeIndex.get_loc\u001b[1;34m(self, key)\u001b[0m\n\u001b[0;32m    413\u001b[0m \u001b[38;5;28;01mtry\u001b[39;00m:\n\u001b[1;32m--> 414\u001b[0m     \u001b[38;5;28;01mreturn\u001b[39;00m \u001b[38;5;28mself\u001b[39m\u001b[38;5;241m.\u001b[39m_range\u001b[38;5;241m.\u001b[39mindex(new_key)\n\u001b[0;32m    415\u001b[0m \u001b[38;5;28;01mexcept\u001b[39;00m \u001b[38;5;167;01mValueError\u001b[39;00m \u001b[38;5;28;01mas\u001b[39;00m err:\n",
      "\u001b[1;31mValueError\u001b[0m: 22 is not in range",
      "\nThe above exception was the direct cause of the following exception:\n",
      "\u001b[1;31mKeyError\u001b[0m                                  Traceback (most recent call last)",
      "Cell \u001b[1;32mIn[52], line 12\u001b[0m\n\u001b[0;32m      9\u001b[0m \u001b[38;5;28;01mfor\u001b[39;00m \u001b[38;5;28mid\u001b[39m \u001b[38;5;129;01min\u001b[39;00m \u001b[38;5;28mrange\u001b[39m(\u001b[38;5;241m50\u001b[39m):\n\u001b[0;32m     11\u001b[0m     id_compra \u001b[38;5;241m=\u001b[39m \u001b[38;5;28mint\u001b[39m(df_kardex\u001b[38;5;241m.\u001b[39mloc[\u001b[38;5;28mid\u001b[39m, \u001b[38;5;124m'\u001b[39m\u001b[38;5;124mid\u001b[39m\u001b[38;5;124m'\u001b[39m])\n\u001b[1;32m---> 12\u001b[0m     id_produto \u001b[38;5;241m=\u001b[39m \u001b[38;5;28mint\u001b[39m(\u001b[43mdf_produtos\u001b[49m\u001b[38;5;241;43m.\u001b[39;49m\u001b[43mloc\u001b[49m\u001b[43m[\u001b[49m\u001b[38;5;28;43mid\u001b[39;49m\u001b[43m,\u001b[49m\u001b[43m \u001b[49m\u001b[38;5;124;43m'\u001b[39;49m\u001b[38;5;124;43mcodigo_produto\u001b[39;49m\u001b[38;5;124;43m'\u001b[39;49m\u001b[43m]\u001b[49m)\n\u001b[0;32m     13\u001b[0m     id_funcionario \u001b[38;5;241m=\u001b[39m randint(\u001b[38;5;241m1\u001b[39m, \u001b[38;5;241m5\u001b[39m)\n\u001b[0;32m     14\u001b[0m     preco_custo \u001b[38;5;241m=\u001b[39m \u001b[38;5;28mfloat\u001b[39m(df_produtos\u001b[38;5;241m.\u001b[39mloc[\u001b[38;5;28mid\u001b[39m, \u001b[38;5;124m'\u001b[39m\u001b[38;5;124mvalor\u001b[39m\u001b[38;5;124m'\u001b[39m])\n",
      "File \u001b[1;32mc:\\Python311\\Lib\\site-packages\\pandas\\core\\indexing.py:1146\u001b[0m, in \u001b[0;36m_LocationIndexer.__getitem__\u001b[1;34m(self, key)\u001b[0m\n\u001b[0;32m   1144\u001b[0m     key \u001b[38;5;241m=\u001b[39m \u001b[38;5;28mtuple\u001b[39m(com\u001b[38;5;241m.\u001b[39mapply_if_callable(x, \u001b[38;5;28mself\u001b[39m\u001b[38;5;241m.\u001b[39mobj) \u001b[38;5;28;01mfor\u001b[39;00m x \u001b[38;5;129;01min\u001b[39;00m key)\n\u001b[0;32m   1145\u001b[0m     \u001b[38;5;28;01mif\u001b[39;00m \u001b[38;5;28mself\u001b[39m\u001b[38;5;241m.\u001b[39m_is_scalar_access(key):\n\u001b[1;32m-> 1146\u001b[0m         \u001b[38;5;28;01mreturn\u001b[39;00m \u001b[38;5;28;43mself\u001b[39;49m\u001b[38;5;241;43m.\u001b[39;49m\u001b[43mobj\u001b[49m\u001b[38;5;241;43m.\u001b[39;49m\u001b[43m_get_value\u001b[49m\u001b[43m(\u001b[49m\u001b[38;5;241;43m*\u001b[39;49m\u001b[43mkey\u001b[49m\u001b[43m,\u001b[49m\u001b[43m \u001b[49m\u001b[43mtakeable\u001b[49m\u001b[38;5;241;43m=\u001b[39;49m\u001b[38;5;28;43mself\u001b[39;49m\u001b[38;5;241;43m.\u001b[39;49m\u001b[43m_takeable\u001b[49m\u001b[43m)\u001b[49m\n\u001b[0;32m   1147\u001b[0m     \u001b[38;5;28;01mreturn\u001b[39;00m \u001b[38;5;28mself\u001b[39m\u001b[38;5;241m.\u001b[39m_getitem_tuple(key)\n\u001b[0;32m   1148\u001b[0m \u001b[38;5;28;01melse\u001b[39;00m:\n\u001b[0;32m   1149\u001b[0m     \u001b[38;5;66;03m# we by definition only have the 0th axis\u001b[39;00m\n",
      "File \u001b[1;32mc:\\Python311\\Lib\\site-packages\\pandas\\core\\frame.py:4012\u001b[0m, in \u001b[0;36mDataFrame._get_value\u001b[1;34m(self, index, col, takeable)\u001b[0m\n\u001b[0;32m   4006\u001b[0m engine \u001b[38;5;241m=\u001b[39m \u001b[38;5;28mself\u001b[39m\u001b[38;5;241m.\u001b[39mindex\u001b[38;5;241m.\u001b[39m_engine\n\u001b[0;32m   4008\u001b[0m \u001b[38;5;28;01mif\u001b[39;00m \u001b[38;5;129;01mnot\u001b[39;00m \u001b[38;5;28misinstance\u001b[39m(\u001b[38;5;28mself\u001b[39m\u001b[38;5;241m.\u001b[39mindex, MultiIndex):\n\u001b[0;32m   4009\u001b[0m     \u001b[38;5;66;03m# CategoricalIndex: Trying to use the engine fastpath may give incorrect\u001b[39;00m\n\u001b[0;32m   4010\u001b[0m     \u001b[38;5;66;03m#  results if our categories are integers that dont match our codes\u001b[39;00m\n\u001b[0;32m   4011\u001b[0m     \u001b[38;5;66;03m# IntervalIndex: IntervalTree has no get_loc\u001b[39;00m\n\u001b[1;32m-> 4012\u001b[0m     row \u001b[38;5;241m=\u001b[39m \u001b[38;5;28;43mself\u001b[39;49m\u001b[38;5;241;43m.\u001b[39;49m\u001b[43mindex\u001b[49m\u001b[38;5;241;43m.\u001b[39;49m\u001b[43mget_loc\u001b[49m\u001b[43m(\u001b[49m\u001b[43mindex\u001b[49m\u001b[43m)\u001b[49m\n\u001b[0;32m   4013\u001b[0m     \u001b[38;5;28;01mreturn\u001b[39;00m series\u001b[38;5;241m.\u001b[39m_values[row]\n\u001b[0;32m   4015\u001b[0m \u001b[38;5;66;03m# For MultiIndex going through engine effectively restricts us to\u001b[39;00m\n\u001b[0;32m   4016\u001b[0m \u001b[38;5;66;03m#  same-length tuples; see test_get_set_value_no_partial_indexing\u001b[39;00m\n",
      "File \u001b[1;32mc:\\Python311\\Lib\\site-packages\\pandas\\core\\indexes\\range.py:416\u001b[0m, in \u001b[0;36mRangeIndex.get_loc\u001b[1;34m(self, key)\u001b[0m\n\u001b[0;32m    414\u001b[0m         \u001b[38;5;28;01mreturn\u001b[39;00m \u001b[38;5;28mself\u001b[39m\u001b[38;5;241m.\u001b[39m_range\u001b[38;5;241m.\u001b[39mindex(new_key)\n\u001b[0;32m    415\u001b[0m     \u001b[38;5;28;01mexcept\u001b[39;00m \u001b[38;5;167;01mValueError\u001b[39;00m \u001b[38;5;28;01mas\u001b[39;00m err:\n\u001b[1;32m--> 416\u001b[0m         \u001b[38;5;28;01mraise\u001b[39;00m \u001b[38;5;167;01mKeyError\u001b[39;00m(key) \u001b[38;5;28;01mfrom\u001b[39;00m \u001b[38;5;21;01merr\u001b[39;00m\n\u001b[0;32m    417\u001b[0m \u001b[38;5;28;01mif\u001b[39;00m \u001b[38;5;28misinstance\u001b[39m(key, Hashable):\n\u001b[0;32m    418\u001b[0m     \u001b[38;5;28;01mraise\u001b[39;00m \u001b[38;5;167;01mKeyError\u001b[39;00m(key)\n",
      "\u001b[1;31mKeyError\u001b[0m: 22"
     ]
    }
   ],
   "source": [
    "import pandas as pd\n",
    "df_kardex = pd.read_excel('C:/Users/user/Documents/GitHub/EMBRAER--Custo-Manutencao-de-Estoque-/dados_kardex.xlsx', sheet_name='kardex')\n",
    "df_produtos = pd.read_excel('C:/Users/user/Documents/GitHub/EMBRAER--Custo-Manutencao-de-Estoque-/dados_kardex.xlsx', sheet_name='produtos')\n",
    "\n",
    "fake = Faker()\n",
    "\n",
    "\n",
    "\n",
    "for id in range(50):\n",
    " \n",
    "    id_compra = int(df_kardex.loc[id, 'id'])\n",
    "    id_produto = int(df_produtos.loc[id, 'codigo_produto'])\n",
    "    id_funcionario = randint(1, 5)\n",
    "    preco_custo = float(df_produtos.loc[id, 'valor'])\n",
    "    custo_importacao = round(fake.random_number(2, True) * 500, 2)\n",
    "    taxa_cambio = round(fake.random_number(4, True), 4)\n",
    "    tx_importacao = round(fake.random_number(2, True), 2)\n",
    "    frete = round(fake.random_number(2, True) * 100, 2)\n",
    "    data_compra = df_kardex.loc[id_compra, 'entrada']\n",
    "    id_fornecedor = randint(1, 11)\n",
    "    custos_seguro_produto = round(fake.random_number(2, True) * 500, 2)\n",
    "    \n",
    "    print(f\"id_produto: {id_produto}, id_funcionario: {id_funcionario}, Preço Custo: {preco_custo}, custo_importacao:{custo_importacao},taxa_cambio: {taxa_cambio}, tx_importacao:{tx_importacao}, frete:{frete}, Data Compra: {data_compra},id_fornecedor:{id_fornecedor}, custos_seguro_produto{custos_seguro_produto}\")\n",
    "\n",
    "    insert_query = \"\"\"\n",
    "    INSERT INTO compras (\n",
    "        id_compra, id_produto, id_funcionario, preco_custo, custo_importacao, taxa_cambio, tx_importacao, frete, data_compra, id_fornecedor, custos_seguro_produto\n",
    "    ) VALUES (%s, %s, %s, %s, %s, %s, %s, %s, %s, %s, %s)\n",
    "    \"\"\"\n",
    "    data = (\n",
    "        id_compra, id_produto, id_funcionario, preco_custo, custo_importacao, taxa_cambio, tx_importacao, frete,\n",
    "        data_compra, id_fornecedor, custos_seguro_produto\n",
    "    )\n",
    "\n",
    "    try:\n",
    "        cursor.execute(insert_query, data)\n",
    "        conn.commit()\n",
    "    except Exception as e:\n",
    "        print(f\"Erro ao inserir dados: {e}\")\n",
    "\n",
    "try:\n",
    "    cursor.close()\n",
    "    print(\"Conexão fechada com sucesso.\")\n",
    "    conn.close()\n",
    "except Exception as e:\n",
    "    print(f\"Erro ao fechar a conexão: {e}\")"
   ]
  }
 ],
 "metadata": {
  "kernelspec": {
   "display_name": "Python 3",
   "language": "python",
   "name": "python3"
  },
  "language_info": {
   "codemirror_mode": {
    "name": "ipython",
    "version": 3
   },
   "file_extension": ".py",
   "mimetype": "text/x-python",
   "name": "python",
   "nbconvert_exporter": "python",
   "pygments_lexer": "ipython3",
   "version": "3.11.5"
  }
 },
 "nbformat": 4,
 "nbformat_minor": 2
}
