{
 "cells": [
  {
   "cell_type": "code",
   "execution_count": 1,
   "metadata": {},
   "outputs": [
    {
     "name": "stdout",
     "output_type": "stream",
     "text": [
      "Requirement already satisfied: mysql-connector-python in c:\\python311\\lib\\site-packages (8.1.0)\n",
      "Requirement already satisfied: protobuf<=4.21.12,>=4.21.1 in c:\\python311\\lib\\site-packages (from mysql-connector-python) (4.21.12)\n",
      "Note: you may need to restart the kernel to use updated packages.\n"
     ]
    }
   ],
   "source": [
    "pip install mysql-connector-python"
   ]
  },
  {
   "cell_type": "code",
   "execution_count": 2,
   "metadata": {},
   "outputs": [],
   "source": [
    "import mysql.connector\n",
    "from mysql.connector import Error\n",
    "from random import randint, choice, uniform\n",
    "from faker import Faker"
   ]
  },
  {
   "cell_type": "code",
   "execution_count": 3,
   "metadata": {},
   "outputs": [
    {
     "name": "stdout",
     "output_type": "stream",
     "text": [
      "Conexão ao banco de dados bem-sucedida.\n"
     ]
    }
   ],
   "source": [
    "db_config = {\n",
    "    'host': 'localhost',\n",
    "    'user': 'root',\n",
    "    'password': '22976738',\n",
    "    'database': 'Embraer2'\n",
    "}\n",
    "\n",
    "\n",
    "try:\n",
    "    connection = mysql.connector.connect(**db_config)\n",
    "    if connection.is_connected():\n",
    "        print(\"Conexão ao banco de dados bem-sucedida.\")   \n",
    "except mysql.connector.Error as e:\n",
    "    print(f\"Erro ao conectar ao banco de dados: {e}\")\n",
    "    \n",
    "    \n",
    "conn = mysql.connector.connect(**db_config)\n",
    "cursor = conn.cursor()\n"
   ]
  },
  {
   "cell_type": "code",
   "execution_count": 4,
   "metadata": {},
   "outputs": [],
   "source": [
    "create_table_query_deposito = \"\"\"\n",
    " \n",
    "    CREATE TABLE IF NOT EXISTS compras(\n",
    "     id_compra int not null,\n",
    "     preco_custo float not null,\n",
    "     custo_importacao float not null,\n",
    "     taxa_cambio float not null,\n",
    "     data_compra date not null,\n",
    "     id_dec_import int not null,\n",
    "     id_fornecedor_c int not null,\n",
    "     constraint codigo_ordem_compra foreign key \n",
    "     (id_compra) references ordem_compra(id),\n",
    "     constraint codigo_fornecedor_c foreign key\n",
    "     (id_fornecedor_c) references fornecedor(id)\n",
    "    );\n",
    "    \n",
    "\"\"\"\n",
    "\n",
    "cursor.execute(create_table_query_deposito)\n",
    "conn.commit()"
   ]
  },
  {
   "cell_type": "code",
   "execution_count": 5,
   "metadata": {},
   "outputs": [
    {
     "name": "stdout",
     "output_type": "stream",
     "text": [
      "Inserção bem-sucedida para id_compra: 3\n",
      "Inserção bem-sucedida para id_compra: 3\n",
      "Inserção bem-sucedida para id_compra: 1\n",
      "Inserção bem-sucedida para id_compra: 3\n",
      "Inserção bem-sucedida para id_compra: 3\n",
      "Conexão fechada com sucesso.\n"
     ]
    }
   ],
   "source": [
    "fake = Faker('pt_BR')\n",
    "\n",
    "for _ in range(5):\n",
    "    id_compra = randint(1, 5)\n",
    "    preco_custo = round(fake.random_number(2, True) * 1000, 2)\n",
    "    custo_importacao = round(fake.random_number(2, True) * 500, 2)\n",
    "    taxa_cambio = round(fake.random_number(4, True), 4)\n",
    "    data_compra = fake.date_between(start_date='-30d', end_date='today')\n",
    "    id_dec_import = randint(1, 10)\n",
    "    id_fornecedor_c = randint(1, 3)\n",
    "\n",
    "    #print(f\"INSERT INTO compras (id_compra, preco_custo, custo_importacao, taxa_cambio, data_compra, id_dec_import, id_fornecedor_c) VALUES ({id_compra}, {preco_custo}, {custo_importacao}, {taxa_cambio}, '{data_compra}', {id_dec_import}, {id_fornecedor_c});\")\n",
    "\n",
    "    insert_query = \"INSERT INTO compras (id_compra, preco_custo, custo_importacao, taxa_cambio, data_compra, id_dec_import, id_fornecedor_c) VALUES (%s, %s, %s, %s, %s, %s, %s)\"\n",
    "    data = (id_compra, preco_custo, custo_importacao, taxa_cambio, data_compra, id_dec_import, id_fornecedor_c)\n",
    "\n",
    "    try:\n",
    "        cursor.execute(insert_query, data)\n",
    "        conn.commit()\n",
    "        print(f\"Inserção bem-sucedida para id_compra: {id_compra}\")\n",
    "    except Exception as e:\n",
    "        print(f\"Erro ao inserir dados: {e}\")\n",
    "\n",
    "\n",
    "try:\n",
    "    cursor.close()\n",
    "    print(\"Conexão fechada com sucesso.\")\n",
    "    conn.close()\n",
    "except Exception as e:\n",
    "    print(f\"Erro ao fechar a conexão: {e}\")\n"
   ]
  }
 ],
 "metadata": {
  "kernelspec": {
   "display_name": "Python 3",
   "language": "python",
   "name": "python3"
  },
  "language_info": {
   "codemirror_mode": {
    "name": "ipython",
    "version": 3
   },
   "file_extension": ".py",
   "mimetype": "text/x-python",
   "name": "python",
   "nbconvert_exporter": "python",
   "pygments_lexer": "ipython3",
   "version": "3.11.5"
  }
 },
 "nbformat": 4,
 "nbformat_minor": 2
}
