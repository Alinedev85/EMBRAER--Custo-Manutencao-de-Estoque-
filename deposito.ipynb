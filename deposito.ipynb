{
 "cells": [
  {
   "cell_type": "code",
   "execution_count": 18,
   "metadata": {},
   "outputs": [],
   "source": [
    "#pip install mysql-connector-python"
   ]
  },
  {
   "cell_type": "code",
   "execution_count": 19,
   "metadata": {},
   "outputs": [],
   "source": [
    "#pip install pymysql\n"
   ]
  },
  {
   "cell_type": "code",
   "execution_count": 20,
   "metadata": {},
   "outputs": [],
   "source": [
    "import mysql.connector\n",
    "from mysql.connector import Error\n",
    "from random import randint, choice, uniform\n",
    "from faker import Faker\n",
    "import pandas as pd"
   ]
  },
  {
   "cell_type": "code",
   "execution_count": 21,
   "metadata": {},
   "outputs": [
    {
     "name": "stdout",
     "output_type": "stream",
     "text": [
      "Conexão ao banco de dados bem-sucedida.\n"
     ]
    }
   ],
   "source": [
    "db_config = {\n",
    "    'host': 'localhost',\n",
    "    'user': 'root',\n",
    "    'password': '22976738',\n",
    "    'database': 'projeto1'\n",
    "}\n",
    "\n",
    "\n",
    "try:\n",
    "    connection = mysql.connector.connect(**db_config)\n",
    "    if connection.is_connected():\n",
    "        print(\"Conexão ao banco de dados bem-sucedida.\")   \n",
    "except mysql.connector.Error as e:\n",
    "    print(f\"Erro ao conectar ao banco de dados: {e}\")\n",
    "    \n",
    "    \n",
    "conn = mysql.connector.connect(**db_config)\n",
    "cursor = conn.cursor()\n"
   ]
  },
  {
   "cell_type": "code",
   "execution_count": 22,
   "metadata": {},
   "outputs": [],
   "source": [
    "create_table_query_deposito = \"\"\"\n",
    " \n",
    "    CREATE TABLE IF NOT EXISTS deposito(\n",
    "     id INT AUTO_INCREMENT PRIMARY KEY NOT NULL,\n",
    "     descricao_deposito VARCHAR(255),\n",
    "     id_produtos INT,\n",
    "     id_cidade INT,\n",
    "     CONSTRAINT codigo_produto_d FOREIGN KEY (id_produtos) REFERENCES produtos(id),\n",
    "     CONSTRAINT codigo_cidade FOREIGN KEY (id_cidade) REFERENCES cidade(id)\n",
    "     );\n",
    "     \n",
    "\"\"\"\n",
    "\n",
    "cursor.execute(create_table_query_deposito)\n",
    "conn.commit()\n"
   ]
  },
  {
   "cell_type": "code",
   "execution_count": 23,
   "metadata": {},
   "outputs": [
    {
     "name": "stdout",
     "output_type": "stream",
     "text": [
      "INSERT INTO deposito (descricao_deposito, id_produtos, id_cidade) VALUES ('Botucatu',2, 3);\n",
      "INSERT INTO deposito (descricao_deposito, id_produtos, id_cidade) VALUES ('Botucatu',5, 3);\n",
      "INSERT INTO deposito (descricao_deposito, id_produtos, id_cidade) VALUES ('Botucatu',2, 3);\n",
      "INSERT INTO deposito (descricao_deposito, id_produtos, id_cidade) VALUES ('Taubate',1, 1);\n",
      "INSERT INTO deposito (descricao_deposito, id_produtos, id_cidade) VALUES ('Taubate',4, 1);\n",
      "INSERT INTO deposito (descricao_deposito, id_produtos, id_cidade) VALUES ('São Jose dos Campos - Campos Faria Lima ',2, 2);\n",
      "INSERT INTO deposito (descricao_deposito, id_produtos, id_cidade) VALUES ('São Jose dos Campos - Campos Faria Lima ',2, 2);\n",
      "INSERT INTO deposito (descricao_deposito, id_produtos, id_cidade) VALUES ('Taubate',5, 1);\n",
      "INSERT INTO deposito (descricao_deposito, id_produtos, id_cidade) VALUES ('São Jose dos Campos - ELEB',4, 4);\n",
      "INSERT INTO deposito (descricao_deposito, id_produtos, id_cidade) VALUES ('São Jose dos Campos - ELEB',5, 4);\n",
      "Conexão fechada com sucesso.\n"
     ]
    }
   ],
   "source": [
    "df_deposito = pd.read_excel('C:/Users/user/Documents/GitHub/EMBRAER--Custo-Manutencao-de-Estoque-/dados_kardex.xlsx', sheet_name='deposito')\n",
    "df_kardex = pd.read_excel('C:/Users/user/Documents/GitHub/EMBRAER--Custo-Manutencao-de-Estoque-/dados_kardex.xlsx', sheet_name='kardex')\n",
    "df_produtos = pd.read_excel('C:/Users/user/Documents/GitHub/EMBRAER--Custo-Manutencao-de-Estoque-/dados_kardex.xlsx', sheet_name='produtos')\n",
    "df_cidades = pd.read_excel('C:/Users/user/Documents/GitHub/EMBRAER--Custo-Manutencao-de-Estoque-/dados_kardex.xlsx', sheet_name='cidades')\n",
    "\n",
    "\n",
    "fake = Faker('pt_BR')\n",
    "\n",
    "\n",
    "for _ in range(1000):\n",
    "    id = randint(0, min(len(df_kardex), len(df_deposito)) - 1)\n",
    "    descricao_deposito = df_deposito.iloc[id, df_deposito.columns.get_loc('deposito')]\n",
    "    numero_deposito = df_deposito.iloc[id, df_deposito.columns.get_loc('numero_deposito')]\n",
    "    id_produtos = randint(1, 5)\n",
    "    id_cidade = df_deposito.iloc[id, df_deposito.columns.get_loc('localidade')]\n",
    "    descricao_deposito = str(descricao_deposito)\n",
    "    numero_deposito = int(numero_deposito)\n",
    "    id_cidade = int(id_cidade)\n",
    "\n",
    "    print(f\"INSERT INTO deposito (descricao_deposito, id_produtos, id_cidade) VALUES \"\n",
    "          f\"('{descricao_deposito}',{id_produtos}, {id_cidade});\")\n",
    "    \n",
    "    insert_query = \"INSERT INTO deposito (descricao_deposito,  id_produtos, id_cidade) VALUES (%s, %s, %s)\"\n",
    "    data = (descricao_deposito, id_produtos, id_cidade)\n",
    "\n",
    "\n",
    "    try:\n",
    "        cursor.execute(insert_query, data)\n",
    "        conn.commit()\n",
    "    except Exception as e:\n",
    "        print(f\"Erro ao inserir dados: {e}\")\n",
    "\n",
    "try:\n",
    "    cursor.close()\n",
    "    print(\"Conexão fechada com sucesso.\")\n",
    "    conn.close()\n",
    "except Exception as e:\n",
    "    print(f\"Erro ao fechar a conexão: {e}\")"
   ]
  },
  {
   "cell_type": "code",
   "execution_count": 24,
   "metadata": {},
   "outputs": [],
   "source": [
    "#df = pd.read_excel('C:/Users/user/Documents/GitHub/EMBRAER--Custo-Manutencao-de-Estoque-/dados_kardex.xlsx',sheet_name='deposito')\n",
    "#print(df)"
   ]
  },
  {
   "cell_type": "code",
   "execution_count": 25,
   "metadata": {},
   "outputs": [],
   "source": [
    "#print(df.columns)\n"
   ]
  }
 ],
 "metadata": {
  "kernelspec": {
   "display_name": "Python 3",
   "language": "python",
   "name": "python3"
  },
  "language_info": {
   "codemirror_mode": {
    "name": "ipython",
    "version": 3
   },
   "file_extension": ".py",
   "mimetype": "text/x-python",
   "name": "python",
   "nbconvert_exporter": "python",
   "pygments_lexer": "ipython3",
   "version": "3.11.5"
  }
 },
 "nbformat": 4,
 "nbformat_minor": 2
}
