{
 "cells": [
  {
   "cell_type": "code",
   "execution_count": 15,
   "metadata": {},
   "outputs": [
    {
     "name": "stdout",
     "output_type": "stream",
     "text": [
      "Requirement already satisfied: mysql-connector-python in c:\\python311\\lib\\site-packages (8.1.0)\n",
      "Requirement already satisfied: protobuf<=4.21.12,>=4.21.1 in c:\\python311\\lib\\site-packages (from mysql-connector-python) (4.21.12)\n",
      "Note: you may need to restart the kernel to use updated packages.\n"
     ]
    }
   ],
   "source": [
    "pip install mysql-connector-python"
   ]
  },
  {
   "cell_type": "code",
   "execution_count": 16,
   "metadata": {},
   "outputs": [],
   "source": [
    "import mysql.connector\n",
    "from mysql.connector import Error\n",
    "from random import randint, choice, uniform\n",
    "from faker import Faker"
   ]
  },
  {
   "cell_type": "code",
   "execution_count": 17,
   "metadata": {},
   "outputs": [
    {
     "name": "stdout",
     "output_type": "stream",
     "text": [
      "Conexão ao banco de dados bem-sucedida.\n"
     ]
    }
   ],
   "source": [
    "db_config = {\n",
    "    'host': 'localhost',\n",
    "    'user': 'root',\n",
    "    'password': '22976738',\n",
    "    'database': 'projeto'\n",
    "}\n",
    "\n",
    "\n",
    "try:\n",
    "    connection = mysql.connector.connect(**db_config)\n",
    "    if connection.is_connected():\n",
    "        print(\"Conexão ao banco de dados bem-sucedida.\")   \n",
    "except mysql.connector.Error as e:\n",
    "    print(f\"Erro ao conectar ao banco de dados: {e}\")\n",
    "    \n",
    "    \n",
    "conn = mysql.connector.connect(**db_config)\n",
    "cursor = conn.cursor()\n"
   ]
  },
  {
   "cell_type": "code",
   "execution_count": 18,
   "metadata": {},
   "outputs": [],
   "source": [
    "# create_table_query_deposito = \"\"\"\n",
    "#     CREATE TABLE IF NOT EXISTS deposito(\n",
    "#         id_deposito INT AUTO_INCREMENT PRIMARY KEY,\n",
    "#         Descricao_deposito VARCHAR(255),\n",
    "#         localizacao_endereco VARCHAR(100),\n",
    "#         Quantidade INT,\n",
    "#         codigo_produto INT,\n",
    "#         produto VARCHAR(100),\n",
    "#         data_inspecao DATE,\n",
    "#         custos_seguro DECIMAL(10, 2),\n",
    "#         Energia VARCHAR(50)\n",
    "#     );\n",
    "# \"\"\"\n",
    "\n",
    "# cursor.execute(create_table_query_deposito)\n",
    "# conn.commit()\n"
   ]
  },
  {
   "cell_type": "code",
   "execution_count": 19,
   "metadata": {},
   "outputs": [
    {
     "name": "stdout",
     "output_type": "stream",
     "text": [
      "Conexão fechada com sucesso.\n"
     ]
    }
   ],
   "source": [
    "depositos = ['deposito 1', 'deposito 2', 'deposito 3', 'deposito 4']\n",
    "localizacao_deposito = ['São Paulo', 'São José dos Campos', 'Botucatu', 'Sorocaba']\n",
    "produtos = ['placas de titânio', 'parafusos', 'cilindros']\n",
    "\n",
    "fake = Faker('pt_BR')\n",
    "\n",
    "for _ in range(5):\n",
    "    id = randint(1, 5)\n",
    "    descricao_deposito = choice(depositos)\n",
    "    localizacao = localizacao_deposito\n",
    "    quantidade = randint(1, 100)\n",
    "    codigo_produto = randint(1000, 9999)\n",
    "    produto = choice(produtos)\n",
    "    data_inspecao = fake.date_this_decade()\n",
    "    custos_seguro = round(uniform(1000, 5000), 2)\n",
    "    Energia = round(uniform(1000, 5000), 2)\n",
    "\n",
    "    if descricao_deposito == 'deposito 1':\n",
    "        localizacao_endereco = 'São Paulo'\n",
    "    elif descricao_deposito == 'deposito 2':\n",
    "        localizacao_endereco = 'São José dos Campos'\n",
    "    elif descricao_deposito == 'deposito 3':\n",
    "        localizacao_endereco = 'Sorocaba'\n",
    "    elif descricao_deposito == 'deposito 4':\n",
    "        localizacao_endereco = 'Botucatu'\n",
    "    else:\n",
    "        localizacao_endereco = 'Descrição não localizada'\n",
    "\n",
    "    insert_query = \"INSERT INTO deposito (descricao_deposito, localizacao_endereco, quantidade, codigo_produto, produto, data_inspecao, custos_seguro, Energia) VALUES (%s, %s, %s, %s, %s, %s, %s, %s)\"\n",
    "    data = (descricao_deposito, localizacao_endereco, quantidade, codigo_produto, produto, data_inspecao, custos_seguro, Energia)\n",
    "\n",
    "    try:\n",
    "        cursor.execute(insert_query, data)\n",
    "        conn.commit()\n",
    "    except Exception as e:\n",
    "        print(f\"Erro ao inserir dados: {e}\")\n",
    "\n",
    "\n",
    "\n",
    "try:\n",
    "    cursor.close()\n",
    "    print(\"Conexão fechada com sucesso.\")\n",
    "    conn.close()\n",
    "except Exception as e:\n",
    "    print(f\"Erro ao fechar a conexão: {e}\")\n",
    "\n"
   ]
  }
 ],
 "metadata": {
  "kernelspec": {
   "display_name": "Python 3",
   "language": "python",
   "name": "python3"
  },
  "language_info": {
   "codemirror_mode": {
    "name": "ipython",
    "version": 3
   },
   "file_extension": ".py",
   "mimetype": "text/x-python",
   "name": "python",
   "nbconvert_exporter": "python",
   "pygments_lexer": "ipython3",
   "version": "3.11.5"
  }
 },
 "nbformat": 4,
 "nbformat_minor": 2
}
