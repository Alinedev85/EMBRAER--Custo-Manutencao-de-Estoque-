{
 "cells": [
  {
   "cell_type": "code",
   "execution_count": 13,
   "metadata": {},
   "outputs": [
    {
     "name": "stdout",
     "output_type": "stream",
     "text": [
      "Requirement already satisfied: mysql-connector-python in c:\\python311\\lib\\site-packages (8.1.0)\n",
      "Requirement already satisfied: protobuf<=4.21.12,>=4.21.1 in c:\\python311\\lib\\site-packages (from mysql-connector-python) (4.21.12)\n",
      "Note: you may need to restart the kernel to use updated packages.\n"
     ]
    }
   ],
   "source": [
    "pip install mysql-connector-python"
   ]
  },
  {
   "cell_type": "code",
   "execution_count": 14,
   "metadata": {},
   "outputs": [],
   "source": [
    "import mysql.connector\n",
    "from mysql.connector import Error\n",
    "from random import randint, choice, uniform\n",
    "from faker import Faker"
   ]
  },
  {
   "cell_type": "code",
   "execution_count": 15,
   "metadata": {},
   "outputs": [
    {
     "name": "stdout",
     "output_type": "stream",
     "text": [
      "Conexão ao banco de dados bem-sucedida.\n"
     ]
    }
   ],
   "source": [
    "db_config = {\n",
    "    'host': 'localhost',\n",
    "    'user': 'root',\n",
    "    'password': '22976738',\n",
    "    'database': 'Embraer2'\n",
    "}\n",
    "\n",
    "\n",
    "try:\n",
    "    connection = mysql.connector.connect(**db_config)\n",
    "    if connection.is_connected():\n",
    "        print(\"Conexão ao banco de dados bem-sucedida.\")   \n",
    "except mysql.connector.Error as e:\n",
    "    print(f\"Erro ao conectar ao banco de dados: {e}\")\n",
    "    \n",
    "    \n",
    "conn = mysql.connector.connect(**db_config)\n",
    "cursor = conn.cursor()\n"
   ]
  },
  {
   "cell_type": "code",
   "execution_count": 16,
   "metadata": {},
   "outputs": [],
   "source": [
    "create_table_query_deposito = \"\"\"\n",
    " \n",
    "    CREATE TABLE IF NOT EXISTS deposito(\n",
    "     id INT AUTO_INCREMENT PRIMARY KEY NOT NULL,\n",
    "     descricao_deposito VARCHAR(255),\n",
    "     localizacao_endereco VARCHAR(100),\n",
    "     quantidade INT,\n",
    "     codigo_produto INT,\n",
    "     produto VARCHAR(100),\n",
    "     data_inspecao DATE,\n",
    "     custos_seguro DECIMAL(10, 2),\n",
    "     energia VARCHAR(50),\n",
    "     id_produtos INT,\n",
    "     CONSTRAINT codigo_produto_d FOREIGN KEY (id_produtos) REFERENCES produtos(id)\n",
    "     );\n",
    "     \n",
    "\"\"\"\n",
    "\n",
    "cursor.execute(create_table_query_deposito)\n",
    "conn.commit()\n"
   ]
  },
  {
   "cell_type": "code",
   "execution_count": 17,
   "metadata": {},
   "outputs": [
    {
     "name": "stdout",
     "output_type": "stream",
     "text": [
      "INSERT INTO deposito (descricao_deposito, localizacao_endereco, quantidade, codigo_produto, produto, data_inspecao, custos_seguro, Energia, id_produtos) VALUES ('deposito 1', 'São Paulo', 30, 3325, 'cilindros', '2020-09-27', 4704.69, 3916.79, 5);\n",
      "INSERT INTO deposito (descricao_deposito, localizacao_endereco, quantidade, codigo_produto, produto, data_inspecao, custos_seguro, Energia, id_produtos) VALUES ('deposito 2', 'São José dos Campos', 20, 5210, 'cilindros', '2022-10-14', 3135.76, 4928.66, 3);\n",
      "INSERT INTO deposito (descricao_deposito, localizacao_endereco, quantidade, codigo_produto, produto, data_inspecao, custos_seguro, Energia, id_produtos) VALUES ('deposito 2', 'São José dos Campos', 77, 6074, 'fixador', '2022-04-05', 4126.96, 2723.2, 5);\n",
      "INSERT INTO deposito (descricao_deposito, localizacao_endereco, quantidade, codigo_produto, produto, data_inspecao, custos_seguro, Energia, id_produtos) VALUES ('deposito 3', 'Sorocaba', 47, 6521, 'quadros de janela do cockpit', '2022-12-18', 1155.54, 2982.43, 2);\n",
      "INSERT INTO deposito (descricao_deposito, localizacao_endereco, quantidade, codigo_produto, produto, data_inspecao, custos_seguro, Energia, id_produtos) VALUES ('deposito 2', 'São José dos Campos', 20, 6176, 'tubos hidráulicos', '2020-05-18', 2524.05, 1022.62, 5);\n",
      "INSERT INTO deposito (descricao_deposito, localizacao_endereco, quantidade, codigo_produto, produto, data_inspecao, custos_seguro, Energia, id_produtos) VALUES ('deposito 1', 'São Paulo', 49, 8354, 'fixador', '2021-05-10', 3031.32, 4529.04, 1);\n",
      "INSERT INTO deposito (descricao_deposito, localizacao_endereco, quantidade, codigo_produto, produto, data_inspecao, custos_seguro, Energia, id_produtos) VALUES ('deposito 3', 'Sorocaba', 21, 2767, 'porta', '2022-01-11', 2558.26, 3228.95, 4);\n",
      "INSERT INTO deposito (descricao_deposito, localizacao_endereco, quantidade, codigo_produto, produto, data_inspecao, custos_seguro, Energia, id_produtos) VALUES ('deposito 1', 'São Paulo', 83, 8277, 'trem de pouso', '2020-04-18', 3457.05, 3454.24, 2);\n",
      "INSERT INTO deposito (descricao_deposito, localizacao_endereco, quantidade, codigo_produto, produto, data_inspecao, custos_seguro, Energia, id_produtos) VALUES ('deposito 3', 'Sorocaba', 49, 3625, 'parafusos', '2022-04-02', 3003.52, 2545.74, 4);\n",
      "INSERT INTO deposito (descricao_deposito, localizacao_endereco, quantidade, codigo_produto, produto, data_inspecao, custos_seguro, Energia, id_produtos) VALUES ('deposito 1', 'São Paulo', 57, 3108, 'fuselagem de aeronaves', '2020-06-04', 1019.99, 4490.01, 5);\n",
      "INSERT INTO deposito (descricao_deposito, localizacao_endereco, quantidade, codigo_produto, produto, data_inspecao, custos_seguro, Energia, id_produtos) VALUES ('deposito 2', 'São José dos Campos', 59, 4175, 'placas de titânio', '2020-01-27', 4454.41, 2557.47, 4);\n",
      "INSERT INTO deposito (descricao_deposito, localizacao_endereco, quantidade, codigo_produto, produto, data_inspecao, custos_seguro, Energia, id_produtos) VALUES ('deposito 2', 'São José dos Campos', 79, 4965, 'porta', '2023-10-14', 1360.05, 3028.65, 2);\n",
      "INSERT INTO deposito (descricao_deposito, localizacao_endereco, quantidade, codigo_produto, produto, data_inspecao, custos_seguro, Energia, id_produtos) VALUES ('deposito 1', 'São Paulo', 61, 5886, 'fuselagem de aeronaves', '2021-10-10', 2877.74, 1630.21, 4);\n",
      "INSERT INTO deposito (descricao_deposito, localizacao_endereco, quantidade, codigo_produto, produto, data_inspecao, custos_seguro, Energia, id_produtos) VALUES ('deposito 3', 'Sorocaba', 23, 6823, 'longarina', '2021-04-07', 1265.97, 2344.73, 4);\n",
      "Conexão fechada com sucesso.\n"
     ]
    }
   ],
   "source": [
    "depositos = ['deposito 1', 'deposito 2', 'deposito 3', 'deposito 4']\n",
    "localizacao_deposito = ['São Paulo', 'São José dos Campos', 'Botucatu', 'Sorocaba']\n",
    "produtos = ['placas de titânio', 'parafusos', 'cilindros', 'fuselagem de aeronaves', 'tubos hidráulicos', 'trem de pouso', 'quadros de janela do cockpit', 'fixador', 'porta', 'estrutura de asa', 'pás do ventilador', 'lâminas de compressor', 'aerofólio', 'longarina' ]\n",
    "\n",
    "fake = Faker('pt_BR')\n",
    "\n",
    "for _ in range(14):\n",
    "    id = randint(1, 5)\n",
    "    descricao_deposito = choice(depositos)\n",
    "    localizacao = localizacao_deposito\n",
    "    quantidade = randint(1, 100)\n",
    "    codigo_produto = randint(1000, 9999)\n",
    "    produto = choice(produtos)\n",
    "    data_inspecao = fake.date_this_decade()\n",
    "    custos_seguro = round(uniform(1000, 5000), 2)\n",
    "    Energia = round(uniform(1000, 5000), 2)\n",
    "    id_produtos = randint(1, 5)\n",
    "\n",
    "    if descricao_deposito == 'deposito 1':\n",
    "        localizacao_endereco = 'São Paulo'\n",
    "    elif descricao_deposito == 'deposito 2':\n",
    "        localizacao_endereco = 'São José dos Campos'\n",
    "    elif descricao_deposito == 'deposito 3':\n",
    "        localizacao_endereco = 'Sorocaba'\n",
    "    elif descricao_deposito == 'deposito 4':\n",
    "        localizacao_endereco = 'Botucatu'\n",
    "    else:\n",
    "        localizacao_endereco = 'Descrição não localizada'\n",
    "        \n",
    "        \n",
    "    print(f\"INSERT INTO deposito (descricao_deposito, localizacao_endereco, quantidade, codigo_produto, produto, data_inspecao, custos_seguro, Energia, id_produtos) VALUES ('{descricao_deposito}', '{localizacao_endereco}', {quantidade}, {codigo_produto}, '{produto}', '{data_inspecao}', {custos_seguro}, {Energia}, {id_produtos});\")\n",
    "\n",
    "    insert_query = \"INSERT INTO deposito (descricao_deposito, localizacao_endereco, quantidade, codigo_produto, produto, data_inspecao, custos_seguro, Energia, id_produtos) VALUES (%s, %s, %s, %s, %s, %s, %s, %s, %s)\"\n",
    "    data = (descricao_deposito, localizacao_endereco, quantidade, codigo_produto, produto, data_inspecao, custos_seguro, Energia, id_produtos)\n",
    "\n",
    "    try:\n",
    "        cursor.execute(insert_query, data)\n",
    "        conn.commit()\n",
    "    except Exception as e:\n",
    "        print(f\"Erro ao inserir dados: {e}\")\n",
    "\n",
    "\n",
    "\n",
    "try:\n",
    "    cursor.close()\n",
    "    print(\"Conexão fechada com sucesso.\")\n",
    "    conn.close()\n",
    "except Exception as e:\n",
    "    print(f\"Erro ao fechar a conexão: {e}\")\n",
    "\n"
   ]
  }
 ],
 "metadata": {
  "kernelspec": {
   "display_name": "Python 3",
   "language": "python",
   "name": "python3"
  },
  "language_info": {
   "codemirror_mode": {
    "name": "ipython",
    "version": 3
   },
   "file_extension": ".py",
   "mimetype": "text/x-python",
   "name": "python",
   "nbconvert_exporter": "python",
   "pygments_lexer": "ipython3",
   "version": "3.11.5"
  }
 },
 "nbformat": 4,
 "nbformat_minor": 2
}
