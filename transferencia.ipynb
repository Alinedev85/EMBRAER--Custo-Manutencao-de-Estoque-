{
 "cells": [
  {
   "cell_type": "code",
   "execution_count": 10,
   "metadata": {},
   "outputs": [
    {
     "name": "stdout",
     "output_type": "stream",
     "text": [
      "Requirement already satisfied: mysql-connector-python in c:\\python311\\lib\\site-packages (8.1.0)\n",
      "Requirement already satisfied: protobuf<=4.21.12,>=4.21.1 in c:\\python311\\lib\\site-packages (from mysql-connector-python) (4.21.12)\n",
      "Note: you may need to restart the kernel to use updated packages.\n"
     ]
    }
   ],
   "source": [
    "pip install mysql-connector-python"
   ]
  },
  {
   "cell_type": "code",
   "execution_count": 11,
   "metadata": {},
   "outputs": [],
   "source": [
    "import mysql.connector\n",
    "from mysql.connector import Error\n",
    "from random import randint, choice, uniform\n",
    "from faker import Faker"
   ]
  },
  {
   "cell_type": "code",
   "execution_count": 12,
   "metadata": {},
   "outputs": [
    {
     "name": "stdout",
     "output_type": "stream",
     "text": [
      "Conexão ao banco de dados bem-sucedida.\n"
     ]
    }
   ],
   "source": [
    "db_config = {\n",
    "    'host': 'localhost',\n",
    "    'user': 'root',\n",
    "    'password': '22976738',\n",
    "    'database': 'Embraer2'\n",
    "}\n",
    "\n",
    "\n",
    "try:\n",
    "    connection = mysql.connector.connect(**db_config)\n",
    "    if connection.is_connected():\n",
    "        print(\"Conexão ao banco de dados bem-sucedida.\")   \n",
    "except mysql.connector.Error as e:\n",
    "    print(f\"Erro ao conectar ao banco de dados: {e}\")\n",
    "    \n",
    "    \n",
    "conn = mysql.connector.connect(**db_config)\n",
    "cursor = conn.cursor()\n"
   ]
  },
  {
   "cell_type": "code",
   "execution_count": 13,
   "metadata": {},
   "outputs": [],
   "source": [
    "\n",
    "# create_table_query_transferencia = \"\"\"\n",
    "\n",
    "#     CREATE TABLE transferencia(\n",
    "#       id INT AUTO_INCREMENT PRIMARY KEY,\n",
    "#     id_dep_origem INT NOT NULL,\n",
    "#     id_dep_dest INT NOT NULL,\n",
    "#     qtde_transf INT NOT NULL,\n",
    "#     id_chapa INT NOT NULL,\n",
    "#     data_transf DATE NOT NULL,\n",
    "#     frete FLOAT NOT NULL,\n",
    "#     CONSTRAINT cont_chapa FOREIGN KEY (id_chapa) REFERENCES funcionario(chapa)\n",
    "# );\n",
    "    \n",
    "# \"\"\"\n",
    " \n",
    "# cursor.execute(create_table_query_transferencia)\n",
    "# conn.commit()"
   ]
  },
  {
   "cell_type": "code",
   "execution_count": 14,
   "metadata": {},
   "outputs": [
    {
     "name": "stdout",
     "output_type": "stream",
     "text": [
      "INSERT INTO transferencia (id_dep_origem, id_dep_dest, qtde_transf, id_chapa, data_transf, frete) VALUES (7, 9, 57, 6, '2023-12-11', 4400);\n",
      "Erro ao inserir dados: 1452 (23000): Cannot add or update a child row: a foreign key constraint fails (`embraer2`.`transferencia`, CONSTRAINT `cont_chapa` FOREIGN KEY (`id_chapa`) REFERENCES `funcionario` (`chapa`))\n",
      "INSERT INTO transferencia (id_dep_origem, id_dep_dest, qtde_transf, id_chapa, data_transf, frete) VALUES (1, 6, 10, 6, '2023-12-04', 5500);\n",
      "Erro ao inserir dados: 1452 (23000): Cannot add or update a child row: a foreign key constraint fails (`embraer2`.`transferencia`, CONSTRAINT `cont_chapa` FOREIGN KEY (`id_chapa`) REFERENCES `funcionario` (`chapa`))\n",
      "INSERT INTO transferencia (id_dep_origem, id_dep_dest, qtde_transf, id_chapa, data_transf, frete) VALUES (2, 5, 74, 7, '2023-12-05', 8500);\n",
      "Erro ao inserir dados: 1452 (23000): Cannot add or update a child row: a foreign key constraint fails (`embraer2`.`transferencia`, CONSTRAINT `cont_chapa` FOREIGN KEY (`id_chapa`) REFERENCES `funcionario` (`chapa`))\n",
      "INSERT INTO transferencia (id_dep_origem, id_dep_dest, qtde_transf, id_chapa, data_transf, frete) VALUES (1, 1, 25, 5, '2023-11-25', 3400);\n",
      "INSERT INTO transferencia (id_dep_origem, id_dep_dest, qtde_transf, id_chapa, data_transf, frete) VALUES (1, 5, 52, 9, '2023-11-22', 2200);\n",
      "Erro ao inserir dados: 1452 (23000): Cannot add or update a child row: a foreign key constraint fails (`embraer2`.`transferencia`, CONSTRAINT `cont_chapa` FOREIGN KEY (`id_chapa`) REFERENCES `funcionario` (`chapa`))\n",
      "INSERT INTO transferencia (id_dep_origem, id_dep_dest, qtde_transf, id_chapa, data_transf, frete) VALUES (10, 10, 42, 5, '2023-12-10', 4500);\n",
      "INSERT INTO transferencia (id_dep_origem, id_dep_dest, qtde_transf, id_chapa, data_transf, frete) VALUES (1, 1, 35, 4, '2023-11-24', 3600);\n",
      "INSERT INTO transferencia (id_dep_origem, id_dep_dest, qtde_transf, id_chapa, data_transf, frete) VALUES (1, 1, 29, 1, '2023-11-20', 6400);\n",
      "INSERT INTO transferencia (id_dep_origem, id_dep_dest, qtde_transf, id_chapa, data_transf, frete) VALUES (6, 1, 65, 4, '2023-12-08', 6500);\n",
      "INSERT INTO transferencia (id_dep_origem, id_dep_dest, qtde_transf, id_chapa, data_transf, frete) VALUES (2, 1, 67, 10, '2023-11-15', 7100);\n",
      "Erro ao inserir dados: 1452 (23000): Cannot add or update a child row: a foreign key constraint fails (`embraer2`.`transferencia`, CONSTRAINT `cont_chapa` FOREIGN KEY (`id_chapa`) REFERENCES `funcionario` (`chapa`))\n",
      "INSERT INTO transferencia (id_dep_origem, id_dep_dest, qtde_transf, id_chapa, data_transf, frete) VALUES (9, 9, 44, 8, '2023-11-26', 4800);\n",
      "Erro ao inserir dados: 1452 (23000): Cannot add or update a child row: a foreign key constraint fails (`embraer2`.`transferencia`, CONSTRAINT `cont_chapa` FOREIGN KEY (`id_chapa`) REFERENCES `funcionario` (`chapa`))\n",
      "INSERT INTO transferencia (id_dep_origem, id_dep_dest, qtde_transf, id_chapa, data_transf, frete) VALUES (8, 10, 10, 6, '2023-11-27', 8200);\n",
      "Erro ao inserir dados: 1452 (23000): Cannot add or update a child row: a foreign key constraint fails (`embraer2`.`transferencia`, CONSTRAINT `cont_chapa` FOREIGN KEY (`id_chapa`) REFERENCES `funcionario` (`chapa`))\n",
      "INSERT INTO transferencia (id_dep_origem, id_dep_dest, qtde_transf, id_chapa, data_transf, frete) VALUES (7, 2, 89, 5, '2023-11-21', 7400);\n",
      "INSERT INTO transferencia (id_dep_origem, id_dep_dest, qtde_transf, id_chapa, data_transf, frete) VALUES (6, 6, 38, 10, '2023-11-26', 7200);\n",
      "Erro ao inserir dados: 1452 (23000): Cannot add or update a child row: a foreign key constraint fails (`embraer2`.`transferencia`, CONSTRAINT `cont_chapa` FOREIGN KEY (`id_chapa`) REFERENCES `funcionario` (`chapa`))\n",
      "INSERT INTO transferencia (id_dep_origem, id_dep_dest, qtde_transf, id_chapa, data_transf, frete) VALUES (10, 4, 73, 4, '2023-12-07', 1300);\n",
      "INSERT INTO transferencia (id_dep_origem, id_dep_dest, qtde_transf, id_chapa, data_transf, frete) VALUES (9, 5, 23, 10, '2023-11-15', 9000);\n",
      "Erro ao inserir dados: 1452 (23000): Cannot add or update a child row: a foreign key constraint fails (`embraer2`.`transferencia`, CONSTRAINT `cont_chapa` FOREIGN KEY (`id_chapa`) REFERENCES `funcionario` (`chapa`))\n",
      "INSERT INTO transferencia (id_dep_origem, id_dep_dest, qtde_transf, id_chapa, data_transf, frete) VALUES (6, 10, 94, 3, '2023-12-14', 6000);\n",
      "INSERT INTO transferencia (id_dep_origem, id_dep_dest, qtde_transf, id_chapa, data_transf, frete) VALUES (5, 10, 91, 5, '2023-12-06', 7200);\n",
      "INSERT INTO transferencia (id_dep_origem, id_dep_dest, qtde_transf, id_chapa, data_transf, frete) VALUES (1, 7, 31, 8, '2023-12-02', 5500);\n",
      "Erro ao inserir dados: 1452 (23000): Cannot add or update a child row: a foreign key constraint fails (`embraer2`.`transferencia`, CONSTRAINT `cont_chapa` FOREIGN KEY (`id_chapa`) REFERENCES `funcionario` (`chapa`))\n",
      "INSERT INTO transferencia (id_dep_origem, id_dep_dest, qtde_transf, id_chapa, data_transf, frete) VALUES (9, 8, 54, 8, '2023-12-01', 3100);\n",
      "Erro ao inserir dados: 1452 (23000): Cannot add or update a child row: a foreign key constraint fails (`embraer2`.`transferencia`, CONSTRAINT `cont_chapa` FOREIGN KEY (`id_chapa`) REFERENCES `funcionario` (`chapa`))\n",
      "INSERT INTO transferencia (id_dep_origem, id_dep_dest, qtde_transf, id_chapa, data_transf, frete) VALUES (4, 4, 93, 5, '2023-11-15', 6200);\n",
      "INSERT INTO transferencia (id_dep_origem, id_dep_dest, qtde_transf, id_chapa, data_transf, frete) VALUES (3, 7, 55, 6, '2023-12-11', 8900);\n",
      "Erro ao inserir dados: 1452 (23000): Cannot add or update a child row: a foreign key constraint fails (`embraer2`.`transferencia`, CONSTRAINT `cont_chapa` FOREIGN KEY (`id_chapa`) REFERENCES `funcionario` (`chapa`))\n",
      "INSERT INTO transferencia (id_dep_origem, id_dep_dest, qtde_transf, id_chapa, data_transf, frete) VALUES (9, 8, 60, 1, '2023-12-12', 8600);\n",
      "INSERT INTO transferencia (id_dep_origem, id_dep_dest, qtde_transf, id_chapa, data_transf, frete) VALUES (9, 3, 85, 8, '2023-12-03', 4100);\n",
      "Erro ao inserir dados: 1452 (23000): Cannot add or update a child row: a foreign key constraint fails (`embraer2`.`transferencia`, CONSTRAINT `cont_chapa` FOREIGN KEY (`id_chapa`) REFERENCES `funcionario` (`chapa`))\n",
      "INSERT INTO transferencia (id_dep_origem, id_dep_dest, qtde_transf, id_chapa, data_transf, frete) VALUES (8, 4, 7, 3, '2023-12-11', 1200);\n",
      "INSERT INTO transferencia (id_dep_origem, id_dep_dest, qtde_transf, id_chapa, data_transf, frete) VALUES (6, 7, 39, 8, '2023-12-10', 8700);\n",
      "Erro ao inserir dados: 1452 (23000): Cannot add or update a child row: a foreign key constraint fails (`embraer2`.`transferencia`, CONSTRAINT `cont_chapa` FOREIGN KEY (`id_chapa`) REFERENCES `funcionario` (`chapa`))\n",
      "INSERT INTO transferencia (id_dep_origem, id_dep_dest, qtde_transf, id_chapa, data_transf, frete) VALUES (1, 4, 6, 9, '2023-12-01', 3600);\n",
      "Erro ao inserir dados: 1452 (23000): Cannot add or update a child row: a foreign key constraint fails (`embraer2`.`transferencia`, CONSTRAINT `cont_chapa` FOREIGN KEY (`id_chapa`) REFERENCES `funcionario` (`chapa`))\n",
      "INSERT INTO transferencia (id_dep_origem, id_dep_dest, qtde_transf, id_chapa, data_transf, frete) VALUES (6, 10, 14, 1, '2023-11-26', 7300);\n",
      "INSERT INTO transferencia (id_dep_origem, id_dep_dest, qtde_transf, id_chapa, data_transf, frete) VALUES (9, 10, 7, 5, '2023-11-26', 5000);\n",
      "INSERT INTO transferencia (id_dep_origem, id_dep_dest, qtde_transf, id_chapa, data_transf, frete) VALUES (8, 4, 83, 8, '2023-12-08', 4600);\n",
      "Erro ao inserir dados: 1452 (23000): Cannot add or update a child row: a foreign key constraint fails (`embraer2`.`transferencia`, CONSTRAINT `cont_chapa` FOREIGN KEY (`id_chapa`) REFERENCES `funcionario` (`chapa`))\n",
      "INSERT INTO transferencia (id_dep_origem, id_dep_dest, qtde_transf, id_chapa, data_transf, frete) VALUES (3, 1, 64, 6, '2023-12-02', 4600);\n",
      "Erro ao inserir dados: 1452 (23000): Cannot add or update a child row: a foreign key constraint fails (`embraer2`.`transferencia`, CONSTRAINT `cont_chapa` FOREIGN KEY (`id_chapa`) REFERENCES `funcionario` (`chapa`))\n",
      "INSERT INTO transferencia (id_dep_origem, id_dep_dest, qtde_transf, id_chapa, data_transf, frete) VALUES (2, 5, 86, 5, '2023-11-30', 8700);\n",
      "INSERT INTO transferencia (id_dep_origem, id_dep_dest, qtde_transf, id_chapa, data_transf, frete) VALUES (2, 6, 46, 6, '2023-11-19', 6100);\n",
      "Erro ao inserir dados: 1452 (23000): Cannot add or update a child row: a foreign key constraint fails (`embraer2`.`transferencia`, CONSTRAINT `cont_chapa` FOREIGN KEY (`id_chapa`) REFERENCES `funcionario` (`chapa`))\n",
      "INSERT INTO transferencia (id_dep_origem, id_dep_dest, qtde_transf, id_chapa, data_transf, frete) VALUES (2, 7, 69, 1, '2023-12-08', 9000);\n",
      "INSERT INTO transferencia (id_dep_origem, id_dep_dest, qtde_transf, id_chapa, data_transf, frete) VALUES (5, 8, 40, 8, '2023-11-18', 1400);\n",
      "Erro ao inserir dados: 1452 (23000): Cannot add or update a child row: a foreign key constraint fails (`embraer2`.`transferencia`, CONSTRAINT `cont_chapa` FOREIGN KEY (`id_chapa`) REFERENCES `funcionario` (`chapa`))\n",
      "INSERT INTO transferencia (id_dep_origem, id_dep_dest, qtde_transf, id_chapa, data_transf, frete) VALUES (7, 1, 71, 6, '2023-11-29', 6600);\n",
      "Erro ao inserir dados: 1452 (23000): Cannot add or update a child row: a foreign key constraint fails (`embraer2`.`transferencia`, CONSTRAINT `cont_chapa` FOREIGN KEY (`id_chapa`) REFERENCES `funcionario` (`chapa`))\n",
      "INSERT INTO transferencia (id_dep_origem, id_dep_dest, qtde_transf, id_chapa, data_transf, frete) VALUES (2, 5, 92, 4, '2023-11-15', 9400);\n",
      "INSERT INTO transferencia (id_dep_origem, id_dep_dest, qtde_transf, id_chapa, data_transf, frete) VALUES (7, 7, 35, 10, '2023-11-18', 6900);\n",
      "Erro ao inserir dados: 1452 (23000): Cannot add or update a child row: a foreign key constraint fails (`embraer2`.`transferencia`, CONSTRAINT `cont_chapa` FOREIGN KEY (`id_chapa`) REFERENCES `funcionario` (`chapa`))\n",
      "INSERT INTO transferencia (id_dep_origem, id_dep_dest, qtde_transf, id_chapa, data_transf, frete) VALUES (5, 7, 94, 8, '2023-11-20', 9000);\n",
      "Erro ao inserir dados: 1452 (23000): Cannot add or update a child row: a foreign key constraint fails (`embraer2`.`transferencia`, CONSTRAINT `cont_chapa` FOREIGN KEY (`id_chapa`) REFERENCES `funcionario` (`chapa`))\n",
      "INSERT INTO transferencia (id_dep_origem, id_dep_dest, qtde_transf, id_chapa, data_transf, frete) VALUES (6, 3, 71, 9, '2023-12-14', 3600);\n",
      "Erro ao inserir dados: 1452 (23000): Cannot add or update a child row: a foreign key constraint fails (`embraer2`.`transferencia`, CONSTRAINT `cont_chapa` FOREIGN KEY (`id_chapa`) REFERENCES `funcionario` (`chapa`))\n",
      "INSERT INTO transferencia (id_dep_origem, id_dep_dest, qtde_transf, id_chapa, data_transf, frete) VALUES (3, 2, 95, 4, '2023-11-18', 3900);\n",
      "INSERT INTO transferencia (id_dep_origem, id_dep_dest, qtde_transf, id_chapa, data_transf, frete) VALUES (6, 8, 65, 8, '2023-11-16', 2800);\n",
      "Erro ao inserir dados: 1452 (23000): Cannot add or update a child row: a foreign key constraint fails (`embraer2`.`transferencia`, CONSTRAINT `cont_chapa` FOREIGN KEY (`id_chapa`) REFERENCES `funcionario` (`chapa`))\n",
      "INSERT INTO transferencia (id_dep_origem, id_dep_dest, qtde_transf, id_chapa, data_transf, frete) VALUES (7, 10, 92, 8, '2023-12-08', 7400);\n",
      "Erro ao inserir dados: 1452 (23000): Cannot add or update a child row: a foreign key constraint fails (`embraer2`.`transferencia`, CONSTRAINT `cont_chapa` FOREIGN KEY (`id_chapa`) REFERENCES `funcionario` (`chapa`))\n",
      "INSERT INTO transferencia (id_dep_origem, id_dep_dest, qtde_transf, id_chapa, data_transf, frete) VALUES (4, 3, 74, 4, '2023-12-14', 6300);\n",
      "INSERT INTO transferencia (id_dep_origem, id_dep_dest, qtde_transf, id_chapa, data_transf, frete) VALUES (8, 6, 48, 9, '2023-12-09', 8000);\n",
      "Erro ao inserir dados: 1452 (23000): Cannot add or update a child row: a foreign key constraint fails (`embraer2`.`transferencia`, CONSTRAINT `cont_chapa` FOREIGN KEY (`id_chapa`) REFERENCES `funcionario` (`chapa`))\n",
      "INSERT INTO transferencia (id_dep_origem, id_dep_dest, qtde_transf, id_chapa, data_transf, frete) VALUES (8, 3, 85, 9, '2023-11-16', 5000);\n",
      "Erro ao inserir dados: 1452 (23000): Cannot add or update a child row: a foreign key constraint fails (`embraer2`.`transferencia`, CONSTRAINT `cont_chapa` FOREIGN KEY (`id_chapa`) REFERENCES `funcionario` (`chapa`))\n",
      "INSERT INTO transferencia (id_dep_origem, id_dep_dest, qtde_transf, id_chapa, data_transf, frete) VALUES (10, 6, 3, 1, '2023-12-11', 3000);\n",
      "INSERT INTO transferencia (id_dep_origem, id_dep_dest, qtde_transf, id_chapa, data_transf, frete) VALUES (9, 3, 47, 8, '2023-11-17', 2400);\n",
      "Erro ao inserir dados: 1452 (23000): Cannot add or update a child row: a foreign key constraint fails (`embraer2`.`transferencia`, CONSTRAINT `cont_chapa` FOREIGN KEY (`id_chapa`) REFERENCES `funcionario` (`chapa`))\n",
      "INSERT INTO transferencia (id_dep_origem, id_dep_dest, qtde_transf, id_chapa, data_transf, frete) VALUES (2, 7, 96, 6, '2023-11-23', 3100);\n",
      "Erro ao inserir dados: 1452 (23000): Cannot add or update a child row: a foreign key constraint fails (`embraer2`.`transferencia`, CONSTRAINT `cont_chapa` FOREIGN KEY (`id_chapa`) REFERENCES `funcionario` (`chapa`))\n",
      "INSERT INTO transferencia (id_dep_origem, id_dep_dest, qtde_transf, id_chapa, data_transf, frete) VALUES (6, 2, 3, 4, '2023-11-22', 1300);\n",
      "Conexão fechada com sucesso.\n"
     ]
    }
   ],
   "source": [
    "fake = Faker('pt_BR')\n",
    "\n",
    "for _ in range(50):\n",
    "    id_dep_origem = randint(1, 10)\n",
    "    id_dep_dest = randint(1, 10)\n",
    "    qtde_transf = randint(1, 100)\n",
    "    id_chapa = randint(1, 10)\n",
    "    data_transf = fake.date_between(start_date='-30d', end_date='today')\n",
    "    frete = round(fake.random_number(2, True) * 100, 2)\n",
    "\n",
    "    print(f\"INSERT INTO transferencia (id_dep_origem, id_dep_dest, qtde_transf, id_chapa, data_transf, frete) VALUES ({id_dep_origem}, {id_dep_dest}, {qtde_transf}, {id_chapa}, '{data_transf}', {frete});\")\n",
    "\n",
    "    insert_query = \"INSERT INTO transferencia (id_dep_origem, id_dep_dest, qtde_transf, id_chapa, data_transf, frete) VALUES (%s, %s, %s, %s, %s, %s)\"\n",
    "    data = (id_dep_origem, id_dep_dest, qtde_transf, id_chapa, data_transf, frete)\n",
    "\n",
    "    try:\n",
    "        cursor.execute(insert_query, data)\n",
    "        conn.commit()\n",
    "    except Exception as e:\n",
    "        print(f\"Erro ao inserir dados: {e}\")\n",
    "\n",
    "try:\n",
    "    cursor.close()\n",
    "    print(\"Conexão fechada com sucesso.\")\n",
    "    conn.close()\n",
    "except Exception as e:\n",
    "    print(f\"Erro ao fechar a conexão: {e}\")\n"
   ]
  }
 ],
 "metadata": {
  "kernelspec": {
   "display_name": "Python 3",
   "language": "python",
   "name": "python3"
  },
  "language_info": {
   "codemirror_mode": {
    "name": "ipython",
    "version": 3
   },
   "file_extension": ".py",
   "mimetype": "text/x-python",
   "name": "python",
   "nbconvert_exporter": "python",
   "pygments_lexer": "ipython3",
   "version": "3.11.5"
  }
 },
 "nbformat": 4,
 "nbformat_minor": 2
}
