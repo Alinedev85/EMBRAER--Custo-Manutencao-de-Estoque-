{
 "cells": [
  {
   "cell_type": "code",
   "execution_count": 1,
   "metadata": {},
   "outputs": [
    {
     "name": "stdout",
     "output_type": "stream",
     "text": [
      "Requirement already satisfied: mysql-connector-python in c:\\python311\\lib\\site-packages (8.1.0)\n",
      "Requirement already satisfied: protobuf<=4.21.12,>=4.21.1 in c:\\python311\\lib\\site-packages (from mysql-connector-python) (4.21.12)\n",
      "Note: you may need to restart the kernel to use updated packages.\n"
     ]
    }
   ],
   "source": [
    "pip install mysql-connector-python"
   ]
  },
  {
   "cell_type": "code",
   "execution_count": 2,
   "metadata": {},
   "outputs": [],
   "source": [
    "import mysql.connector\n",
    "from mysql.connector import Error\n",
    "from random import randint, choice, uniform\n",
    "from faker import Faker"
   ]
  },
  {
   "cell_type": "code",
   "execution_count": null,
   "metadata": {},
   "outputs": [],
   "source": [
    "db_config = {\n",
    "    'host': 'localhost',\n",
    "    'user': 'root',\n",
    "    'password': '22976738',\n",
    "    'database': 'projeto'\n",
    "}\n",
    "\n",
    "\n",
    "try:\n",
    "    connection = mysql.connector.connect(**db_config)\n",
    "    if connection.is_connected():\n",
    "        print(\"Conexão ao banco de dados bem-sucedida.\")   \n",
    "except mysql.connector.Error as e:\n",
    "    print(f\"Erro ao conectar ao banco de dados: {e}\")\n",
    "    \n",
    "    \n",
    "conn = mysql.connector.connect(**db_config)\n",
    "cursor = conn.cursor()\n"
   ]
  },
  {
   "cell_type": "code",
   "execution_count": null,
   "metadata": {},
   "outputs": [],
   "source": [
    "\n",
    "# create_table_query_cidade = \"\"\"\n",
    "#       CREATE TABLE transferencia(\n",
    "#       id int auto_increment primary key, \n",
    "#       id_dep_origem int not null,\n",
    "#       id_dep_dest int not null,\n",
    "#       qtde_transf int not null,\n",
    "#       id_chapa int not null,\n",
    "#       data_transf date not null, \n",
    "#       frete float not null,\n",
    "#       constraint cont_chapa foreign key\n",
    "#       (id_chapa) references funcionario(chapa)\n",
    "# );\n",
    "#  \"\"\"\n",
    " \n",
    "# cursor.execute(create_table_query_cidade)\n",
    "# conn.commit()"
   ]
  },
  {
   "cell_type": "code",
   "execution_count": 3,
   "metadata": {},
   "outputs": [
    {
     "name": "stdout",
     "output_type": "stream",
     "text": [
      "INSERT INTO transferencia (id_dep_origem, id_dep_dest, qtde_transf, id_chapa, data_transf, frete) VALUES (6, 10, 57, 8, '2023-12-13', 3200);\n",
      "Erro ao inserir dados: name 'cursor' is not defined\n",
      "INSERT INTO transferencia (id_dep_origem, id_dep_dest, qtde_transf, id_chapa, data_transf, frete) VALUES (10, 8, 76, 5, '2023-12-10', 8600);\n",
      "Erro ao inserir dados: name 'cursor' is not defined\n",
      "INSERT INTO transferencia (id_dep_origem, id_dep_dest, qtde_transf, id_chapa, data_transf, frete) VALUES (10, 5, 71, 3, '2023-12-04', 5100);\n",
      "Erro ao inserir dados: name 'cursor' is not defined\n",
      "INSERT INTO transferencia (id_dep_origem, id_dep_dest, qtde_transf, id_chapa, data_transf, frete) VALUES (8, 2, 41, 8, '2023-11-16', 7800);\n",
      "Erro ao inserir dados: name 'cursor' is not defined\n",
      "INSERT INTO transferencia (id_dep_origem, id_dep_dest, qtde_transf, id_chapa, data_transf, frete) VALUES (2, 1, 18, 8, '2023-11-16', 4800);\n",
      "Erro ao inserir dados: name 'cursor' is not defined\n",
      "Erro ao fechar a conexão: name 'cursor' is not defined\n"
     ]
    }
   ],
   "source": [
    "fake = Faker('pt_BR')\n",
    "\n",
    "for _ in range(5):\n",
    "    id_dep_origem = randint(1, 10)\n",
    "    id_dep_dest = randint(1, 10)\n",
    "    qtde_transf = randint(1, 100)\n",
    "    id_chapa = randint(1, 10)\n",
    "    data_transf = fake.date_between(start_date='-30d', end_date='today')\n",
    "    frete = round(fake.random_number(2, True) * 100, 2)\n",
    "\n",
    "    print(f\"INSERT INTO transferencia (id_dep_origem, id_dep_dest, qtde_transf, id_chapa, data_transf, frete) VALUES ({id_dep_origem}, {id_dep_dest}, {qtde_transf}, {id_chapa}, '{data_transf}', {frete});\")\n",
    "\n",
    "    insert_query = \"INSERT INTO transferencia (id_dep_origem, id_dep_dest, qtde_transf, id_chapa, data_transf, frete) VALUES (%s, %s, %s, %s, %s, %s)\"\n",
    "    data = (id_dep_origem, id_dep_dest, qtde_transf, id_chapa, data_transf, frete)\n",
    "\n",
    "    try:\n",
    "        cursor.execute(insert_query, data)\n",
    "        conn.commit()\n",
    "    except Exception as e:\n",
    "        print(f\"Erro ao inserir dados: {e}\")\n",
    "\n",
    "try:\n",
    "    cursor.close()\n",
    "    print(\"Conexão fechada com sucesso.\")\n",
    "    conn.close()\n",
    "except Exception as e:\n",
    "    print(f\"Erro ao fechar a conexão: {e}\")\n"
   ]
  }
 ],
 "metadata": {
  "kernelspec": {
   "display_name": "Python 3",
   "language": "python",
   "name": "python3"
  },
  "language_info": {
   "codemirror_mode": {
    "name": "ipython",
    "version": 3
   },
   "file_extension": ".py",
   "mimetype": "text/x-python",
   "name": "python",
   "nbconvert_exporter": "python",
   "pygments_lexer": "ipython3",
   "version": "3.11.5"
  }
 },
 "nbformat": 4,
 "nbformat_minor": 2
}
