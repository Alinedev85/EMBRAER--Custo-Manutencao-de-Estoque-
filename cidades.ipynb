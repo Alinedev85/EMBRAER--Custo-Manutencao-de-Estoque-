{
 "cells": [
  {
   "cell_type": "code",
   "execution_count": 7,
   "metadata": {},
   "outputs": [
    {
     "name": "stdout",
     "output_type": "stream",
     "text": [
      "Requirement already satisfied: mysql-connector-python in c:\\python311\\lib\\site-packages (8.1.0)\n",
      "Requirement already satisfied: protobuf<=4.21.12,>=4.21.1 in c:\\python311\\lib\\site-packages (from mysql-connector-python) (4.21.12)\n",
      "Note: you may need to restart the kernel to use updated packages.\n"
     ]
    }
   ],
   "source": [
    "pip install mysql-connector-python"
   ]
  },
  {
   "cell_type": "code",
   "execution_count": 8,
   "metadata": {},
   "outputs": [],
   "source": [
    "import mysql.connector\n",
    "from mysql.connector import Error\n",
    "from random import randint, choice, uniform\n",
    "from faker import Faker"
   ]
  },
  {
   "cell_type": "code",
   "execution_count": 9,
   "metadata": {},
   "outputs": [
    {
     "name": "stdout",
     "output_type": "stream",
     "text": [
      "Conexão ao banco de dados bem-sucedida.\n"
     ]
    }
   ],
   "source": [
    "db_config = {\n",
    "    'host': 'localhost',\n",
    "    'user': 'root',\n",
    "    'password': '22976738',\n",
    "    'database': 'Embraer2'\n",
    "}\n",
    "\n",
    "\n",
    "try:\n",
    "    connection = mysql.connector.connect(**db_config)\n",
    "    if connection.is_connected():\n",
    "        print(\"Conexão ao banco de dados bem-sucedida.\")   \n",
    "except mysql.connector.Error as e:\n",
    "    print(f\"Erro ao conectar ao banco de dados: {e}\")\n",
    "    \n",
    "    \n",
    "conn = mysql.connector.connect(**db_config)\n",
    "cursor = conn.cursor()\n"
   ]
  },
  {
   "cell_type": "code",
   "execution_count": 10,
   "metadata": {},
   "outputs": [],
   "source": [
    "create_table_query_cidade = \"\"\"\n",
    "\n",
    "    CREATE TABLE IF NOT EXISTS cidade(\n",
    "        \n",
    "       id int primary key auto_increment,\n",
    "       nome_cidade varchar(200) not null,\n",
    "       estado varchar(2) not null,\n",
    "       codigo_ibge int not null\n",
    "     \n",
    "     );\n",
    "    \n",
    " \"\"\"\n",
    "\n",
    "cursor.execute(create_table_query_cidade)\n",
    "conn.commit()"
   ]
  },
  {
   "cell_type": "code",
   "execution_count": 11,
   "metadata": {},
   "outputs": [
    {
     "name": "stdout",
     "output_type": "stream",
     "text": [
      "INSERT INTO cidade (nome_cidade, estado, codigo_ibge) VALUES ('São Paulo', 'SP', 6226945);\n",
      "INSERT INTO cidade (nome_cidade, estado, codigo_ibge) VALUES ('Sorocaba', 'SP', 7449444);\n",
      "INSERT INTO cidade (nome_cidade, estado, codigo_ibge) VALUES ('São José dos Campos', 'SP', 6728857);\n",
      "INSERT INTO cidade (nome_cidade, estado, codigo_ibge) VALUES ('São José dos Campos', 'SP', 2742687);\n",
      "INSERT INTO cidade (nome_cidade, estado, codigo_ibge) VALUES ('São José dos Campos', 'SP', 1310265);\n",
      "Conexão fechada com sucesso.\n"
     ]
    }
   ],
   "source": [
    "\n",
    "\n",
    "localizacao = ['São Paulo', 'São José dos Campos', 'Botucatu', 'Sorocaba']\n",
    "abreviacao = [ 'SP' ] \n",
    "\n",
    "for _ in range(5):\n",
    "    nome_cidade = choice(localizacao)\n",
    "    estado = choice(abreviacao)\n",
    "    codigo_ibge = randint(1000000, 9999999)\n",
    "    \n",
    "    print(f\"INSERT INTO cidade (nome_cidade, estado, codigo_ibge) VALUES ('{nome_cidade}', '{estado}', {codigo_ibge});\")\n",
    "    \n",
    "    insert_query = \"INSERT INTO cidade (nome_cidade, estado, codigo_ibge) VALUES (%s, %s, %s)\"\n",
    "    data = (nome_cidade, estado, codigo_ibge)\n",
    "    \n",
    "    try:\n",
    "        cursor.execute(insert_query, data)\n",
    "        conn.commit()\n",
    "    except Exception as e:\n",
    "        print(f\"Erro ao inserir dados: {e}\")\n",
    "        \n",
    "        \n",
    "\n",
    "try:\n",
    "    cursor.close()\n",
    "    print(\"Conexão fechada com sucesso.\")\n",
    "    conn.close()\n",
    "except Exception as e:\n",
    "    print(f\"Erro ao fechar a conexão: {e}\")     "
   ]
  }
 ],
 "metadata": {
  "kernelspec": {
   "display_name": "Python 3",
   "language": "python",
   "name": "python3"
  },
  "language_info": {
   "codemirror_mode": {
    "name": "ipython",
    "version": 3
   },
   "file_extension": ".py",
   "mimetype": "text/x-python",
   "name": "python",
   "nbconvert_exporter": "python",
   "pygments_lexer": "ipython3",
   "version": "3.11.5"
  }
 },
 "nbformat": 4,
 "nbformat_minor": 2
}
