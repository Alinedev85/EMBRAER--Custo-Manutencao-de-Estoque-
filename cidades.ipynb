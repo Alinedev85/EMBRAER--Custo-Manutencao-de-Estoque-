{
 "cells": [
  {
   "cell_type": "code",
   "execution_count": 1,
   "metadata": {},
   "outputs": [],
   "source": [
    "#pip install mysql-connector-python"
   ]
  },
  {
   "cell_type": "code",
   "execution_count": 2,
   "metadata": {},
   "outputs": [],
   "source": [
    "import mysql.connector\n",
    "from mysql.connector import Error\n",
    "from random import randint, choice\n",
    "from faker import Faker\n",
    "import pandas as pd"
   ]
  },
  {
   "cell_type": "code",
   "execution_count": 3,
   "metadata": {},
   "outputs": [
    {
     "name": "stdout",
     "output_type": "stream",
     "text": [
      "Conexão ao banco de dados bem-sucedida.\n"
     ]
    }
   ],
   "source": [
    "db_config = {\n",
    "    'host': 'localhost',\n",
    "    'user': 'root',\n",
    "    'password': '22976738',\n",
    "    'database': 'teste1'\n",
    "}\n",
    "\n",
    "\n",
    "try:\n",
    "    connection = mysql.connector.connect(**db_config)\n",
    "    if connection.is_connected():\n",
    "        print(\"Conexão ao banco de dados bem-sucedida.\")   \n",
    "except mysql.connector.Error as e:\n",
    "    print(f\"Erro ao conectar ao banco de dados: {e}\")\n",
    "    \n",
    "    \n",
    "conn = mysql.connector.connect(**db_config)\n",
    "cursor = conn.cursor()\n"
   ]
  },
  {
   "cell_type": "code",
   "execution_count": 4,
   "metadata": {},
   "outputs": [],
   "source": [
    "create_table_query_cidade = \"\"\"\n",
    "\n",
    "    CREATE TABLE IF NOT EXISTS cidade(\n",
    "        \n",
    "       id INT PRIMARY KEY AUTO_INCREMENT,\n",
    "       nome_cidade VARCHAR(200) NOT NULL,\n",
    "       estado VARCHAR(30) NOT NULL,\n",
    "       codigo_ibge INT NOT NULL  \n",
    "     \n",
    "     );\n",
    "    \n",
    " \"\"\"\n",
    "\n",
    "cursor.execute(create_table_query_cidade)\n",
    "conn.commit()"
   ]
  },
  {
   "cell_type": "code",
   "execution_count": 5,
   "metadata": {},
   "outputs": [],
   "source": [
    "#caso queira visualizar o arquivo\n",
    "\n",
    "# import pandas as pd\n",
    "# df = pd.read_excel('C:/Users/user/Documents/GitHub/EMBRAER--Custo-Manutencao-de-Estoque-/dados_kardex.xlsx',sheet_name='cidades')\n",
    "# print(df)"
   ]
  },
  {
   "cell_type": "code",
   "execution_count": 6,
   "metadata": {},
   "outputs": [
    {
     "name": "stdout",
     "output_type": "stream",
     "text": [
      "INSERT INTO cidade (nome_cidade, estado, codigo_ibge) VALUES ('São Paulo', 'São Paulo', 6561);\n",
      "INSERT INTO cidade (nome_cidade, estado, codigo_ibge) VALUES ('São José dos Campos', 'São Paulo', 7450);\n",
      "INSERT INTO cidade (nome_cidade, estado, codigo_ibge) VALUES ('Botucatu', 'São Paulo', 9677);\n",
      "INSERT INTO cidade (nome_cidade, estado, codigo_ibge) VALUES ('Sorocaba', 'São Paulo', 6472);\n",
      "INSERT INTO cidade (nome_cidade, estado, codigo_ibge) VALUES (' Ohio ', 'USA', 5209);\n",
      "INSERT INTO cidade (nome_cidade, estado, codigo_ibge) VALUES ('Quebec ', 'Canada', 6474);\n",
      "INSERT INTO cidade (nome_cidade, estado, codigo_ibge) VALUES (' Stavanger', 'Noruega', 9015);\n",
      "INSERT INTO cidade (nome_cidade, estado, codigo_ibge) VALUES ('Sverdlovsk', 'Russia', 3674);\n",
      "INSERT INTO cidade (nome_cidade, estado, codigo_ibge) VALUES ('Jinan', 'Shandong', 6711);\n",
      "INSERT INTO cidade (nome_cidade, estado, codigo_ibge) VALUES ('Dallas ', 'Texas', 5293);\n",
      "INSERT INTO cidade (nome_cidade, estado, codigo_ibge) VALUES ('Salisbury', 'USA', 9979);\n",
      "INSERT INTO cidade (nome_cidade, estado, codigo_ibge) VALUES (' Shaanxi', 'China', 6536);\n",
      "INSERT INTO cidade (nome_cidade, estado, codigo_ibge) VALUES ('Beijing', 'China', 2514);\n",
      "INSERT INTO cidade (nome_cidade, estado, codigo_ibge) VALUES ('shanghai', 'China', 1435);\n",
      "INSERT INTO cidade (nome_cidade, estado, codigo_ibge) VALUES ('Poway ', 'CANADA', 8023);\n",
      "Conexão fechada com sucesso.\n"
     ]
    }
   ],
   "source": [
    "\n",
    "df_cidades = pd.read_excel('C:/Users/user/Documents/GitHub/EMBRAER--Custo-Manutencao-de-Estoque-/dados_kardex.xlsx', sheet_name='cidades')\n",
    "\n",
    "fake = Faker('pt_BR')\n",
    "\n",
    "\n",
    "for index, row in df_cidades.iterrows():\n",
    "    nome_cidade = row['localizacao']\n",
    "    estado = row['abreviacao']\n",
    "    codigo_ibge = randint(100, 9999)\n",
    "\n",
    "    print(f\"INSERT INTO cidade (nome_cidade, estado, codigo_ibge) VALUES ('{nome_cidade}', '{estado}', {codigo_ibge});\")\n",
    "\n",
    "    insert_query = \"INSERT INTO cidade (nome_cidade, estado, codigo_ibge) VALUES (%s, %s, %s)\"\n",
    "    data = (nome_cidade, estado, codigo_ibge)\n",
    "\n",
    "    try:\n",
    "        cursor.execute(insert_query, data)\n",
    "        conn.commit()\n",
    "    except Exception as e:\n",
    "        print(f\"Erro ao inserir dados: {e}\") \n",
    "        \n",
    "        \n",
    "try:\n",
    "    cursor.close()\n",
    "    print(\"Conexão fechada com sucesso.\")\n",
    "    conn.close()\n",
    "except Exception as e:\n",
    "    print(f\"Erro ao fechar a conexão: {e}\")"
   ]
  }
 ],
 "metadata": {
  "kernelspec": {
   "display_name": "Python 3",
   "language": "python",
   "name": "python3"
  },
  "language_info": {
   "codemirror_mode": {
    "name": "ipython",
    "version": 3
   },
   "file_extension": ".py",
   "mimetype": "text/x-python",
   "name": "python",
   "nbconvert_exporter": "python",
   "pygments_lexer": "ipython3",
   "version": "3.11.5"
  }
 },
 "nbformat": 4,
 "nbformat_minor": 2
}
