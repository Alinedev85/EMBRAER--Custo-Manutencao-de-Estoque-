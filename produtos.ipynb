{
 "cells": [
  {
   "cell_type": "code",
   "execution_count": 35,
   "metadata": {},
   "outputs": [
    {
     "name": "stdout",
     "output_type": "stream",
     "text": [
      "Requirement already satisfied: mysql-connector-python in c:\\python311\\lib\\site-packages (8.1.0)\n",
      "Requirement already satisfied: protobuf<=4.21.12,>=4.21.1 in c:\\python311\\lib\\site-packages (from mysql-connector-python) (4.21.12)\n",
      "Note: you may need to restart the kernel to use updated packages.\n"
     ]
    }
   ],
   "source": [
    "pip install mysql-connector-python"
   ]
  },
  {
   "cell_type": "code",
   "execution_count": 36,
   "metadata": {},
   "outputs": [],
   "source": [
    "import mysql.connector\n",
    "from mysql.connector import Error\n",
    "from random import randint, choice, uniform\n",
    "from faker import Faker"
   ]
  },
  {
   "cell_type": "code",
   "execution_count": 37,
   "metadata": {},
   "outputs": [
    {
     "name": "stdout",
     "output_type": "stream",
     "text": [
      "Conexão ao banco de dados bem-sucedida.\n"
     ]
    }
   ],
   "source": [
    "db_config = {\n",
    "    'host': 'localhost',\n",
    "    'user': 'root',\n",
    "    'password': '22976738',\n",
    "    'database': 'Embraer'\n",
    "}\n",
    "\n",
    "\n",
    "try:\n",
    "    connection = mysql.connector.connect(**db_config)\n",
    "    if connection.is_connected():\n",
    "        print(\"Conexão ao banco de dados bem-sucedida.\")   \n",
    "except mysql.connector.Error as e:\n",
    "    print(f\"Erro ao conectar ao banco de dados: {e}\")\n",
    "    \n",
    "    \n",
    "conn = mysql.connector.connect(**db_config)\n",
    "cursor = conn.cursor()\n"
   ]
  },
  {
   "cell_type": "code",
   "execution_count": 39,
   "metadata": {},
   "outputs": [],
   "source": [
    "create_table_query_produtos = \"\"\"\n",
    "    CREATE TABLE IF NOT EXISTS produtos(\n",
    "        id_produtos INT AUTO_INCREMENT PRIMARY KEY,\n",
    "        produto VARCHAR(255),\n",
    "        lote INT,\n",
    "        codigo_de_barras BIGINT,\n",
    "        codigo INT,\n",
    "        peso REAL,\n",
    "        valor REAL\n",
    "    );\n",
    "\"\"\"\n",
    "\n",
    "cursor.execute(create_table_query_produtos)\n",
    "conn.commit()\n"
   ]
  },
  {
   "cell_type": "code",
   "execution_count": 40,
   "metadata": {},
   "outputs": [
    {
     "name": "stdout",
     "output_type": "stream",
     "text": [
      "Conexão fechada com sucesso.\n"
     ]
    }
   ],
   "source": [
    "produtos = ['placas de titânio', 'parafusos', 'cilindros', 'fuselagem de aeronaves', 'tubos hidráulicos', 'trem de pouso', 'quadros de janela do cockpit', 'fixador', 'porta', 'estrutura de asa', 'pás do ventilador', 'lâminas de compressor', 'aerofólio', 'longarina' ]\n",
    "\n",
    "fake = Faker('pt_BR')\n",
    "\n",
    "for _ in range(5):\n",
    "    produto = choice(produtos)\n",
    "    lote = randint(1, 100)\n",
    "    codigo_de_barras = randint(100000, 999999)\n",
    "    codigo = randint(1000, 9999)\n",
    "    peso = round(uniform(1, 10), 2)\n",
    "    valor = round(uniform(10, 100), 2)\n",
    "\n",
    "    insert_query_produtos = \"INSERT INTO produtos (produto, lote, codigo_de_barras, codigo, peso, valor) VALUES (%s, %s, %s, %s, %s, %s)\"\n",
    "    data_produtos = (produto, lote, codigo_de_barras, codigo, peso, valor)\n",
    "\n",
    "    try:\n",
    "        cursor.execute(insert_query_produtos, data_produtos)\n",
    "        conn.commit()\n",
    "    except Exception as e:\n",
    "        print(f\"Erro ao inserir dados nos produtos: {e}\")\n",
    "\n",
    "try:\n",
    "    cursor.close()\n",
    "    print(\"Conexão fechada com sucesso.\")\n",
    "    conn.close()\n",
    "except Exception as e:\n",
    "    print(f\"Erro ao fechar a conexão: {e}\")\n"
   ]
  }
 ],
 "metadata": {
  "kernelspec": {
   "display_name": "Python 3",
   "language": "python",
   "name": "python3"
  },
  "language_info": {
   "codemirror_mode": {
    "name": "ipython",
    "version": 3
   },
   "file_extension": ".py",
   "mimetype": "text/x-python",
   "name": "python",
   "nbconvert_exporter": "python",
   "pygments_lexer": "ipython3",
   "version": "3.11.5"
  }
 },
 "nbformat": 4,
 "nbformat_minor": 2
}
