{
 "cells": [
  {
   "cell_type": "code",
   "execution_count": 1,
   "metadata": {},
   "outputs": [],
   "source": [
    "#pip install mysql-connector-python"
   ]
  },
  {
   "cell_type": "code",
   "execution_count": 2,
   "metadata": {},
   "outputs": [],
   "source": [
    "import mysql.connector\n",
    "from mysql.connector import Error\n",
    "from random import randint\n",
    "from faker import Faker\n",
    "import pandas as pd"
   ]
  },
  {
   "cell_type": "code",
   "execution_count": 3,
   "metadata": {},
   "outputs": [
    {
     "name": "stdout",
     "output_type": "stream",
     "text": [
      "Conexão ao banco de dados bem-sucedida.\n"
     ]
    }
   ],
   "source": [
    "db_config = {\n",
    "    'host': 'localhost',\n",
    "    'user': 'root',\n",
    "    'password': '22976738',\n",
    "    'database': 'teste1'\n",
    "}\n",
    "\n",
    "\n",
    "try:\n",
    "    connection = mysql.connector.connect(**db_config)\n",
    "    if connection.is_connected():\n",
    "        print(\"Conexão ao banco de dados bem-sucedida.\")   \n",
    "except mysql.connector.Error as e:\n",
    "    print(f\"Erro ao conectar ao banco de dados: {e}\")\n",
    "    \n",
    "    \n",
    "conn = mysql.connector.connect(**db_config)\n",
    "cursor = conn.cursor()\n"
   ]
  },
  {
   "cell_type": "code",
   "execution_count": 4,
   "metadata": {},
   "outputs": [],
   "source": [
    "create_table_query_produtos = \"\"\"\n",
    "    CREATE TABLE IF NOT EXISTS produtos (\n",
    "        id INT PRIMARY KEY AUTO_INCREMENT NOT NULL,\n",
    "        produto VARCHAR(255),\n",
    "        lote INT,\n",
    "        codigo_de_barras BIGINT,\n",
    "        valor FLOAT ,\n",
    "        peso FLOAT\n",
    "    );\n",
    "\"\"\"\n",
    "\n",
    "cursor.execute(create_table_query_produtos)\n",
    "conn.commit()"
   ]
  },
  {
   "cell_type": "code",
   "execution_count": 5,
   "metadata": {},
   "outputs": [],
   "source": [
    "# #remover espaços extras \n",
    "# df.columns = df.columns.str.strip()\n",
    "# df = pd.read_excel('C:/Users/user/Documents/GitHub/EMBRAER--Custo-Manutencao-de-Estoque-/dados_kardex.xlsx',sheet_name='produtos')\n",
    "# print(df)"
   ]
  },
  {
   "cell_type": "code",
   "execution_count": 6,
   "metadata": {},
   "outputs": [],
   "source": [
    "# print(df.columns)"
   ]
  },
  {
   "cell_type": "code",
   "execution_count": 7,
   "metadata": {},
   "outputs": [
    {
     "name": "stdout",
     "output_type": "stream",
     "text": [
      "Produto: 1, Lote: 312, Código de Barras: 705346, Preço: 500.0, Peso: 2.0\n",
      "Produto: 2, Lote: 347, Código de Barras: 716021, Preço: 2.0, Peso: 0.05\n",
      "Produto: 3, Lote: 493, Código de Barras: 737240, Preço: 300.0, Peso: 5.0\n",
      "Produto: 4, Lote: 267, Código de Barras: 955160, Preço: 5000.0, Peso: 150.0\n",
      "Produto: 5, Lote: 309, Código de Barras: 961529, Preço: 50.0, Peso: 1.0\n",
      "Produto: 6, Lote: 346, Código de Barras: 737230, Preço: 1.2, Peso: 20.0\n",
      "Produto: 7, Lote: 362, Código de Barras: 709988, Preço: 100.0, Peso: 3.0\n",
      "Produto: 8, Lote: 197, Código de Barras: 517465, Preço: 3.0, Peso: 0.02\n",
      "Produto: 9, Lote: 237, Código de Barras: 803218, Preço: 800.0, Peso: 50.0\n",
      "Produto: 10, Lote: 378, Código de Barras: 485713, Preço: 2.5, Peso: 80.0\n",
      "Produto: 11, Lote: 114, Código de Barras: 853269, Preço: 300.0, Peso: 2.0\n",
      "Produto: 12, Lote: 274, Código de Barras: 875056, Preço: 400.0, Peso: 3.0\n",
      "Produto: 13, Lote: 259, Código de Barras: 888310, Preço: 1.0, Peso: 10.0\n",
      "Produto: 14, Lote: 163, Código de Barras: 225739, Preço: 600.0, Peso: 15.0\n",
      "Produto: 15, Lote: 482, Código de Barras: 695204, Preço: 700.0, Peso: 2.5\n",
      "Produto: 16, Lote: 162, Código de Barras: 420332, Preço: 750.0, Peso: 2.7\n",
      "Produto: 17, Lote: 322, Código de Barras: 689845, Preço: 700.0, Peso: 2.5\n",
      "Produto: 18, Lote: 378, Código de Barras: 264622, Preço: 1.0, Peso: 3.0\n",
      "Produto: 19, Lote: 341, Código de Barras: 336985, Preço: 900.0, Peso: 2.8\n",
      "Produto: 20, Lote: 488, Código de Barras: 682922, Preço: 1.2, Peso: 3.5\n",
      "Produto: 21, Lote: 472, Código de Barras: 283403, Preço: 1.5, Peso: 4.0\n",
      "Produto: 22, Lote: 157, Código de Barras: 580339, Preço: 1.8, Peso: 4.5\n",
      "Conexão fechada com sucesso.\n"
     ]
    }
   ],
   "source": [
    "df_produtos = pd.read_excel('C:/Users/user/Documents/GitHub/EMBRAER--Custo-Manutencao-de-Estoque-/dados_kardex.xlsx', sheet_name='produtos')\n",
    "\n",
    "fake = Faker('pt_BR')\n",
    "\n",
    "\n",
    "\n",
    "for id in range(22):\n",
    "    produto = int(df_produtos.loc[id, 'codigo_produto'])\n",
    "    lote = randint(100, 500)\n",
    "    codigo_de_barras = randint(100000, 999999)\n",
    "    preco = float(df_produtos.loc[id, 'valor'])\n",
    "    peso = df_produtos.loc[id, 'peso']\n",
    "\n",
    "    print(f\"Produto: {produto}, Lote: {lote}, Código de Barras: {codigo_de_barras}, Preço: {preco}, Peso: {peso}\")\n",
    "\n",
    "    insert_query_produtos = \"INSERT INTO produtos (produto, lote, codigo_de_barras, valor, peso) VALUES (%s, %s, %s, %s, %s)\"\n",
    "    data_produtos = (produto, lote, codigo_de_barras, preco, peso)\n",
    "\n",
    "    try:\n",
    "        cursor.execute(insert_query_produtos, data_produtos)\n",
    "        conn.commit()\n",
    "    except Exception as e:\n",
    "        print(f\"Erro ao inserir dados: {e}\")\n",
    "\n",
    "try:\n",
    "    cursor.close()\n",
    "    print(\"Conexão fechada com sucesso.\")\n",
    "    conn.close()\n",
    "except Exception as e:\n",
    "    print(f\"Erro ao fechar a conexão: {e}\")"
   ]
  }
 ],
 "metadata": {
  "kernelspec": {
   "display_name": "Python 3",
   "language": "python",
   "name": "python3"
  },
  "language_info": {
   "codemirror_mode": {
    "name": "ipython",
    "version": 3
   },
   "file_extension": ".py",
   "mimetype": "text/x-python",
   "name": "python",
   "nbconvert_exporter": "python",
   "pygments_lexer": "ipython3",
   "version": "3.11.5"
  }
 },
 "nbformat": 4,
 "nbformat_minor": 2
}
