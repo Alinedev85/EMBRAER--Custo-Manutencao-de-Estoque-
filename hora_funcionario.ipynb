{
 "cells": [
  {
   "cell_type": "code",
   "execution_count": 21,
   "metadata": {},
   "outputs": [
    {
     "name": "stdout",
     "output_type": "stream",
     "text": [
      "Requirement already satisfied: mysql-connector-python in c:\\python311\\lib\\site-packages (8.1.0)\n",
      "Requirement already satisfied: protobuf<=4.21.12,>=4.21.1 in c:\\python311\\lib\\site-packages (from mysql-connector-python) (4.21.12)\n",
      "Note: you may need to restart the kernel to use updated packages.\n"
     ]
    }
   ],
   "source": [
    "pip install mysql-connector-python"
   ]
  },
  {
   "cell_type": "code",
   "execution_count": 22,
   "metadata": {},
   "outputs": [],
   "source": [
    "import mysql.connector\n",
    "from mysql.connector import Error\n",
    "from random import randint, choice, uniform\n",
    "from faker import Faker"
   ]
  },
  {
   "cell_type": "code",
   "execution_count": 23,
   "metadata": {},
   "outputs": [
    {
     "name": "stdout",
     "output_type": "stream",
     "text": [
      "Conexão ao banco de dados bem-sucedida.\n"
     ]
    }
   ],
   "source": [
    "db_config = {\n",
    "    'host': 'localhost',\n",
    "    'user': 'root',\n",
    "    'password': '22976738',\n",
    "    'database': 'Embraer'\n",
    "}\n",
    "\n",
    "\n",
    "try:\n",
    "    connection = mysql.connector.connect(**db_config)\n",
    "    if connection.is_connected():\n",
    "        print(\"Conexão ao banco de dados bem-sucedida.\")   \n",
    "except mysql.connector.Error as e:\n",
    "    print(f\"Erro ao conectar ao banco de dados: {e}\")\n",
    "    \n",
    "    \n",
    "conn = mysql.connector.connect(**db_config)\n",
    "cursor = conn.cursor()\n"
   ]
  },
  {
   "cell_type": "code",
   "execution_count": 24,
   "metadata": {},
   "outputs": [],
   "source": [
    "create_table_query_hora_funcionario = \"\"\"\n",
    "   CREATE TABLE IF NOT EXISTS hora_funcionario(\n",
    "     qtde_horas float not null,\n",
    "     mes_ano varchar(7),\n",
    "     codigo_chapa int,\n",
    "     constraint controle_chapa foreign key\n",
    "     (codigo_chapa) references funcionario(chapa)\n",
    "    );\n",
    "\"\"\"\n",
    "\n",
    "cursor.execute(create_table_query_hora_funcionario)\n",
    "conn.commit()"
   ]
  },
  {
   "cell_type": "code",
   "execution_count": 27,
   "metadata": {},
   "outputs": [
    {
     "name": "stdout",
     "output_type": "stream",
     "text": [
      "INSERT INTO hora_funcionario (qtde_horas, mes_ano, codigo_chapa) VALUES (64, '2016-11', 10);\n",
      "Erro ao inserir dados: 2055: Cursor is not connected\n",
      "INSERT INTO hora_funcionario (qtde_horas, mes_ano, codigo_chapa) VALUES (28, '2020-08', 9);\n",
      "Erro ao inserir dados: 2055: Cursor is not connected\n",
      "INSERT INTO hora_funcionario (qtde_horas, mes_ano, codigo_chapa) VALUES (35, '2019-04', 5);\n",
      "Erro ao inserir dados: 2055: Cursor is not connected\n",
      "INSERT INTO hora_funcionario (qtde_horas, mes_ano, codigo_chapa) VALUES (25, '2011-10', 10);\n",
      "Erro ao inserir dados: 2055: Cursor is not connected\n",
      "INSERT INTO hora_funcionario (qtde_horas, mes_ano, codigo_chapa) VALUES (86, '2022-06', 4);\n",
      "Erro ao inserir dados: 2055: Cursor is not connected\n",
      "Conexão fechada com sucesso.\n"
     ]
    }
   ],
   "source": [
    "fake = Faker('pt_BR')\n",
    "\n",
    "for _ in range(5):\n",
    "    qtde_horas = round(fake.random_number(2, True))\n",
    "    mes_ano = fake.date(pattern=\"%Y-%m\")\n",
    "    codigo_chapa = randint(1, 10)\n",
    "\n",
    "    print(f\"INSERT INTO hora_funcionario (qtde_horas, mes_ano, codigo_chapa) VALUES ({qtde_horas}, '{mes_ano}', {codigo_chapa});\")\n",
    "    \n",
    "    insert_query = \"INSERT INTO hora_funcionario (qtde_horas, mes_ano, codigo_chapa) VALUES (%s, %s, %s)\"\n",
    "    data = (qtde_horas, mes_ano, codigo_chapa)\n",
    "    \n",
    "    try:\n",
    "        cursor.execute(insert_query, data)\n",
    "        conn.commit()\n",
    "    except Exception as e:\n",
    "        print(f\"Erro ao inserir dados: {e}\")\n",
    "\n",
    "try:\n",
    "    cursor.close()\n",
    "    print(\"Conexão fechada com sucesso.\")\n",
    "    conn.close()\n",
    "except Exception as e:\n",
    "    print(f\"Erro ao fechar a conexão: {e}\")\n"
   ]
  }
 ],
 "metadata": {
  "kernelspec": {
   "display_name": "Python 3",
   "language": "python",
   "name": "python3"
  },
  "language_info": {
   "codemirror_mode": {
    "name": "ipython",
    "version": 3
   },
   "file_extension": ".py",
   "mimetype": "text/x-python",
   "name": "python",
   "nbconvert_exporter": "python",
   "pygments_lexer": "ipython3",
   "version": "3.11.5"
  }
 },
 "nbformat": 4,
 "nbformat_minor": 2
}
