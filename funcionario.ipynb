{
 "cells": [
  {
   "cell_type": "code",
   "execution_count": 12,
   "metadata": {},
   "outputs": [],
   "source": [
    "#pip install mysql-connector-python"
   ]
  },
  {
   "cell_type": "code",
   "execution_count": 13,
   "metadata": {},
   "outputs": [],
   "source": [
    "import mysql.connector\n",
    "from mysql.connector import Error\n",
    "from random import randint, choice, uniform\n",
    "from faker import Faker\n",
    "import pandas as pd"
   ]
  },
  {
   "cell_type": "code",
   "execution_count": 14,
   "metadata": {},
   "outputs": [
    {
     "name": "stdout",
     "output_type": "stream",
     "text": [
      "Conexão ao banco de dados bem-sucedida.\n"
     ]
    }
   ],
   "source": [
    "db_config = {\n",
    "    'host': 'localhost',\n",
    "    'user': 'root',\n",
    "    'password': '22976738',\n",
    "    'database': 'projeto1'\n",
    "}\n",
    "\n",
    "\n",
    "try:\n",
    "    connection = mysql.connector.connect(**db_config)\n",
    "    if connection.is_connected():\n",
    "        print(\"Conexão ao banco de dados bem-sucedida.\")   \n",
    "except mysql.connector.Error as e:\n",
    "    print(f\"Erro ao conectar ao banco de dados: {e}\")\n",
    "    \n",
    "    \n",
    "conn = mysql.connector.connect(**db_config)\n",
    "cursor = conn.cursor()\n"
   ]
  },
  {
   "cell_type": "code",
   "execution_count": 15,
   "metadata": {},
   "outputs": [],
   "source": [
    "\n",
    "create_table_query_funcionario = \"\"\"\n",
    "\n",
    "     CREATE TABLE IF NOT EXISTS funcionario(\n",
    "      chapa INTEGER AUTO_INCREMENT PRIMARY KEY not null,\n",
    "      nome VARCHAR(60),\n",
    "      rg VARCHAR(15),\n",
    "      valor_hora FLOAT,\n",
    "      id_deposito INT,\n",
    "      CONSTRAINT codigo_deposito_f FOREIGN KEY (id_deposito) REFERENCES deposito(id)    \n",
    "    );\n",
    "\"\"\"\n",
    "\n",
    "\n",
    "cursor.execute(create_table_query_funcionario)\n",
    "conn.commit()\n"
   ]
  },
  {
   "cell_type": "code",
   "execution_count": 16,
   "metadata": {},
   "outputs": [
    {
     "name": "stderr",
     "output_type": "stream",
     "text": [
      "C:\\Users\\user\\AppData\\Local\\Temp\\ipykernel_14784\\3943267237.py:10: FutureWarning: Calling int on a single element Series is deprecated and will raise a TypeError in the future. Use int(ser.iloc[0]) instead\n",
      "  id_deposito = int(random_row['localidade'])\n"
     ]
    },
    {
     "name": "stdout",
     "output_type": "stream",
     "text": [
      "INSERT INTO funcionario (nome, rg, valor_hora, id_deposito) VALUES ('Dr. Guilherme Alves', '2677096', 200, 3);\n",
      "INSERT INTO funcionario (nome, rg, valor_hora, id_deposito) VALUES ('Joana Cardoso', '7456415', 25, 3);\n",
      "INSERT INTO funcionario (nome, rg, valor_hora, id_deposito) VALUES ('Sr. Igor Moura', '7893590', 125, 3);\n",
      "INSERT INTO funcionario (nome, rg, valor_hora, id_deposito) VALUES ('Matheus Peixoto', '3767560', 175, 3);\n",
      "INSERT INTO funcionario (nome, rg, valor_hora, id_deposito) VALUES ('Luiz Felipe Nascimento', '5024434', 100, 3);\n",
      "INSERT INTO funcionario (nome, rg, valor_hora, id_deposito) VALUES ('Maria Clara Araújo', '9657422', 150, 3);\n",
      "INSERT INTO funcionario (nome, rg, valor_hora, id_deposito) VALUES ('Bárbara Farias', '9571148', 225, 3);\n",
      "INSERT INTO funcionario (nome, rg, valor_hora, id_deposito) VALUES ('Gustavo Henrique Rocha', '5158565', 150, 3);\n",
      "INSERT INTO funcionario (nome, rg, valor_hora, id_deposito) VALUES ('Sophia Freitas', '7500971', 150, 3);\n",
      "INSERT INTO funcionario (nome, rg, valor_hora, id_deposito) VALUES ('Maria Fernanda da Cruz', '7219970', 100, 3);\n",
      "INSERT INTO funcionario (nome, rg, valor_hora, id_deposito) VALUES ('Evelyn Moura', '3894678', 175, 3);\n",
      "INSERT INTO funcionario (nome, rg, valor_hora, id_deposito) VALUES ('Emanuel Castro', '3198049', 75, 3);\n",
      "INSERT INTO funcionario (nome, rg, valor_hora, id_deposito) VALUES ('Sra. Valentina da Costa', '7432683', 200, 3);\n",
      "INSERT INTO funcionario (nome, rg, valor_hora, id_deposito) VALUES ('Vitor Souza', '9561634', 50, 3);\n",
      "INSERT INTO funcionario (nome, rg, valor_hora, id_deposito) VALUES ('Sra. Maria Vitória Fogaça', '6108269', 125, 3);\n",
      "INSERT INTO funcionario (nome, rg, valor_hora, id_deposito) VALUES ('Carlos Eduardo Martins', '8288419', 150, 3);\n",
      "INSERT INTO funcionario (nome, rg, valor_hora, id_deposito) VALUES ('Dr. Augusto Nunes', '8759926', 75, 3);\n",
      "INSERT INTO funcionario (nome, rg, valor_hora, id_deposito) VALUES ('Thiago Pinto', '9458508', 175, 3);\n",
      "INSERT INTO funcionario (nome, rg, valor_hora, id_deposito) VALUES ('Sr. Lorenzo da Paz', '1028901', 225, 3);\n",
      "INSERT INTO funcionario (nome, rg, valor_hora, id_deposito) VALUES ('Emanuelly Moura', '1939567', 25, 3);\n",
      "Conexão fechada com sucesso.\n"
     ]
    }
   ],
   "source": [
    "df_deposito = pd.read_excel('C:/Users/user/Documents/GitHub/EMBRAER--Custo-Manutencao-de-Estoque-/dados_kardex.xlsx', sheet_name='deposito')\n",
    "\n",
    "fake = Faker('pt_BR')\n",
    "\n",
    "\n",
    "for _ in range(20):\n",
    "    nome = fake.name()\n",
    "    rg = fake.random_int(min=1000000, max=9999999)\n",
    "    valor_hora = round(fake.random_number(1, True) * 25, 2)\n",
    "    id_deposito = int(random_row['localidade'])\n",
    "\n",
    "    print(f\"INSERT INTO funcionario (nome, rg, valor_hora, id_deposito) VALUES ('{nome}', '{rg}', {valor_hora}, {id_deposito});\")\n",
    "\n",
    "    insert_query = \"INSERT INTO funcionario (nome, rg, valor_hora, id_deposito) VALUES (%s, %s, %s, %s)\"\n",
    "    data = (nome, rg, valor_hora, id_deposito)\n",
    "\n",
    "    try:\n",
    "        cursor.execute(insert_query, data)\n",
    "        conn.commit()\n",
    "    except Exception as e:\n",
    "        print(f\"Erro ao inserir dados: {e}\")\n",
    "\n",
    "try:\n",
    "    cursor.close()\n",
    "    print(\"Conexão fechada com sucesso.\")\n",
    "    conn.close()\n",
    "except Exception as e:\n",
    "    print(f\"Erro ao fechar a conexão: {e}\")\n",
    "    "
   ]
  }
 ],
 "metadata": {
  "kernelspec": {
   "display_name": "Python 3",
   "language": "python",
   "name": "python3"
  },
  "language_info": {
   "codemirror_mode": {
    "name": "ipython",
    "version": 3
   },
   "file_extension": ".py",
   "mimetype": "text/x-python",
   "name": "python",
   "nbconvert_exporter": "python",
   "pygments_lexer": "ipython3",
   "version": "3.11.5"
  }
 },
 "nbformat": 4,
 "nbformat_minor": 2
}
