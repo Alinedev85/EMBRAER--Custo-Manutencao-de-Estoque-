{
 "cells": [
  {
   "cell_type": "code",
   "execution_count": 11,
   "metadata": {},
   "outputs": [],
   "source": [
    "#pip install mysql-connector-python"
   ]
  },
  {
   "cell_type": "code",
   "execution_count": 12,
   "metadata": {},
   "outputs": [],
   "source": [
    "import mysql.connector\n",
    "from mysql.connector import Error\n",
    "from random import randint, choice, uniform\n",
    "from faker import Faker\n",
    "import pandas as pd"
   ]
  },
  {
   "cell_type": "code",
   "execution_count": 13,
   "metadata": {},
   "outputs": [
    {
     "name": "stdout",
     "output_type": "stream",
     "text": [
      "Conexão ao banco de dados bem-sucedida.\n"
     ]
    }
   ],
   "source": [
    "db_config = {\n",
    "    'host': 'localhost',\n",
    "    'user': 'root',\n",
    "    'password': '22976738',\n",
    "    'database': 'custo_manutencao_estoque'\n",
    "}\n",
    "\n",
    "\n",
    "try:\n",
    "    connection = mysql.connector.connect(**db_config)\n",
    "    if connection.is_connected():\n",
    "        print(\"Conexão ao banco de dados bem-sucedida.\")   \n",
    "except mysql.connector.Error as e:\n",
    "    print(f\"Erro ao conectar ao banco de dados: {e}\")\n",
    "    \n",
    "    \n",
    "conn = mysql.connector.connect(**db_config)\n",
    "cursor = conn.cursor()\n"
   ]
  },
  {
   "cell_type": "code",
   "execution_count": 14,
   "metadata": {},
   "outputs": [],
   "source": [
    "\n",
    "create_table_query_funcionario = \"\"\"\n",
    "\n",
    "     CREATE TABLE IF NOT EXISTS funcionario(\n",
    "      chapa INTEGER AUTO_INCREMENT PRIMARY KEY not null,\n",
    "      nome VARCHAR(60),\n",
    "      rg VARCHAR(15),\n",
    "      valor_hora FLOAT,\n",
    "      id_deposito INT,\n",
    "      CONSTRAINT codigo_deposito_f FOREIGN KEY (id_deposito) REFERENCES deposito(id)    \n",
    "    );\n",
    "\"\"\"\n",
    "\n",
    "\n",
    "cursor.execute(create_table_query_funcionario)\n",
    "conn.commit()\n"
   ]
  },
  {
   "cell_type": "code",
   "execution_count": 15,
   "metadata": {},
   "outputs": [
    {
     "name": "stdout",
     "output_type": "stream",
     "text": [
      "INSERT INTO funcionario (nome, rg, valor_hora, id_deposito) VALUES ('Heitor Costela', '4146312', 25, 3);\n",
      "INSERT INTO funcionario (nome, rg, valor_hora, id_deposito) VALUES ('Sr. Marcelo Souza', '3247981', 100, 3);\n",
      "INSERT INTO funcionario (nome, rg, valor_hora, id_deposito) VALUES ('Maria Sophia Novaes', '8853250', 200, 3);\n",
      "INSERT INTO funcionario (nome, rg, valor_hora, id_deposito) VALUES ('Felipe Silva', '7434759', 200, 2);\n",
      "INSERT INTO funcionario (nome, rg, valor_hora, id_deposito) VALUES ('Luigi da Costa', '6645626', 150, 1);\n",
      "INSERT INTO funcionario (nome, rg, valor_hora, id_deposito) VALUES ('Dr. Cauê Porto', '1300002', 175, 3);\n",
      "INSERT INTO funcionario (nome, rg, valor_hora, id_deposito) VALUES ('Daniela Cardoso', '5188453', 25, 3);\n",
      "INSERT INTO funcionario (nome, rg, valor_hora, id_deposito) VALUES ('Manuela Costa', '5669100', 150, 4);\n",
      "INSERT INTO funcionario (nome, rg, valor_hora, id_deposito) VALUES ('Sophie Nascimento', '7647416', 200, 4);\n",
      "INSERT INTO funcionario (nome, rg, valor_hora, id_deposito) VALUES ('Larissa Nunes', '6259607', 75, 3);\n",
      "INSERT INTO funcionario (nome, rg, valor_hora, id_deposito) VALUES ('Raul Ribeiro', '6650445', 150, 4);\n",
      "INSERT INTO funcionario (nome, rg, valor_hora, id_deposito) VALUES ('Srta. Julia Vieira', '4370566', 150, 2);\n",
      "INSERT INTO funcionario (nome, rg, valor_hora, id_deposito) VALUES ('Ana Lívia Nunes', '4653550', 175, 2);\n",
      "INSERT INTO funcionario (nome, rg, valor_hora, id_deposito) VALUES ('João Fogaça', '5840663', 50, 2);\n",
      "INSERT INTO funcionario (nome, rg, valor_hora, id_deposito) VALUES ('Laura Silveira', '1509687', 225, 4);\n",
      "INSERT INTO funcionario (nome, rg, valor_hora, id_deposito) VALUES ('Paulo Barbosa', '9494344', 100, 3);\n",
      "INSERT INTO funcionario (nome, rg, valor_hora, id_deposito) VALUES ('Catarina Moreira', '8008858', 50, 3);\n",
      "INSERT INTO funcionario (nome, rg, valor_hora, id_deposito) VALUES ('Eloah Porto', '7058134', 100, 1);\n",
      "INSERT INTO funcionario (nome, rg, valor_hora, id_deposito) VALUES ('Raul Mendes', '2449801', 25, 2);\n",
      "INSERT INTO funcionario (nome, rg, valor_hora, id_deposito) VALUES ('Emilly da Costa', '5808789', 225, 2);\n",
      "Conexão fechada com sucesso.\n"
     ]
    }
   ],
   "source": [
    "df_deposito = pd.read_excel('C:/Users/user/Documents/GitHub/EMBRAER--Custo-Manutencao-de-Estoque-/dados_kardex.xlsx', sheet_name='deposito')\n",
    "\n",
    "fake = Faker('pt_BR')\n",
    "\n",
    "\n",
    "for _ in range(20):\n",
    "    nome = fake.name()\n",
    "    rg = fake.random_int(min=1000000, max=9999999)\n",
    "    valor_hora = round(fake.random_number(1, True) * 25, 2)\n",
    "    id_deposito = randint(1, 4)\n",
    "\n",
    "    print(f\"INSERT INTO funcionario (nome, rg, valor_hora, id_deposito) VALUES ('{nome}', '{rg}', {valor_hora}, {id_deposito});\")\n",
    "\n",
    "    insert_query = \"INSERT INTO funcionario (nome, rg, valor_hora, id_deposito) VALUES (%s, %s, %s, %s)\"\n",
    "    data = (nome, rg, valor_hora, id_deposito)\n",
    "\n",
    "    try:\n",
    "        cursor.execute(insert_query, data)\n",
    "        conn.commit()\n",
    "    except Exception as e:\n",
    "        print(f\"Erro ao inserir dados: {e}\")\n",
    "\n",
    "try:\n",
    "    cursor.close()\n",
    "    print(\"Conexão fechada com sucesso.\")\n",
    "    conn.close()\n",
    "except Exception as e:\n",
    "    print(f\"Erro ao fechar a conexão: {e}\")\n",
    "    "
   ]
  }
 ],
 "metadata": {
  "kernelspec": {
   "display_name": "Python 3",
   "language": "python",
   "name": "python3"
  },
  "language_info": {
   "codemirror_mode": {
    "name": "ipython",
    "version": 3
   },
   "file_extension": ".py",
   "mimetype": "text/x-python",
   "name": "python",
   "nbconvert_exporter": "python",
   "pygments_lexer": "ipython3",
   "version": "3.11.5"
  }
 },
 "nbformat": 4,
 "nbformat_minor": 2
}
