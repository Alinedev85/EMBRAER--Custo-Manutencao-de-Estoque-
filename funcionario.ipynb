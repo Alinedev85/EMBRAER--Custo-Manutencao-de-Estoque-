{
 "cells": [
  {
   "cell_type": "code",
   "execution_count": 29,
   "metadata": {},
   "outputs": [],
   "source": [
    "#pip install mysql-connector-python"
   ]
  },
  {
   "cell_type": "code",
   "execution_count": 30,
   "metadata": {},
   "outputs": [],
   "source": [
    "import mysql.connector\n",
    "from mysql.connector import Error\n",
    "from random import randint, choice, uniform\n",
    "from faker import Faker\n",
    "import pandas as pd"
   ]
  },
  {
   "cell_type": "code",
   "execution_count": 31,
   "metadata": {},
   "outputs": [
    {
     "name": "stdout",
     "output_type": "stream",
     "text": [
      "Conexão ao banco de dados bem-sucedida.\n"
     ]
    }
   ],
   "source": [
    "db_config = {\n",
    "    'host': 'localhost',\n",
    "    'user': 'root',\n",
    "    'password': '22976738',\n",
    "    'database': 'teste1'\n",
    "}\n",
    "\n",
    "\n",
    "try:\n",
    "    connection = mysql.connector.connect(**db_config)\n",
    "    if connection.is_connected():\n",
    "        print(\"Conexão ao banco de dados bem-sucedida.\")   \n",
    "except mysql.connector.Error as e:\n",
    "    print(f\"Erro ao conectar ao banco de dados: {e}\")\n",
    "    \n",
    "    \n",
    "conn = mysql.connector.connect(**db_config)\n",
    "cursor = conn.cursor()\n"
   ]
  },
  {
   "cell_type": "code",
   "execution_count": 32,
   "metadata": {},
   "outputs": [],
   "source": [
    "\n",
    "create_table_query_funcionario = \"\"\"\n",
    "\n",
    "     CREATE TABLE IF NOT EXISTS funcionario(\n",
    "      chapa INTEGER AUTO_INCREMENT PRIMARY KEY not null,\n",
    "      nome VARCHAR(60),\n",
    "      rg VARCHAR(15),\n",
    "      valor_hora FLOAT,\n",
    "      id_deposito INT,\n",
    "      CONSTRAINT codigo_deposito_f FOREIGN KEY (id_deposito) REFERENCES deposito(id)    \n",
    "    );\n",
    "\"\"\"\n",
    "\n",
    "\n",
    "cursor.execute(create_table_query_funcionario)\n",
    "conn.commit()\n"
   ]
  },
  {
   "cell_type": "code",
   "execution_count": 33,
   "metadata": {},
   "outputs": [
    {
     "name": "stderr",
     "output_type": "stream",
     "text": [
      "C:\\Users\\user\\AppData\\Local\\Temp\\ipykernel_30044\\1109309760.py:14: FutureWarning: Calling int on a single element Series is deprecated and will raise a TypeError in the future. Use int(ser.iloc[0]) instead\n",
      "  id_deposito = int(random_row['localidade'])\n"
     ]
    },
    {
     "name": "stdout",
     "output_type": "stream",
     "text": [
      "INSERT INTO funcionario (nome, rg, valor_hora, id_deposito) VALUES ('Kaique Costela', '8764445', 50, 1);\n",
      "INSERT INTO funcionario (nome, rg, valor_hora, id_deposito) VALUES ('Sarah Silveira', '2115481', 150, 2);\n",
      "INSERT INTO funcionario (nome, rg, valor_hora, id_deposito) VALUES ('Lavínia Costa', '9467433', 175, 3);\n",
      "INSERT INTO funcionario (nome, rg, valor_hora, id_deposito) VALUES ('Mariana Moura', '9537231', 50, 1);\n",
      "INSERT INTO funcionario (nome, rg, valor_hora, id_deposito) VALUES ('Sra. Lavínia Santos', '7233938', 225, 3);\n",
      "Conexão fechada com sucesso.\n"
     ]
    }
   ],
   "source": [
    "df_deposito = pd.read_excel('C:/Users/user/Documents/GitHub/EMBRAER--Custo-Manutencao-de-Estoque-/dados_kardex.xlsx', sheet_name='deposito')\n",
    "\n",
    "fake = Faker('pt_BR')\n",
    "\n",
    "\n",
    "for _ in range(50):\n",
    "    nome = fake.name()\n",
    "    rg = fake.random_int(min=1000000, max=9999999)\n",
    "    valor_hora = round(fake.random_number(1, True) * 25, 2)\n",
    "\n",
    "    # linha aleatória do df_deposito\n",
    "    random_row = df_deposito.sample()\n",
    "    \n",
    "    id_deposito = int(random_row['localidade'])\n",
    "\n",
    "    print(f\"INSERT INTO funcionario (nome, rg, valor_hora, id_deposito) VALUES ('{nome}', '{rg}', {valor_hora}, {id_deposito});\")\n",
    "\n",
    "    insert_query = \"INSERT INTO funcionario (nome, rg, valor_hora, id_deposito) VALUES (%s, %s, %s, %s)\"\n",
    "    data = (nome, rg, valor_hora, id_deposito)\n",
    "\n",
    "    try:\n",
    "        cursor.execute(insert_query, data)\n",
    "        conn.commit()\n",
    "    except Exception as e:\n",
    "        print(f\"Erro ao inserir dados: {e}\")\n",
    "\n",
    "try:\n",
    "    cursor.close()\n",
    "    print(\"Conexão fechada com sucesso.\")\n",
    "    conn.close()\n",
    "except Exception as e:\n",
    "    print(f\"Erro ao fechar a conexão: {e}\")"
   ]
  }
 ],
 "metadata": {
  "kernelspec": {
   "display_name": "Python 3",
   "language": "python",
   "name": "python3"
  },
  "language_info": {
   "codemirror_mode": {
    "name": "ipython",
    "version": 3
   },
   "file_extension": ".py",
   "mimetype": "text/x-python",
   "name": "python",
   "nbconvert_exporter": "python",
   "pygments_lexer": "ipython3",
   "version": "3.11.5"
  }
 },
 "nbformat": 4,
 "nbformat_minor": 2
}
