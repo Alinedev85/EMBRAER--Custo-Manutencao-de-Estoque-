{
 "cells": [
  {
   "cell_type": "code",
   "execution_count": 1,
   "metadata": {},
   "outputs": [
    {
     "name": "stdout",
     "output_type": "stream",
     "text": [
      "Requirement already satisfied: mysql-connector-python in c:\\python311\\lib\\site-packages (8.1.0)\n",
      "Requirement already satisfied: protobuf<=4.21.12,>=4.21.1 in c:\\python311\\lib\\site-packages (from mysql-connector-python) (4.21.12)\n",
      "Note: you may need to restart the kernel to use updated packages.\n"
     ]
    }
   ],
   "source": [
    "pip install mysql-connector-python"
   ]
  },
  {
   "cell_type": "code",
   "execution_count": 2,
   "metadata": {},
   "outputs": [],
   "source": [
    "import mysql.connector\n",
    "from mysql.connector import Error\n",
    "from random import randint, choice, uniform\n",
    "from faker import Faker"
   ]
  },
  {
   "cell_type": "code",
   "execution_count": null,
   "metadata": {},
   "outputs": [],
   "source": [
    "db_config = {\n",
    "    'host': 'localhost',\n",
    "    'user': 'root',\n",
    "    'password': '22976738',\n",
    "    'database': 'projeto'\n",
    "}\n",
    "\n",
    "\n",
    "try:\n",
    "    connection = mysql.connector.connect(**db_config)\n",
    "    if connection.is_connected():\n",
    "        print(\"Conexão ao banco de dados bem-sucedida.\")   \n",
    "except mysql.connector.Error as e:\n",
    "    print(f\"Erro ao conectar ao banco de dados: {e}\")\n",
    "    \n",
    "    \n",
    "conn = mysql.connector.connect(**db_config)\n",
    "cursor = conn.cursor()\n"
   ]
  },
  {
   "cell_type": "code",
   "execution_count": null,
   "metadata": {},
   "outputs": [],
   "source": [
    "\n",
    "# create_table_query_cidade = \"\"\"\n",
    "#      CREATE TABLE funcionario(\n",
    "#       chapa INTEGER AUTO_INCREMENT PRIMARY KEY not null,\n",
    "#       nome varchar(60),\n",
    "#       rg varchar(15),\n",
    "#       valor_hora float      \n",
    "# );\n",
    "# \"\"\"\n",
    "\n",
    "\n",
    "# cursor.execute(create_table_query_cidade)\n",
    "# conn.commit()\n"
   ]
  },
  {
   "cell_type": "code",
   "execution_count": 4,
   "metadata": {},
   "outputs": [
    {
     "name": "stdout",
     "output_type": "stream",
     "text": [
      "INSERT INTO funcionario (nome, rg, valor_hora) VALUES ('Pietra Pires', '3571891', 2500);\n",
      "Erro ao inserir dados: name 'cursor' is not defined\n",
      "INSERT INTO funcionario (nome, rg, valor_hora) VALUES ('Brenda Lima', '3720023', 2100);\n",
      "Erro ao inserir dados: name 'cursor' is not defined\n",
      "INSERT INTO funcionario (nome, rg, valor_hora) VALUES ('Erick Barbosa', '8763372', 3200);\n",
      "Erro ao inserir dados: name 'cursor' is not defined\n",
      "INSERT INTO funcionario (nome, rg, valor_hora) VALUES ('Sr. Luiz Gustavo Silva', '5993371', 4000);\n",
      "Erro ao inserir dados: name 'cursor' is not defined\n",
      "INSERT INTO funcionario (nome, rg, valor_hora) VALUES ('Felipe Jesus', '6438723', 2450);\n",
      "Erro ao inserir dados: name 'cursor' is not defined\n",
      "Erro ao fechar a conexão: name 'cursor' is not defined\n"
     ]
    }
   ],
   "source": [
    "fake = Faker('pt_BR')\n",
    "\n",
    "for _ in range(5):\n",
    "    nome = fake.name()\n",
    "    rg = fake.random_int(min=1000000, max=9999999)\n",
    "    valor_hora = round(fake.random_number(2, True) * 50, 1)\n",
    "\n",
    "    print(f\"INSERT INTO funcionario (nome, rg, valor_hora) VALUES ('{nome}', '{rg}', {valor_hora});\")\n",
    "\n",
    "    insert_query = \"INSERT INTO funcionario (nome, rg, valor_hora) VALUES (%s, %s, %s)\"\n",
    "    data = (nome, rg, valor_hora)\n",
    "\n",
    "    try:\n",
    "        cursor.execute(insert_query, data)\n",
    "        conn.commit()\n",
    "    except Exception as e:\n",
    "        print(f\"Erro ao inserir dados: {e}\")\n",
    "\n",
    "try:\n",
    "    cursor.close()\n",
    "    print(\"Conexão fechada com sucesso.\")\n",
    "    conn.close()\n",
    "except Exception as e:\n",
    "    print(f\"Erro ao fechar a conexão: {e}\")\n"
   ]
  }
 ],
 "metadata": {
  "kernelspec": {
   "display_name": "Python 3",
   "language": "python",
   "name": "python3"
  },
  "language_info": {
   "codemirror_mode": {
    "name": "ipython",
    "version": 3
   },
   "file_extension": ".py",
   "mimetype": "text/x-python",
   "name": "python",
   "nbconvert_exporter": "python",
   "pygments_lexer": "ipython3",
   "version": "3.11.5"
  }
 },
 "nbformat": 4,
 "nbformat_minor": 2
}
