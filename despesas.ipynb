{
 "cells": [
  {
   "cell_type": "code",
   "execution_count": 10,
   "metadata": {},
   "outputs": [],
   "source": [
    "import mysql.connector\n",
    "from mysql.connector import Error\n",
    "from random import randint, choice, uniform\n",
    "from faker import Faker\n",
    "import pandas as pd\n",
    "from datetime import datetime"
   ]
  },
  {
   "cell_type": "code",
   "execution_count": 11,
   "metadata": {},
   "outputs": [
    {
     "name": "stdout",
     "output_type": "stream",
     "text": [
      "Conexão ao banco de dados bem-sucedida.\n"
     ]
    }
   ],
   "source": [
    "db_config = {\n",
    "    'host': 'localhost',\n",
    "    'user': 'root',\n",
    "    'password': '22976738',\n",
    "    'database': 'teste1'\n",
    "}\n",
    "\n",
    "\n",
    "try:\n",
    "    connection = mysql.connector.connect(**db_config)\n",
    "    if connection.is_connected():\n",
    "        print(\"Conexão ao banco de dados bem-sucedida.\")   \n",
    "except mysql.connector.Error as e:\n",
    "    print(f\"Erro ao conectar ao banco de dados: {e}\")\n",
    "    \n",
    "    \n",
    "conn = mysql.connector.connect(**db_config)\n",
    "cursor = conn.cursor()\n"
   ]
  },
  {
   "cell_type": "code",
   "execution_count": 12,
   "metadata": {},
   "outputs": [],
   "source": [
    "create_table_query_despesas = \"\"\"\n",
    " \n",
    "    CREATE TABLE IF NOT EXISTS despesas(\n",
    "     id INT AUTO_INCREMENT PRIMARY KEY NOT NULL,\n",
    "     data_despesas DATE,\n",
    "     custos_seguro FLOAT,\n",
    "     energia FLOAT,\n",
    "     id_produtos INT,\n",
    "     id_deposito INT\n",
    "     );\n",
    "     \n",
    "\"\"\"\n",
    "\n",
    "cursor.execute(create_table_query_despesas)\n",
    "conn.commit()"
   ]
  },
  {
   "cell_type": "code",
   "execution_count": 13,
   "metadata": {},
   "outputs": [
    {
     "name": "stdout",
     "output_type": "stream",
     "text": [
      "INSERT INTO despesas (data_despesas, custos_seguro, energia, id_produtos, id_deposito) VALUES ('2019-01-10', 7800, 22625, 1, 4);\n",
      "INSERT INTO despesas (data_despesas, custos_seguro, energia, id_produtos, id_deposito) VALUES ('2019-02-10', 4750, 21825, 2, 4);\n",
      "INSERT INTO despesas (data_despesas, custos_seguro, energia, id_produtos, id_deposito) VALUES ('2019-03-10', 4750, 21971, 3, 1);\n",
      "INSERT INTO despesas (data_despesas, custos_seguro, energia, id_produtos, id_deposito) VALUES ('2019-04-10', 4750, 24207, 4, 1);\n",
      "INSERT INTO despesas (data_despesas, custos_seguro, energia, id_produtos, id_deposito) VALUES ('2019-05-10', 4750, 22277, 5, 2);\n",
      "INSERT INTO despesas (data_despesas, custos_seguro, energia, id_produtos, id_deposito) VALUES ('2019-06-10', 4750, 22174, 6, 1);\n",
      "INSERT INTO despesas (data_despesas, custos_seguro, energia, id_produtos, id_deposito) VALUES ('2019-07-10', 4750, 23918, 7, 4);\n",
      "INSERT INTO despesas (data_despesas, custos_seguro, energia, id_produtos, id_deposito) VALUES ('2019-08-10', 4750, 23798, 8, 4);\n",
      "INSERT INTO despesas (data_despesas, custos_seguro, energia, id_produtos, id_deposito) VALUES ('2019-09-10', 4750, 24486, 9, 1);\n",
      "INSERT INTO despesas (data_despesas, custos_seguro, energia, id_produtos, id_deposito) VALUES ('2019-10-10', 4750, 21737, 10, 3);\n",
      "INSERT INTO despesas (data_despesas, custos_seguro, energia, id_produtos, id_deposito) VALUES ('2019-11-10', 4750, 21399, 11, 4);\n",
      "INSERT INTO despesas (data_despesas, custos_seguro, energia, id_produtos, id_deposito) VALUES ('2019-12-10', 4750, 24438, 12, 3);\n",
      "INSERT INTO despesas (data_despesas, custos_seguro, energia, id_produtos, id_deposito) VALUES ('2020-01-10', 5150, 24292, 13, 3);\n",
      "INSERT INTO despesas (data_despesas, custos_seguro, energia, id_produtos, id_deposito) VALUES ('2020-02-10', 5150, 22944, 14, 3);\n",
      "INSERT INTO despesas (data_despesas, custos_seguro, energia, id_produtos, id_deposito) VALUES ('2020-03-10', 5150, 21478, 15, 4);\n",
      "INSERT INTO despesas (data_despesas, custos_seguro, energia, id_produtos, id_deposito) VALUES ('2020-04-10', 5150, 24489, 16, 3);\n",
      "INSERT INTO despesas (data_despesas, custos_seguro, energia, id_produtos, id_deposito) VALUES ('2020-05-10', 5150, 24447, 17, 1);\n",
      "INSERT INTO despesas (data_despesas, custos_seguro, energia, id_produtos, id_deposito) VALUES ('2020-06-10', 5150, 23972, 18, 2);\n",
      "INSERT INTO despesas (data_despesas, custos_seguro, energia, id_produtos, id_deposito) VALUES ('2020-07-10', 5150, 22589, 19, 2);\n",
      "INSERT INTO despesas (data_despesas, custos_seguro, energia, id_produtos, id_deposito) VALUES ('2020-08-10', 5150, 24116, 20, 4);\n",
      "INSERT INTO despesas (data_despesas, custos_seguro, energia, id_produtos, id_deposito) VALUES ('2020-09-10', 5150, 21779, 21, 2);\n",
      "INSERT INTO despesas (data_despesas, custos_seguro, energia, id_produtos, id_deposito) VALUES ('2020-10-10', 5150, 21004, 22, 3);\n"
     ]
    },
    {
     "ename": "KeyError",
     "evalue": "22",
     "output_type": "error",
     "traceback": [
      "\u001b[1;31m---------------------------------------------------------------------------\u001b[0m",
      "\u001b[1;31mValueError\u001b[0m                                Traceback (most recent call last)",
      "File \u001b[1;32mc:\\Python311\\Lib\\site-packages\\pandas\\core\\indexes\\range.py:414\u001b[0m, in \u001b[0;36mRangeIndex.get_loc\u001b[1;34m(self, key)\u001b[0m\n\u001b[0;32m    413\u001b[0m \u001b[38;5;28;01mtry\u001b[39;00m:\n\u001b[1;32m--> 414\u001b[0m     \u001b[38;5;28;01mreturn\u001b[39;00m \u001b[38;5;28mself\u001b[39m\u001b[38;5;241m.\u001b[39m_range\u001b[38;5;241m.\u001b[39mindex(new_key)\n\u001b[0;32m    415\u001b[0m \u001b[38;5;28;01mexcept\u001b[39;00m \u001b[38;5;167;01mValueError\u001b[39;00m \u001b[38;5;28;01mas\u001b[39;00m err:\n",
      "\u001b[1;31mValueError\u001b[0m: 22 is not in range",
      "\nThe above exception was the direct cause of the following exception:\n",
      "\u001b[1;31mKeyError\u001b[0m                                  Traceback (most recent call last)",
      "Cell \u001b[1;32mIn[13], line 13\u001b[0m\n\u001b[0;32m     11\u001b[0m custos_seguro \u001b[38;5;241m=\u001b[39m \u001b[38;5;28mint\u001b[39m(df_despesas\u001b[38;5;241m.\u001b[39mloc[\u001b[38;5;28mid\u001b[39m, \u001b[38;5;124m'\u001b[39m\u001b[38;5;124mcusto_seguro\u001b[39m\u001b[38;5;124m'\u001b[39m])\n\u001b[0;32m     12\u001b[0m energia \u001b[38;5;241m=\u001b[39m \u001b[38;5;28mint\u001b[39m(df_despesas\u001b[38;5;241m.\u001b[39mloc[\u001b[38;5;28mid\u001b[39m, \u001b[38;5;124m'\u001b[39m\u001b[38;5;124mcusto_energia\u001b[39m\u001b[38;5;124m'\u001b[39m])\n\u001b[1;32m---> 13\u001b[0m id_produtos \u001b[38;5;241m=\u001b[39m \u001b[38;5;28mint\u001b[39m(\u001b[43mdf_produtos\u001b[49m\u001b[38;5;241;43m.\u001b[39;49m\u001b[43mloc\u001b[49m\u001b[43m[\u001b[49m\u001b[38;5;28;43mid\u001b[39;49m\u001b[43m,\u001b[49m\u001b[43m \u001b[49m\u001b[38;5;124;43m'\u001b[39;49m\u001b[38;5;124;43mcodigo_produto\u001b[39;49m\u001b[38;5;124;43m'\u001b[39;49m\u001b[43m]\u001b[49m)\n\u001b[0;32m     14\u001b[0m id_deposito \u001b[38;5;241m=\u001b[39m \u001b[38;5;28mint\u001b[39m(df_despesas\u001b[38;5;241m.\u001b[39mloc[\u001b[38;5;28mid\u001b[39m, \u001b[38;5;124m'\u001b[39m\u001b[38;5;124mdeposito\u001b[39m\u001b[38;5;124m'\u001b[39m])\n\u001b[0;32m     16\u001b[0m \u001b[38;5;28mprint\u001b[39m(\u001b[38;5;124mf\u001b[39m\u001b[38;5;124m\"\u001b[39m\u001b[38;5;124mINSERT INTO despesas (data_despesas, custos_seguro, energia, id_produtos, id_deposito) VALUES \u001b[39m\u001b[38;5;124m\"\u001b[39m\n\u001b[0;32m     17\u001b[0m       \u001b[38;5;124mf\u001b[39m\u001b[38;5;124m\"\u001b[39m\u001b[38;5;124m(\u001b[39m\u001b[38;5;124m'\u001b[39m\u001b[38;5;132;01m{\u001b[39;00mdata_despesas\u001b[38;5;132;01m}\u001b[39;00m\u001b[38;5;124m'\u001b[39m\u001b[38;5;124m, \u001b[39m\u001b[38;5;132;01m{\u001b[39;00mcustos_seguro\u001b[38;5;132;01m}\u001b[39;00m\u001b[38;5;124m, \u001b[39m\u001b[38;5;132;01m{\u001b[39;00menergia\u001b[38;5;132;01m}\u001b[39;00m\u001b[38;5;124m, \u001b[39m\u001b[38;5;132;01m{\u001b[39;00mid_produtos\u001b[38;5;132;01m}\u001b[39;00m\u001b[38;5;124m, \u001b[39m\u001b[38;5;132;01m{\u001b[39;00mid_deposito\u001b[38;5;132;01m}\u001b[39;00m\u001b[38;5;124m);\u001b[39m\u001b[38;5;124m\"\u001b[39m)\n",
      "File \u001b[1;32mc:\\Python311\\Lib\\site-packages\\pandas\\core\\indexing.py:1146\u001b[0m, in \u001b[0;36m_LocationIndexer.__getitem__\u001b[1;34m(self, key)\u001b[0m\n\u001b[0;32m   1144\u001b[0m     key \u001b[38;5;241m=\u001b[39m \u001b[38;5;28mtuple\u001b[39m(com\u001b[38;5;241m.\u001b[39mapply_if_callable(x, \u001b[38;5;28mself\u001b[39m\u001b[38;5;241m.\u001b[39mobj) \u001b[38;5;28;01mfor\u001b[39;00m x \u001b[38;5;129;01min\u001b[39;00m key)\n\u001b[0;32m   1145\u001b[0m     \u001b[38;5;28;01mif\u001b[39;00m \u001b[38;5;28mself\u001b[39m\u001b[38;5;241m.\u001b[39m_is_scalar_access(key):\n\u001b[1;32m-> 1146\u001b[0m         \u001b[38;5;28;01mreturn\u001b[39;00m \u001b[38;5;28;43mself\u001b[39;49m\u001b[38;5;241;43m.\u001b[39;49m\u001b[43mobj\u001b[49m\u001b[38;5;241;43m.\u001b[39;49m\u001b[43m_get_value\u001b[49m\u001b[43m(\u001b[49m\u001b[38;5;241;43m*\u001b[39;49m\u001b[43mkey\u001b[49m\u001b[43m,\u001b[49m\u001b[43m \u001b[49m\u001b[43mtakeable\u001b[49m\u001b[38;5;241;43m=\u001b[39;49m\u001b[38;5;28;43mself\u001b[39;49m\u001b[38;5;241;43m.\u001b[39;49m\u001b[43m_takeable\u001b[49m\u001b[43m)\u001b[49m\n\u001b[0;32m   1147\u001b[0m     \u001b[38;5;28;01mreturn\u001b[39;00m \u001b[38;5;28mself\u001b[39m\u001b[38;5;241m.\u001b[39m_getitem_tuple(key)\n\u001b[0;32m   1148\u001b[0m \u001b[38;5;28;01melse\u001b[39;00m:\n\u001b[0;32m   1149\u001b[0m     \u001b[38;5;66;03m# we by definition only have the 0th axis\u001b[39;00m\n",
      "File \u001b[1;32mc:\\Python311\\Lib\\site-packages\\pandas\\core\\frame.py:4012\u001b[0m, in \u001b[0;36mDataFrame._get_value\u001b[1;34m(self, index, col, takeable)\u001b[0m\n\u001b[0;32m   4006\u001b[0m engine \u001b[38;5;241m=\u001b[39m \u001b[38;5;28mself\u001b[39m\u001b[38;5;241m.\u001b[39mindex\u001b[38;5;241m.\u001b[39m_engine\n\u001b[0;32m   4008\u001b[0m \u001b[38;5;28;01mif\u001b[39;00m \u001b[38;5;129;01mnot\u001b[39;00m \u001b[38;5;28misinstance\u001b[39m(\u001b[38;5;28mself\u001b[39m\u001b[38;5;241m.\u001b[39mindex, MultiIndex):\n\u001b[0;32m   4009\u001b[0m     \u001b[38;5;66;03m# CategoricalIndex: Trying to use the engine fastpath may give incorrect\u001b[39;00m\n\u001b[0;32m   4010\u001b[0m     \u001b[38;5;66;03m#  results if our categories are integers that dont match our codes\u001b[39;00m\n\u001b[0;32m   4011\u001b[0m     \u001b[38;5;66;03m# IntervalIndex: IntervalTree has no get_loc\u001b[39;00m\n\u001b[1;32m-> 4012\u001b[0m     row \u001b[38;5;241m=\u001b[39m \u001b[38;5;28;43mself\u001b[39;49m\u001b[38;5;241;43m.\u001b[39;49m\u001b[43mindex\u001b[49m\u001b[38;5;241;43m.\u001b[39;49m\u001b[43mget_loc\u001b[49m\u001b[43m(\u001b[49m\u001b[43mindex\u001b[49m\u001b[43m)\u001b[49m\n\u001b[0;32m   4013\u001b[0m     \u001b[38;5;28;01mreturn\u001b[39;00m series\u001b[38;5;241m.\u001b[39m_values[row]\n\u001b[0;32m   4015\u001b[0m \u001b[38;5;66;03m# For MultiIndex going through engine effectively restricts us to\u001b[39;00m\n\u001b[0;32m   4016\u001b[0m \u001b[38;5;66;03m#  same-length tuples; see test_get_set_value_no_partial_indexing\u001b[39;00m\n",
      "File \u001b[1;32mc:\\Python311\\Lib\\site-packages\\pandas\\core\\indexes\\range.py:416\u001b[0m, in \u001b[0;36mRangeIndex.get_loc\u001b[1;34m(self, key)\u001b[0m\n\u001b[0;32m    414\u001b[0m         \u001b[38;5;28;01mreturn\u001b[39;00m \u001b[38;5;28mself\u001b[39m\u001b[38;5;241m.\u001b[39m_range\u001b[38;5;241m.\u001b[39mindex(new_key)\n\u001b[0;32m    415\u001b[0m     \u001b[38;5;28;01mexcept\u001b[39;00m \u001b[38;5;167;01mValueError\u001b[39;00m \u001b[38;5;28;01mas\u001b[39;00m err:\n\u001b[1;32m--> 416\u001b[0m         \u001b[38;5;28;01mraise\u001b[39;00m \u001b[38;5;167;01mKeyError\u001b[39;00m(key) \u001b[38;5;28;01mfrom\u001b[39;00m \u001b[38;5;21;01merr\u001b[39;00m\n\u001b[0;32m    417\u001b[0m \u001b[38;5;28;01mif\u001b[39;00m \u001b[38;5;28misinstance\u001b[39m(key, Hashable):\n\u001b[0;32m    418\u001b[0m     \u001b[38;5;28;01mraise\u001b[39;00m \u001b[38;5;167;01mKeyError\u001b[39;00m(key)\n",
      "\u001b[1;31mKeyError\u001b[0m: 22"
     ]
    }
   ],
   "source": [
    "df_kardex = pd.read_excel('C:/Users/user/Documents/GitHub/EMBRAER--Custo-Manutencao-de-Estoque-/dados_kardex.xlsx', sheet_name='kardex')\n",
    "df_produtos = pd.read_excel('C:/Users/user/Documents/GitHub/EMBRAER--Custo-Manutencao-de-Estoque-/dados_kardex.xlsx', sheet_name='produtos')\n",
    "df_despesas = pd.read_excel('C:/Users/user/Documents/GitHub/EMBRAER--Custo-Manutencao-de-Estoque-/dados_kardex.xlsx', sheet_name='despesas')\n",
    "\n",
    "fake = Faker('pt_BR')\n",
    "\n",
    "for id in range(100):\n",
    "    \n",
    "    data_despesas_str = df_despesas.loc[id, 'data_despesas']\n",
    "    data_despesas = datetime.strptime(data_despesas_str, '%d/%m/%Y').date()\n",
    "    custos_seguro = int(df_despesas.loc[id, 'custo_seguro'])\n",
    "    energia = int(df_despesas.loc[id, 'custo_energia'])\n",
    "    id_produtos = int(df_produtos.loc[id, 'codigo_produto'])\n",
    "    id_deposito = int(df_despesas.loc[id, 'deposito'])\n",
    "\n",
    "    print(f\"INSERT INTO despesas (data_despesas, custos_seguro, energia, id_produtos, id_deposito) VALUES \"\n",
    "          f\"('{data_despesas}', {custos_seguro}, {energia}, {id_produtos}, {id_deposito});\")\n",
    "    \n",
    "    \n",
    "    insert_query = \"INSERT INTO despesas (data_despesas, custos_seguro, energia, id_produtos, id_deposito) VALUES (%s, %s, %s, %s, %s)\"\n",
    "    data = (data_despesas, custos_seguro, energia, id_produtos, id_deposito)\n",
    "\n",
    "\n",
    "    try:\n",
    "        cursor.execute(insert_query, data)\n",
    "        conn.commit()\n",
    "    except Exception as e:\n",
    "        print(f\"Erro ao inserir dados: {e}\")\n",
    "\n",
    "try:\n",
    "    cursor.close()\n",
    "    print(\"Conexão fechada com sucesso.\")\n",
    "    conn.close()\n",
    "except Exception as e:\n",
    "    print(f\"Erro ao fechar a conexão: {e}\")"
   ]
  },
  {
   "cell_type": "code",
   "execution_count": null,
   "metadata": {},
   "outputs": [
    {
     "name": "stdout",
     "output_type": "stream",
     "text": [
      "Index(['data_despesas', 'custo_seguro', 'custo_energia', 'deposito'], dtype='object')\n"
     ]
    }
   ],
   "source": [
    "#print(df_despesas.columns)\n"
   ]
  },
  {
   "cell_type": "code",
   "execution_count": null,
   "metadata": {},
   "outputs": [],
   "source": []
  }
 ],
 "metadata": {
  "kernelspec": {
   "display_name": "Python 3",
   "language": "python",
   "name": "python3"
  },
  "language_info": {
   "codemirror_mode": {
    "name": "ipython",
    "version": 3
   },
   "file_extension": ".py",
   "mimetype": "text/x-python",
   "name": "python",
   "nbconvert_exporter": "python",
   "pygments_lexer": "ipython3",
   "version": "3.11.5"
  }
 },
 "nbformat": 4,
 "nbformat_minor": 2
}
