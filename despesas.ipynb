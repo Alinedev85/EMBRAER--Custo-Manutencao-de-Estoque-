{
 "cells": [
  {
   "cell_type": "code",
   "execution_count": 39,
   "metadata": {},
   "outputs": [],
   "source": [
    "import mysql.connector\n",
    "from mysql.connector import Error\n",
    "from random import randint, choice, uniform\n",
    "from faker import Faker\n",
    "import pandas as pd\n",
    "from datetime import datetime"
   ]
  },
  {
   "cell_type": "code",
   "execution_count": 40,
   "metadata": {},
   "outputs": [
    {
     "name": "stdout",
     "output_type": "stream",
     "text": [
      "Conexão ao banco de dados bem-sucedida.\n"
     ]
    }
   ],
   "source": [
    "db_config = {\n",
    "    'host': 'localhost',\n",
    "    'user': 'root',\n",
    "    'password': '22976738',\n",
    "    'database': 'teste1'\n",
    "}\n",
    "\n",
    "\n",
    "try:\n",
    "    connection = mysql.connector.connect(**db_config)\n",
    "    if connection.is_connected():\n",
    "        print(\"Conexão ao banco de dados bem-sucedida.\")   \n",
    "except mysql.connector.Error as e:\n",
    "    print(f\"Erro ao conectar ao banco de dados: {e}\")\n",
    "    \n",
    "    \n",
    "conn = mysql.connector.connect(**db_config)\n",
    "cursor = conn.cursor()\n"
   ]
  },
  {
   "cell_type": "code",
   "execution_count": 41,
   "metadata": {},
   "outputs": [],
   "source": [
    "create_table_query_despesas = \"\"\"\n",
    " \n",
    "    CREATE TABLE IF NOT EXISTS despesas(\n",
    "     id INT AUTO_INCREMENT PRIMARY KEY NOT NULL,\n",
    "     data_despesas DATE,\n",
    "     custos_seguro FLOAT,\n",
    "     energia FLOAT,\n",
    "     horas_producao INT,\n",
    "     depreciacao_maquinario FLOAT,\n",
    "     logistica_retorno_Peca FLOAT,\n",
    "     hora_funcionario INT,\n",
    "     gastos_gerais_fabricacao FLOAT,\n",
    "     data_usinagem  DATE,\n",
    "     id_produtos INT,\n",
    "     id_deposito INT\n",
    "     );\n",
    "     \n",
    "\"\"\"\n",
    "\n",
    "cursor.execute(create_table_query_despesas)\n",
    "conn.commit()"
   ]
  },
  {
   "cell_type": "code",
   "execution_count": 42,
   "metadata": {},
   "outputs": [
    {
     "name": "stdout",
     "output_type": "stream",
     "text": [
      "INSERT INTO despesas (data_despesas, custos_seguro, energia, h_producao, depreciacao_maquinario, logistica_retorno_peca, hora_funcionario, gastos_gerais_fabricacao, data_usinagem, id_produtos, id_deposito) VALUES ('2019-01-10', 7800, 22625, 2.0, 16527, 27600, 2, 75, '2019-01-10', 1, 4);\n",
      "Erro ao inserir dados: 1054 (42S22): Unknown column 'h_producao' in 'field list'\n",
      "INSERT INTO despesas (data_despesas, custos_seguro, energia, h_producao, depreciacao_maquinario, logistica_retorno_peca, hora_funcionario, gastos_gerais_fabricacao, data_usinagem, id_produtos, id_deposito) VALUES ('2019-02-10', 4750, 21825, 2.0, 16527, 27600, 2, 98, '2019-02-10', 2, 4);\n",
      "Erro ao inserir dados: 1054 (42S22): Unknown column 'h_producao' in 'field list'\n",
      "INSERT INTO despesas (data_despesas, custos_seguro, energia, h_producao, depreciacao_maquinario, logistica_retorno_peca, hora_funcionario, gastos_gerais_fabricacao, data_usinagem, id_produtos, id_deposito) VALUES ('2019-03-10', 4750, 21971, 2.0, 16527, 27600, 2, 116, '2019-03-10', 3, 1);\n",
      "Erro ao inserir dados: 1054 (42S22): Unknown column 'h_producao' in 'field list'\n",
      "INSERT INTO despesas (data_despesas, custos_seguro, energia, h_producao, depreciacao_maquinario, logistica_retorno_peca, hora_funcionario, gastos_gerais_fabricacao, data_usinagem, id_produtos, id_deposito) VALUES ('2019-04-10', 4750, 24207, 2.0, 33055, 27600, 2, 110, '2019-04-10', 4, 1);\n",
      "Erro ao inserir dados: 1054 (42S22): Unknown column 'h_producao' in 'field list'\n",
      "INSERT INTO despesas (data_despesas, custos_seguro, energia, h_producao, depreciacao_maquinario, logistica_retorno_peca, hora_funcionario, gastos_gerais_fabricacao, data_usinagem, id_produtos, id_deposito) VALUES ('2019-05-10', 4750, 22277, 4.0, 33055, 27600, 4, 118, '2019-05-10', 5, 2);\n",
      "Erro ao inserir dados: 1054 (42S22): Unknown column 'h_producao' in 'field list'\n",
      "INSERT INTO despesas (data_despesas, custos_seguro, energia, h_producao, depreciacao_maquinario, logistica_retorno_peca, hora_funcionario, gastos_gerais_fabricacao, data_usinagem, id_produtos, id_deposito) VALUES ('2019-06-10', 4750, 22174, 4.0, 33055, 27600, 4, 100, '2019-06-10', 6, 1);\n",
      "Erro ao inserir dados: 1054 (42S22): Unknown column 'h_producao' in 'field list'\n",
      "INSERT INTO despesas (data_despesas, custos_seguro, energia, h_producao, depreciacao_maquinario, logistica_retorno_peca, hora_funcionario, gastos_gerais_fabricacao, data_usinagem, id_produtos, id_deposito) VALUES ('2019-07-10', 4750, 23918, 6.0, 33055, 27600, 6, 70, '2019-07-10', 7, 4);\n",
      "Erro ao inserir dados: 1054 (42S22): Unknown column 'h_producao' in 'field list'\n",
      "INSERT INTO despesas (data_despesas, custos_seguro, energia, h_producao, depreciacao_maquinario, logistica_retorno_peca, hora_funcionario, gastos_gerais_fabricacao, data_usinagem, id_produtos, id_deposito) VALUES ('2019-08-10', 4750, 23798, 8.0, 33055, 27600, 8, 87, '2019-08-10', 8, 4);\n",
      "Erro ao inserir dados: 1054 (42S22): Unknown column 'h_producao' in 'field list'\n"
     ]
    },
    {
     "ename": "ValueError",
     "evalue": "cannot convert float NaN to integer",
     "output_type": "error",
     "traceback": [
      "\u001b[1;31m---------------------------------------------------------------------------\u001b[0m",
      "\u001b[1;31mValueError\u001b[0m                                Traceback (most recent call last)",
      "Cell \u001b[1;32mIn[42], line 13\u001b[0m\n\u001b[0;32m     11\u001b[0m energia \u001b[38;5;241m=\u001b[39m \u001b[38;5;28mint\u001b[39m(df_despesas\u001b[38;5;241m.\u001b[39mloc[\u001b[38;5;28mid\u001b[39m, \u001b[38;5;124m'\u001b[39m\u001b[38;5;124mcusto_energia\u001b[39m\u001b[38;5;124m'\u001b[39m])\n\u001b[0;32m     12\u001b[0m horas_producao \u001b[38;5;241m=\u001b[39m df_despesas\u001b[38;5;241m.\u001b[39mloc[\u001b[38;5;28mid\u001b[39m, \u001b[38;5;124m'\u001b[39m\u001b[38;5;124mh_producao\u001b[39m\u001b[38;5;124m'\u001b[39m]\n\u001b[1;32m---> 13\u001b[0m depreciacao_maquinario \u001b[38;5;241m=\u001b[39m \u001b[38;5;28;43mint\u001b[39;49m\u001b[43m(\u001b[49m\u001b[43mdf_despesas\u001b[49m\u001b[38;5;241;43m.\u001b[39;49m\u001b[43mloc\u001b[49m\u001b[43m[\u001b[49m\u001b[38;5;28;43mid\u001b[39;49m\u001b[43m,\u001b[49m\u001b[43m \u001b[49m\u001b[38;5;124;43m'\u001b[39;49m\u001b[38;5;124;43mdepreciacao\u001b[39;49m\u001b[38;5;124;43m'\u001b[39;49m\u001b[43m]\u001b[49m\u001b[43m)\u001b[49m\n\u001b[0;32m     14\u001b[0m logistica_retorno_peca \u001b[38;5;241m=\u001b[39m \u001b[38;5;28mint\u001b[39m(df_despesas\u001b[38;5;241m.\u001b[39mloc[\u001b[38;5;28mid\u001b[39m, \u001b[38;5;124m'\u001b[39m\u001b[38;5;124mlogistica_retorno\u001b[39m\u001b[38;5;124m'\u001b[39m])\n\u001b[0;32m     15\u001b[0m hora_funcionario \u001b[38;5;241m=\u001b[39m \u001b[38;5;28mint\u001b[39m(df_despesas\u001b[38;5;241m.\u001b[39mloc[\u001b[38;5;28mid\u001b[39m, \u001b[38;5;124m'\u001b[39m\u001b[38;5;124mfuncionario_hora\u001b[39m\u001b[38;5;124m'\u001b[39m])\n",
      "\u001b[1;31mValueError\u001b[0m: cannot convert float NaN to integer"
     ]
    }
   ],
   "source": [
    "df_kardex = pd.read_excel('C:/Users/user/Documents/GitHub/EMBRAER--Custo-Manutencao-de-Estoque-/dados_kardex.xlsx', sheet_name='kardex')\n",
    "df_produtos = pd.read_excel('C:/Users/user/Documents/GitHub/EMBRAER--Custo-Manutencao-de-Estoque-/dados_kardex.xlsx', sheet_name='produtos')\n",
    "df_despesas = pd.read_excel('C:/Users/user/Documents/GitHub/EMBRAER--Custo-Manutencao-de-Estoque-/dados_kardex.xlsx', sheet_name='despesas')\n",
    "\n",
    "fake = Faker('pt_BR')\n",
    "\n",
    "for id in range(100):\n",
    "    data_despesas_str = df_despesas.loc[id, 'data_despesas']\n",
    "    data_despesas = datetime.strptime(data_despesas_str, '%d/%m/%Y').date()\n",
    "    custos_seguro = int(df_despesas.loc[id, 'custo_seguro'])\n",
    "    energia = int(df_despesas.loc[id, 'custo_energia'])\n",
    "    horas_producao = df_despesas.loc[id, 'h_producao']\n",
    "    depreciacao_maquinario = int(df_despesas.loc[id, 'depreciacao'])\n",
    "    logistica_retorno_peca = int(df_despesas.loc[id, 'logistica_retorno'])\n",
    "    hora_funcionario = int(df_despesas.loc[id, 'funcionario_hora'])\n",
    "    gastos_gerais_fabricacao = int(df_despesas.loc[id, 'g_gerais_fabricacao'])\n",
    "    data_usinagem_str = df_despesas.loc[id, 'data_usinagem']\n",
    "    data_usinagem = datetime.strptime(data_usinagem_str, '%d/%m/%Y').date()\n",
    "    id_produtos = int(df_produtos.loc[id, 'codigo_produto'])\n",
    "    id_deposito = int(df_despesas.loc[id, 'deposito'])\n",
    "\n",
    "    print(f\"INSERT INTO despesas (data_despesas, custos_seguro, energia, h_producao, depreciacao_maquinario, logistica_retorno_peca, hora_funcionario, gastos_gerais_fabricacao, data_usinagem, id_produtos, id_deposito) VALUES \"\n",
    "          f\"('{data_despesas}', {custos_seguro}, {energia}, {horas_producao}, {depreciacao_maquinario}, {logistica_retorno_peca}, {hora_funcionario}, {gastos_gerais_fabricacao}, '{data_usinagem}', {id_produtos}, {id_deposito});\")\n",
    "\n",
    "    insert_query = \"\"\"\n",
    "        INSERT INTO despesas (\n",
    "            data_despesas, custos_seguro, energia, h_producao, depreciacao_maquinario,\n",
    "            logistica_retorno_peca, hora_funcionario, gastos_gerais_fabricacao,\n",
    "            data_usinagem, id_produtos, id_deposito\n",
    "        ) VALUES (%s, %s, %s, %s, %s, %s, %s, %s, %s, %s, %s)\n",
    "    \"\"\"\n",
    "\n",
    "    data = (\n",
    "        data_despesas, custos_seguro, energia, horas_producao, depreciacao_maquinario,\n",
    "        logistica_retorno_peca, hora_funcionario, gastos_gerais_fabricacao,\n",
    "        data_usinagem, id_produtos, id_deposito\n",
    "    )\n",
    "\n",
    "    try:\n",
    "        cursor.execute(insert_query, data)\n",
    "        conn.commit()\n",
    "    except Exception as e:\n",
    "        print(f\"Erro ao inserir dados: {e}\")\n",
    "\n",
    "try:\n",
    "    cursor.close()\n",
    "    print(\"Conexão fechada com sucesso.\")\n",
    "    conn.close()\n",
    "except Exception as e:\n",
    "    print(f\"Erro ao fechar a conexão: {e}\")"
   ]
  },
  {
   "cell_type": "code",
   "execution_count": null,
   "metadata": {},
   "outputs": [
    {
     "name": "stdout",
     "output_type": "stream",
     "text": [
      "Index(['data_despesas', 'custo_seguro', 'custo_energia', 'deposito',\n",
      "       'h_producao', 'depreciacao', 'logistia_retorno', 'funcionario_hora',\n",
      "       'g_gerais_fabricacao', 'data_usinagem', 'custo_seguro.1',\n",
      "       'custo_energia.1'],\n",
      "      dtype='object')\n"
     ]
    }
   ],
   "source": [
    "print(df_despesas.columns)\n"
   ]
  },
  {
   "cell_type": "code",
   "execution_count": null,
   "metadata": {},
   "outputs": [],
   "source": []
  }
 ],
 "metadata": {
  "kernelspec": {
   "display_name": "Python 3",
   "language": "python",
   "name": "python3"
  },
  "language_info": {
   "codemirror_mode": {
    "name": "ipython",
    "version": 3
   },
   "file_extension": ".py",
   "mimetype": "text/x-python",
   "name": "python",
   "nbconvert_exporter": "python",
   "pygments_lexer": "ipython3",
   "version": "3.11.5"
  }
 },
 "nbformat": 4,
 "nbformat_minor": 2
}
