{
 "cells": [
  {
   "cell_type": "code",
   "execution_count": 1,
   "metadata": {},
   "outputs": [],
   "source": [
    "#pip install mysql-connector-python"
   ]
  },
  {
   "cell_type": "code",
   "execution_count": 2,
   "metadata": {},
   "outputs": [],
   "source": [
    "import mysql.connector\n",
    "from mysql.connector import Error\n",
    "from random import randint, choice, uniform,random\n",
    "from faker import Faker\n",
    "import pandas as pd"
   ]
  },
  {
   "cell_type": "code",
   "execution_count": 3,
   "metadata": {},
   "outputs": [
    {
     "name": "stdout",
     "output_type": "stream",
     "text": [
      "Conexão ao banco de dados bem-sucedida.\n"
     ]
    }
   ],
   "source": [
    "db_config = {\n",
    "    'host': 'localhost',\n",
    "    'user': 'root',\n",
    "    'password': '22976738',\n",
    "    'database': 'teste1'\n",
    "}\n",
    "\n",
    "try:\n",
    "    connection = mysql.connector.connect(**db_config)\n",
    "    if connection.is_connected():\n",
    "        print(\"Conexão ao banco de dados bem-sucedida.\")   \n",
    "except mysql.connector.Error as e:\n",
    "    print(f\"Erro ao conectar ao banco de dados: {e}\")\n",
    "    \n",
    "    \n",
    "conn = mysql.connector.connect(**db_config)\n",
    "cursor = conn.cursor()\n"
   ]
  },
  {
   "cell_type": "code",
   "execution_count": 4,
   "metadata": {},
   "outputs": [],
   "source": [
    "create_table_query_estoque = \"\"\"\n",
    "\n",
    "  CREATE TABLE IF NOT EXISTS estoque (\n",
    "    \n",
    "    id INT AUTO_INCREMENT PRIMARY KEY NOT NULL,\n",
    "    id_deposito INT,\n",
    "    id_produto INT,\n",
    "    quantidade INT,\n",
    "    id_cidade INT,\n",
    "    CONSTRAINT codigo_deposito FOREIGN KEY (id_deposito) REFERENCES deposito(id),\n",
    "    CONSTRAINT codigo_produto_e FOREIGN KEY (id_produto) REFERENCES produtos(id)\n",
    "    );\n",
    "    \n",
    "\"\"\"\n",
    "\n",
    "cursor.execute(create_table_query_estoque)\n",
    "conn.commit()"
   ]
  },
  {
   "cell_type": "code",
   "execution_count": 5,
   "metadata": {},
   "outputs": [
    {
     "name": "stdout",
     "output_type": "stream",
     "text": [
      "INSERT INTO estoque (id_deposit:4, id_produto:21, quantidade:625, id_cidade:3)\n",
      "INSERT INTO estoque (id_deposit:4, id_produto:11, quantidade:362, id_cidade:4)\n",
      "INSERT INTO estoque (id_deposit:1, id_produto:13, quantidade:810, id_cidade:3)\n",
      "INSERT INTO estoque (id_deposit:1, id_produto:10, quantidade:671, id_cidade:4)\n",
      "INSERT INTO estoque (id_deposit:2, id_produto:14, quantidade:736, id_cidade:4)\n",
      "INSERT INTO estoque (id_deposit:4, id_produto:13, quantidade:937, id_cidade:1)\n",
      "INSERT INTO estoque (id_deposit:4, id_produto:13, quantidade:296, id_cidade:2)\n",
      "INSERT INTO estoque (id_deposit:3, id_produto:10, quantidade:680, id_cidade:2)\n",
      "INSERT INTO estoque (id_deposit:3, id_produto:6, quantidade:347, id_cidade:2)\n",
      "INSERT INTO estoque (id_deposit:2, id_produto:8, quantidade:488, id_cidade:4)\n",
      "INSERT INTO estoque (id_deposit:1, id_produto:4, quantidade:475, id_cidade:2)\n",
      "INSERT INTO estoque (id_deposit:4, id_produto:16, quantidade:404, id_cidade:1)\n",
      "INSERT INTO estoque (id_deposit:1, id_produto:15, quantidade:493, id_cidade:2)\n",
      "INSERT INTO estoque (id_deposit:3, id_produto:19, quantidade:242, id_cidade:1)\n",
      "INSERT INTO estoque (id_deposit:3, id_produto:18, quantidade:742, id_cidade:3)\n",
      "INSERT INTO estoque (id_deposit:3, id_produto:18, quantidade:752, id_cidade:2)\n",
      "INSERT INTO estoque (id_deposit:4, id_produto:10, quantidade:265, id_cidade:3)\n",
      "INSERT INTO estoque (id_deposit:4, id_produto:3, quantidade:301, id_cidade:2)\n",
      "INSERT INTO estoque (id_deposit:1, id_produto:2, quantidade:270, id_cidade:2)\n",
      "INSERT INTO estoque (id_deposit:4, id_produto:16, quantidade:363, id_cidade:4)\n"
     ]
    }
   ],
   "source": [
    "import pandas as pd\n",
    "df_kardex = pd.read_excel('C:/Users/user/Documents/GitHub/EMBRAER--Custo-Manutencao-de-Estoque-/dados_kardex.xlsx', sheet_name='kardex')\n",
    "\n",
    "\n",
    "fake = Faker()\n",
    "\n",
    "for _ in range(20):\n",
    "    id_deposito = randint(1, 4)\n",
    "    \n",
    "    # linha aleatória do df kardex\n",
    "    random_row = df_kardex.sample()\n",
    "    \n",
    "    id_produto = int(random_row['id_produto'].values[0])\n",
    "    quantidade = int(random_row['quantidade'].values[0])\n",
    "    id_cidade = randint(1, 4)\n",
    "    \n",
    "    print(f\"INSERT INTO estoque (id_deposit:{id_deposito}, id_produto:{id_produto}, quantidade:{quantidade}, id_cidade:{id_cidade})\")\n",
    "    \n",
    "    insert_query = \"INSERT INTO estoque (id_deposito, id_produto, quantidade, id_cidade) VALUES (%s, %s, %s, %s)\"\n",
    "    data = (id_deposito, id_produto, quantidade, id_cidade)\n",
    "\n",
    "    try:\n",
    "        cursor.execute(insert_query, data)\n",
    "        conn.commit()\n",
    "    except Exception as e:\n",
    "        print(f\"Erro ao inserir dados: {e}\")\n",
    "\n",
    "\n"
   ]
  },
  {
   "cell_type": "code",
   "execution_count": null,
   "metadata": {},
   "outputs": [],
   "source": []
  }
 ],
 "metadata": {
  "kernelspec": {
   "display_name": "Python 3",
   "language": "python",
   "name": "python3"
  },
  "language_info": {
   "codemirror_mode": {
    "name": "ipython",
    "version": 3
   },
   "file_extension": ".py",
   "mimetype": "text/x-python",
   "name": "python",
   "nbconvert_exporter": "python",
   "pygments_lexer": "ipython3",
   "version": "3.11.5"
  }
 },
 "nbformat": 4,
 "nbformat_minor": 2
}
