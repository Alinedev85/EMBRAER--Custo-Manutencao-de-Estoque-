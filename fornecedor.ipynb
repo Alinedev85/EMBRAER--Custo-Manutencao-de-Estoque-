{
 "cells": [
  {
   "cell_type": "code",
   "execution_count": 16,
   "metadata": {},
   "outputs": [
    {
     "name": "stdout",
     "output_type": "stream",
     "text": [
      "Requirement already satisfied: mysql-connector-python in c:\\python311\\lib\\site-packages (8.1.0)\n",
      "Requirement already satisfied: protobuf<=4.21.12,>=4.21.1 in c:\\python311\\lib\\site-packages (from mysql-connector-python) (4.21.12)\n",
      "Note: you may need to restart the kernel to use updated packages.\n"
     ]
    }
   ],
   "source": [
    "pip install mysql-connector-python"
   ]
  },
  {
   "cell_type": "code",
   "execution_count": 17,
   "metadata": {},
   "outputs": [],
   "source": [
    "import mysql.connector\n",
    "from mysql.connector import Error\n",
    "from random import randint, choice, uniform\n",
    "from faker import Faker"
   ]
  },
  {
   "cell_type": "code",
   "execution_count": 18,
   "metadata": {},
   "outputs": [
    {
     "name": "stdout",
     "output_type": "stream",
     "text": [
      "Conexão ao banco de dados bem-sucedida.\n"
     ]
    }
   ],
   "source": [
    "db_config = {\n",
    "    'host': 'localhost',\n",
    "    'user': 'root',\n",
    "    'password': '22976738',\n",
    "    'database': 'Embraer2'\n",
    "}\n",
    "\n",
    "\n",
    "try:\n",
    "    connection = mysql.connector.connect(**db_config)\n",
    "    if connection.is_connected():\n",
    "        print(\"Conexão ao banco de dados bem-sucedida.\")   \n",
    "except mysql.connector.Error as e:\n",
    "    print(f\"Erro ao conectar ao banco de dados: {e}\")\n",
    "    \n",
    "    \n",
    "conn = mysql.connector.connect(**db_config)\n",
    "cursor = conn.cursor()\n"
   ]
  },
  {
   "cell_type": "code",
   "execution_count": 19,
   "metadata": {},
   "outputs": [],
   "source": [
    "\n",
    "# create_table_query_fornecedor = \"\"\" \n",
    "\n",
    "#   CREATE TABLE IF NOT EXISTS fornecedor(\n",
    "\n",
    "#     id INT AUTO_INCREMENT PRIMARY KEY,\n",
    "#     razao_social VARCHAR(50) NOT NULL,\n",
    "#     nome_fantasia VARCHAR(100) NOT NULL,\n",
    "#     inscricao_estadual VARCHAR(20) NOT NULL,\n",
    "#     cnpj VARCHAR(18) NOT NULL,\n",
    "#     endereco VARCHAR(200) NOT NULL, \n",
    "#     id_cidade INT NOT NULL,\n",
    "#     cep VARCHAR(15) NOT NULL,\n",
    "#     CONSTRAINT fk_id_cidade FOREIGN KEY (id_cidade) REFERENCES cidade(id)\n",
    "#   );\n",
    "# \"\"\"\n",
    "\n",
    "\n",
    "# cursor.execute(create_table_query_fornecedor)\n",
    "# conn.commit()\n"
   ]
  },
  {
   "cell_type": "code",
   "execution_count": 20,
   "metadata": {},
   "outputs": [
    {
     "name": "stdout",
     "output_type": "stream",
     "text": [
      "Conexão fechada com sucesso.\n"
     ]
    }
   ],
   "source": [
    "\n",
    "fake_us = Faker('en_US')\n",
    "\n",
    "fornecedores = ['General Electric', 'GE Aerospace', 'Pratt & Whitney', 'Sverdrup Steel', 'VSMPO-Avisma', 'Nippon Steel Corporation', 'ATI', 'TIMET(Precision Castparts Corp.)', 'CRS Holdings, LLC', 'Xinjiang New Material Co', 'Chaoyang Baisheng Source','JIUTA', 'TRONOX', 'SUPPLIER']\n",
    "cidade = ['1', '2', '3', '4']\n",
    "\n",
    "\n",
    "for _ in range(100):  \n",
    "    razao_social = fake.company()\n",
    "    nome_fantasia = choice(fornecedores)\n",
    "    inscricao_estadual = fake.random_int(min=100000, max=999999)\n",
    "    cnpj = fake.cnpj()\n",
    "    endereco = fake.street_address()\n",
    "    id_cidade = choice(cidade)\n",
    "    cep = fake.postcode()\n",
    "    \n",
    "\n",
    "    #print(f\"INSERT INTO fornecedor (razao_social, nome_fantasia, inscricao_estadual, cnpj, endereco, id_cidade, cep) VALUES ({id_value}, '{razao_social}', '{nome_fantasia}', '{inscricao_estadual}', '{cnpj}', '{endereco}', {id_cidade}, '{cep}');\")\n",
    "\n",
    "    insert_query = \"INSERT INTO fornecedor (razao_social, nome_fantasia, inscricao_estadual, cnpj, endereco, id_cidade, cep) VALUES (%s, %s, %s, %s, %s, %s, %s)\"\n",
    "    data = (razao_social, nome_fantasia, inscricao_estadual, cnpj, endereco, id_cidade, cep)\n",
    "    \n",
    "    \n",
    "    try:\n",
    "        cursor.execute(insert_query, data)\n",
    "        conn.commit()\n",
    "    except Exception as e:\n",
    "        print(f\"Erro ao inserir dados: {e}\")\n",
    "\n",
    "try:\n",
    "    cursor.close()\n",
    "    print(\"Conexão fechada com sucesso.\")\n",
    "    conn.close()\n",
    "except Exception as e:\n",
    "    print(f\"Erro ao fechar a conexão: {e}\")\n"
   ]
  },
  {
   "cell_type": "code",
   "execution_count": null,
   "metadata": {},
   "outputs": [],
   "source": []
  }
 ],
 "metadata": {
  "kernelspec": {
   "display_name": "Python 3",
   "language": "python",
   "name": "python3"
  },
  "language_info": {
   "codemirror_mode": {
    "name": "ipython",
    "version": 3
   },
   "file_extension": ".py",
   "mimetype": "text/x-python",
   "name": "python",
   "nbconvert_exporter": "python",
   "pygments_lexer": "ipython3",
   "version": "3.11.5"
  }
 },
 "nbformat": 4,
 "nbformat_minor": 2
}
