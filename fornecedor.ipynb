{
 "cells": [
  {
   "cell_type": "code",
   "execution_count": 58,
   "metadata": {},
   "outputs": [],
   "source": [
    "#pip install mysql-connector-python\n",
    "#python.exe -m pip install --upgrade pip"
   ]
  },
  {
   "cell_type": "code",
   "execution_count": 59,
   "metadata": {},
   "outputs": [],
   "source": [
    "import mysql.connector\n",
    "from mysql.connector import Error\n",
    "from random import randint, choice, uniform\n",
    "from faker import Faker\n",
    "import pandas as pd"
   ]
  },
  {
   "cell_type": "code",
   "execution_count": 60,
   "metadata": {},
   "outputs": [
    {
     "name": "stdout",
     "output_type": "stream",
     "text": [
      "Conexão ao banco de dados bem-sucedida.\n"
     ]
    }
   ],
   "source": [
    "db_config = {\n",
    "    'host': 'localhost',\n",
    "    'user': 'root',\n",
    "    'password': '22976738',\n",
    "    'database': 'custo_manutencao_estoque'\n",
    "}\n",
    "\n",
    "\n",
    "try:\n",
    "    connection = mysql.connector.connect(**db_config)\n",
    "    if connection.is_connected():\n",
    "        print(\"Conexão ao banco de dados bem-sucedida.\")   \n",
    "except mysql.connector.Error as e:\n",
    "    print(f\"Erro ao conectar ao banco de dados: {e}\")\n",
    "    \n",
    "    \n",
    "conn = mysql.connector.connect(**db_config)\n",
    "cursor = conn.cursor()\n"
   ]
  },
  {
   "cell_type": "code",
   "execution_count": 61,
   "metadata": {},
   "outputs": [],
   "source": [
    "\n",
    "create_table_query_fornecedor = \"\"\" \n",
    "\n",
    "  CREATE TABLE IF NOT EXISTS fornecedor(\n",
    "\n",
    "    id INT PRIMARY KEY AUTO_INCREMENT NOT NULL,\n",
    "    razao_social VARCHAR(50) NOT NULL,\n",
    "    nome_fantasia VARCHAR(100) NOT NULL,\n",
    "    inscricao_local INT NOT NULL, \n",
    "    cnpj VARCHAR(18) NOT NULL,\n",
    "    endereco VARCHAR(200) NOT NULL,\n",
    "    email  VARCHAR(50) NOT NULL,\n",
    "    cel VARCHAR(20) NOT NULL,\n",
    "    responsavel VARCHAR(50) NOT NULL,\n",
    "    cep VARCHAR(20) NOT NULL\n",
    "  );\n",
    "\"\"\"\n",
    "#FSN- Codigo de Inscrição Russia\n",
    "cursor.execute(create_table_query_fornecedor)\n",
    "conn.commit()\n"
   ]
  },
  {
   "cell_type": "code",
   "execution_count": 62,
   "metadata": {},
   "outputs": [
    {
     "name": "stdout",
     "output_type": "stream",
     "text": [
      "Conexão fechada com sucesso.\n"
     ]
    }
   ],
   "source": [
    "import pandas as pd\n",
    "from faker import Faker\n",
    "\n",
    "df_fornecedor = pd.read_excel('C:/Users/user/Documents/GitHub/EMBRAER--Custo-Manutencao-de-Estoque-/DadosAleatoriosGeral.xlsx',  sheet_name='dimFornecedor')\n",
    "df_fornecedor2 = pd.read_excel('C:/Users/user/Documents/GitHub/EMBRAER--Custo-Manutencao-de-Estoque-/dados_kardex.xlsx', sheet_name='fornecedor')\n",
    "df_cidades = pd.read_excel('C:/Users/user/Documents/GitHub/EMBRAER--Custo-Manutencao-de-Estoque-/dados_kardex.xlsx', sheet_name='cidades')\n",
    "\n",
    "\n",
    "fake_us = Faker('en_US')\n",
    "fake = Faker('pt_BR')\n",
    "\n",
    "for id in range(len(df_fornecedor)):\n",
    "    nome_fantasia = df_fornecedor.loc[id, 'fantasia']\n",
    "    razao_social = df_fornecedor.loc[id, 'razao']\n",
    "    inscricao_local = int(fake.random_int(min=100, max=9999))\n",
    "    cnpj = fake.cnpj()\n",
    "    endereco = df_fornecedor2.loc[id, 'endereco']\n",
    "    email = df_fornecedor2.loc[id, 'email']\n",
    "    cel = df_fornecedor2.loc[id, 'contato']\n",
    "    responsavel = fake_us.name()\n",
    "    cep = fake_us.postcode()\n",
    "    \n",
    "\n",
    "    insert_query = \"\"\"\n",
    "        INSERT INTO fornecedor (\n",
    "            razao_social, nome_fantasia, inscricao_local, cnpj, endereco,\n",
    "            email, cel, responsavel, cep\n",
    "        ) VALUES (%s, %s, %s, %s, %s, %s, %s, %s, %s)\n",
    "    \"\"\"\n",
    "    data = (\n",
    "        razao_social, nome_fantasia, inscricao_local, cnpj, endereco,\n",
    "        email, cel, responsavel,cep\n",
    "    )\n",
    "     \n",
    "    try:\n",
    "        cursor.execute(insert_query, data)\n",
    "        conn.commit()\n",
    "    except Exception as e:\n",
    "        print(f\"Erro ao inserir dados: {e}\")\n",
    "\n",
    "try:\n",
    "    cursor.close()\n",
    "    print(\"Conexão fechada com sucesso.\")\n",
    "    conn.close()\n",
    "except Exception as e:\n",
    "    print(f\"Erro ao fechar a conexão: {e}\")\n"
   ]
  },
  {
   "cell_type": "code",
   "execution_count": null,
   "metadata": {},
   "outputs": [],
   "source": []
  }
 ],
 "metadata": {
  "kernelspec": {
   "display_name": "Python 3",
   "language": "python",
   "name": "python3"
  },
  "language_info": {
   "codemirror_mode": {
    "name": "ipython",
    "version": 3
   },
   "file_extension": ".py",
   "mimetype": "text/x-python",
   "name": "python",
   "nbconvert_exporter": "python",
   "pygments_lexer": "ipython3",
   "version": "3.11.5"
  }
 },
 "nbformat": 4,
 "nbformat_minor": 2
}
