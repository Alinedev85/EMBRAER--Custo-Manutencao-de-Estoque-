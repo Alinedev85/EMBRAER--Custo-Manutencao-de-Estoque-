{
 "cells": [
  {
   "cell_type": "code",
   "execution_count": 1,
   "metadata": {},
   "outputs": [
    {
     "name": "stdout",
     "output_type": "stream",
     "text": [
      "Requirement already satisfied: mysql-connector-python in c:\\python311\\lib\\site-packages (8.1.0)\n",
      "Requirement already satisfied: protobuf<=4.21.12,>=4.21.1 in c:\\python311\\lib\\site-packages (from mysql-connector-python) (4.21.12)\n",
      "Note: you may need to restart the kernel to use updated packages.\n"
     ]
    }
   ],
   "source": [
    "pip install mysql-connector-python"
   ]
  },
  {
   "cell_type": "code",
   "execution_count": 2,
   "metadata": {},
   "outputs": [],
   "source": [
    "import mysql.connector\n",
    "from mysql.connector import Error\n",
    "from random import randint, choice, uniform\n",
    "from faker import Faker"
   ]
  },
  {
   "cell_type": "code",
   "execution_count": null,
   "metadata": {},
   "outputs": [],
   "source": [
    "db_config = {\n",
    "    'host': 'localhost',\n",
    "    'user': 'root',\n",
    "    'password': '22976738',\n",
    "    'database': 'projeto'\n",
    "}\n",
    "\n",
    "\n",
    "try:\n",
    "    connection = mysql.connector.connect(**db_config)\n",
    "    if connection.is_connected():\n",
    "        print(\"Conexão ao banco de dados bem-sucedida.\")   \n",
    "except mysql.connector.Error as e:\n",
    "    print(f\"Erro ao conectar ao banco de dados: {e}\")\n",
    "    \n",
    "    \n",
    "conn = mysql.connector.connect(**db_config)\n",
    "cursor = conn.cursor()\n"
   ]
  },
  {
   "cell_type": "code",
   "execution_count": null,
   "metadata": {},
   "outputs": [],
   "source": [
    "#  create_table_query_deposito = \"\"\"\n",
    "#    create table fornecedor(\n",
    "#    id int primary key not null, \n",
    "#    razao_social varchar(50) not null,\n",
    "#    nome_fantasia varchar(50) not null,\n",
    "#    inscricao_estadual varchar (20) not null,\n",
    "#    cnpj varchar(18) not null,\n",
    "#    endereco varchar(200) not null, \n",
    "#    id_cidade int not null,\n",
    "#    cep varchar(15) not null,\n",
    "#    constraint codigo_cidade foreign key\n",
    "#    id_cidade) references cidade(id)\n",
    "#  );\n",
    "# \"\"\"\n",
    "\n",
    "# # cursor.execute(create_table_query_deposito)\n",
    "# # conn.commit("
   ]
  },
  {
   "cell_type": "code",
   "execution_count": 17,
   "metadata": {},
   "outputs": [
    {
     "name": "stdout",
     "output_type": "stream",
     "text": [
      "INSERT INTO fornecedor (razao_social, nome_fantasia, inscricao_estadual, cnpj, endereco, id_cidade, cep, pais) VALUES ('o que colocar?', 'GE Aerospace', '826387', '04.517.639/0001-08', 'script2', USA, '1-513-563-4180');\n",
      "Erro ao inserir dados: name 'cursor' is not defined\n",
      "INSERT INTO fornecedor (razao_social, nome_fantasia, inscricao_estadual, cnpj, endereco, id_cidade, cep, pais) VALUES ('o que colocar?', 'General Electric (GE- Brasil)', '393060', '63.719.054/0001-21', 'i', USA, '1-513-563-4180');\n",
      "Erro ao inserir dados: name 'cursor' is not defined\n",
      "INSERT INTO fornecedor (razao_social, nome_fantasia, inscricao_estadual, cnpj, endereco, id_cidade, cep, pais) VALUES ('o que colocar?', 'General Electric (GE- Brasil)', '845452', '56.234.897/0001-72', 'i', USA, '1-513-563-4180');\n",
      "Erro ao inserir dados: name 'cursor' is not defined\n",
      "INSERT INTO fornecedor (razao_social, nome_fantasia, inscricao_estadual, cnpj, endereco, id_cidade, cep, pais) VALUES ('o que colocar?', 'General Electric (GE- Brasil)', '158193', '61.578.294/0001-28', 'i', USA, '05425-070');\n",
      "Erro ao inserir dados: name 'cursor' is not defined\n",
      "INSERT INTO fornecedor (razao_social, nome_fantasia, inscricao_estadual, cnpj, endereco, id_cidade, cep, pais) VALUES ('o que colocar?', 'GE Aerospace', '177126', '47.596.238/0001-95', 'i', USA, '05425-070');\n",
      "Erro ao inserir dados: name 'cursor' is not defined\n",
      "Erro ao fechar a conexão: name 'cursor' is not defined\n"
     ]
    }
   ],
   "source": [
    "fake = Faker('pt_BR')\n",
    "\n",
    "fornecedores = ['General Electric (GE- Brasil)', 'GE Aerospace', 'Pratt & Whitney']\n",
    "endereco = ['Av. das Nacoes Unidas 8501, 2º Andar', 'script2', 'script2' ]\n",
    "cidade = ['São Paulo, SP', 'USA']\n",
    "correios = ['05425-070', '1-513-563-4180']\n",
    "xxiiii = [ 'o que colocar?']\n",
    "\n",
    "for _ in range(5):  \n",
    "    razao_social = choice(xxiiii)\n",
    "    nome_fantasia = choice(fornecedores)\n",
    "    inscricao_estadual = fake.random_int(min=100000, max=999999)\n",
    "    cnpj = fake.cnpj()\n",
    "    endereco = choice(endereco)\n",
    "    id_cidade = choice(cidade)\n",
    "    cep = choice(correios)\n",
    "    \n",
    "    print(f\"INSERT INTO fornecedor (razao_social, nome_fantasia, inscricao_estadual, cnpj, endereco, id_cidade, cep, pais) VALUES ('{razao_social}', '{nome_fantasia}', '{inscricao_estadual}', '{cnpj}', '{endereco}', {id_cidade}, '{cep}');\")\n",
    "\n",
    "    insert_query = \"INSERT INTO fornecedor (razao_social, nome_fantasia, inscricao_estadual, cnpj, endereco, cidade, estado, id_cidade, cep) VALUES (%s, %s, %s, %s, %s, %s, %s, %s, %s)\"\n",
    "    data = (razao_social, nome_fantasia, inscricao_estadual, cnpj, endereco_fornecedor, cidade_fornecedor, estado_fornecedor, id_cidade, cep_fornecedor)\n",
    "    \n",
    "    try:\n",
    "        cursor.execute(insert_query, data)\n",
    "        conn.commit()\n",
    "    except Exception as e:\n",
    "        print(f\"Erro ao inserir dados: {e}\")\n",
    "\n",
    "\n",
    "\n",
    "\n",
    "try:\n",
    "    cursor.close()\n",
    "    print(\"Conexão fechada com sucesso.\")\n",
    "    conn.close()\n",
    "except Exception as e:\n",
    "    print(f\"Erro ao fechar a conexão: {e}\")\n",
    "\n",
    "\n",
    "\n",
    "    \n",
    "    "
   ]
  }
 ],
 "metadata": {
  "kernelspec": {
   "display_name": "Python 3",
   "language": "python",
   "name": "python3"
  },
  "language_info": {
   "codemirror_mode": {
    "name": "ipython",
    "version": 3
   },
   "file_extension": ".py",
   "mimetype": "text/x-python",
   "name": "python",
   "nbconvert_exporter": "python",
   "pygments_lexer": "ipython3",
   "version": "3.11.5"
  }
 },
 "nbformat": 4,
 "nbformat_minor": 2
}
